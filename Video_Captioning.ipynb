{
  "cells": [
    {
      "cell_type": "code",
      "execution_count": 1,
      "metadata": {
        "colab": {
          "base_uri": "https://localhost:8080/"
        },
        "id": "A7rnLMcdczLu",
        "outputId": "8abd91bd-1912-494c-ccd5-19b1076a9093"
      },
      "outputs": [
        {
          "output_type": "stream",
          "name": "stdout",
          "text": [
            "Looking in indexes: https://pypi.org/simple, https://us-python.pkg.dev/colab-wheels/public/simple/\n",
            "Collecting config\n",
            "  Downloading config-0.5.1-py2.py3-none-any.whl (20 kB)\n",
            "Installing collected packages: config\n",
            "Successfully installed config-0.5.1\n"
          ]
        }
      ],
      "source": [
        "!pip install config"
      ]
    },
    {
      "cell_type": "code",
      "execution_count": 72,
      "metadata": {
        "id": "cqjQKo9_30Vd",
        "colab": {
          "base_uri": "https://localhost:8080/"
        },
        "outputId": "098e6ff5-923d-4fdd-a537-e29b604a4ab4"
      },
      "outputs": [
        {
          "output_type": "stream",
          "name": "stdout",
          "text": [
            "Looking in indexes: https://pypi.org/simple, https://us-python.pkg.dev/colab-wheels/public/simple/\n",
            "Collecting imageio-ffmpeg\n",
            "  Downloading imageio_ffmpeg-0.4.7-py3-none-manylinux2010_x86_64.whl (26.9 MB)\n",
            "\u001b[K     |████████████████████████████████| 26.9 MB 1.3 MB/s \n",
            "\u001b[?25hInstalling collected packages: imageio-ffmpeg\n",
            "Successfully installed imageio-ffmpeg-0.4.7\n"
          ]
        }
      ],
      "source": [
        "!pip install imageio-ffmpeg"
      ]
    },
    {
      "cell_type": "code",
      "execution_count": 2,
      "metadata": {
        "colab": {
          "base_uri": "https://localhost:8080/"
        },
        "id": "rGdNDITEWHBl",
        "outputId": "96e973e2-44f5-4115-dedc-bb955e2c3fd5"
      },
      "outputs": [
        {
          "output_type": "stream",
          "name": "stdout",
          "text": [
            "Mounted at /content/drive\n"
          ]
        }
      ],
      "source": [
        "from google.colab import drive\n",
        "drive.mount('/content/drive')"
      ]
    },
    {
      "cell_type": "markdown",
      "metadata": {
        "id": "8amwCjFa2Z9c"
      },
      "source": [
        "Importing all the libraries required"
      ]
    },
    {
      "cell_type": "code",
      "execution_count": 73,
      "metadata": {
        "id": "q8umuJMYcopD"
      },
      "outputs": [],
      "source": [
        "import glob\n",
        "import shutil\n",
        "import cv2\n",
        "import json\n",
        "import random\n",
        "import config\n",
        "import joblib\n",
        "import time\n",
        "import os, sys\n",
        "import datetime\n",
        "import keras\n",
        "import imageio\n",
        "import pandas as pd\n",
        "import seaborn as sns\n",
        "import numpy as np\n",
        "import matplotlib.pyplot as plt\n",
        "import tensorflow as tf\n",
        "import pickle, functools, operator\n",
        "from tqdm.notebook import tqdm\n",
        "from nltk import FreqDist\n",
        "from nltk.translate.bleu_score import corpus_bleu\n",
        "from nltk.translate.bleu_score import sentence_bleu\n",
        "\n",
        "from tensorflow.keras.applications.vgg16 import VGG16\n",
        "from tensorflow.keras.models import Model\n",
        "from tensorflow.keras.models import save_model\n",
        "from tensorflow.keras.models import load_model\n",
        "\n",
        "from keras.preprocessing.text import Tokenizer\n",
        "from keras.preprocessing.sequence import pad_sequences\n",
        "from tensorflow.keras.utils import to_categorical\n",
        "from keras.callbacks import EarlyStopping, ModelCheckpoint\n",
        "from keras.utils.vis_utils import plot_model\n",
        "from keras.layers import Input, LSTM, Dense\n",
        "from keras.models import Model, load_model\n",
        "\n",
        "from PIL import Image, ImageSequence\n"
      ]
    },
    {
      "cell_type": "markdown",
      "metadata": {
        "id": "I_KTBktZ6e3L"
      },
      "source": [
        "Feature Extraction"
      ]
    },
    {
      "cell_type": "code",
      "execution_count": null,
      "metadata": {
        "id": "_hK5VhUDevqz"
      },
      "outputs": [],
      "source": [
        "config.test_path=\"/content/drive/MyDrive/YouTubeClips \"#containing all the videos in the avi format in the avi folder"
      ]
    },
    {
      "cell_type": "code",
      "execution_count": null,
      "metadata": {
        "id": "7YRHowWFctJ3"
      },
      "outputs": [],
      "source": [
        "# Conversion of videos into image frames\n",
        "def video_to_frames(video):\n",
        "    path = os.path.join(config.test_path, 'temporary_images')\n",
        "    if os.path.exists(path):\n",
        "        shutil.rmtree(path)\n",
        "    os.makedirs(path)\n",
        "    video_path = os.path.join(config.test_path, 'video', video)\n",
        "    count = 0\n",
        "    image_list = []\n",
        "    # Path to video file\n",
        "    cap = cv2.VideoCapture(video_path)\n",
        "    while cap.isOpened():\n",
        "        ret, frame = cap.read()\n",
        "        if ret is False:\n",
        "            break\n",
        "        cv2.imwrite(os.path.join(config.test_path, 'temporary_images', 'frame%d.jpg' % count), frame)\n",
        "        image_list.append(os.path.join(config.test_path, 'temporary_images', 'frame%d.jpg' % count))\n",
        "        count += 1\n",
        "\n",
        "    cap.release()\n",
        "    cv2.destroyAllWindows()\n",
        "    return image_list"
      ]
    },
    {
      "cell_type": "code",
      "execution_count": null,
      "metadata": {
        "id": "YK8YZ5k5c6vq"
      },
      "outputs": [],
      "source": [
        "# Loading the VGG16 model\n",
        "def model_cnn_load():\n",
        "    model = VGG16(weights=\"imagenet\", include_top=True, input_shape=(224, 224, 3))\n",
        "    out = model.layers[-2].output\n",
        "    model_final = Model(inputs=model.input, outputs=out)\n",
        "    return model_final"
      ]
    },
    {
      "cell_type": "code",
      "execution_count": null,
      "metadata": {
        "id": "xeAbSH0MdATe"
      },
      "outputs": [],
      "source": [
        "# Resizing the images\n",
        "def load_image(path):\n",
        "    img = cv2.imread(path)\n",
        "    img = cv2.resize(img, (224, 224))\n",
        "    return img"
      ]
    },
    {
      "cell_type": "code",
      "execution_count": null,
      "metadata": {
        "id": "yW02vWfcdDI-"
      },
      "outputs": [],
      "source": [
        "# Feature extraction of the videos using the VGG16 model\n",
        "def extract_features(video, model):\n",
        "    \"\"\"\n",
        "    video: The video whose frames are to be extracted to convert into a numpy array\n",
        "    model: the pretrained vgg16 model\n",
        "    return: numpy array of size 4096x80\n",
        "    \"\"\"\n",
        "    video_id = video.split(\".\")[0]\n",
        "    print(video_id)\n",
        "    print(f'Processing video {video}')\n",
        "\n",
        "    image_list = video_to_frames(video)\n",
        "    samples = np.round(np.linspace(\n",
        "        0, len(image_list) - 1, 80))\n",
        "    image_list = [image_list[int(sample)] for sample in samples]\n",
        "    images = np.zeros((len(image_list), 224, 224, 3))\n",
        "    for i in range(len(image_list)):\n",
        "        img = load_image(image_list[i])\n",
        "        images[i] = img\n",
        "    images = np.array(images)\n",
        "    fc_feats = model.predict(images, batch_size=128)\n",
        "    img_feats = np.array(fc_feats)\n",
        "    # cleanup of the image frames folder\n",
        "    shutil.rmtree(os.path.join(config.test_path, 'temporary_images'))\n",
        "    return img_feats"
      ]
    },
    {
      "cell_type": "code",
      "execution_count": null,
      "metadata": {
        "id": "1I_GTtyFdITo"
      },
      "outputs": [],
      "source": [
        "# Feature Extraction of the all the videos \n",
        "def extract_feats_pretrained_cnn():\n",
        "    \"\"\"\n",
        "    saves the numpy features from all the videos\n",
        "    \"\"\"\n",
        "    model = model_cnn_load()\n",
        "    print('Model loaded')\n",
        "\n",
        "    if not os.path.isdir(os.path.join(config.test_path, 'feat')):\n",
        "      os.mkdir(os.path.join(config.test_path, 'feat'))\n",
        "\n",
        "    video_list = glob.glob(os.path.join(config.test_path,'*.avi'))\n",
        "    for video in video_list:\n",
        "      outfile = os.path.join(config.test_path,'feat', video.split(\".\")[0] + '.npy')\n",
        "      img_feats = extract_features(video, model)\n",
        "      np.save(outfile, img_feats)"
      ]
    },
    {
      "cell_type": "code",
      "execution_count": null,
      "metadata": {
        "colab": {
          "base_uri": "https://localhost:8080/"
        },
        "id": "6uk-SRDUdVAB",
        "outputId": "541211b8-da93-4d8a-b20f-725a62cb2af2"
      },
      "outputs": [
        {
          "name": "stdout",
          "output_type": "stream",
          "text": [
            "Downloading data from https://storage.googleapis.com/tensorflow/keras-applications/vgg16/vgg16_weights_tf_dim_ordering_tf_kernels.h5\n",
            "553467904/553467096 [==============================] - 10s 0us/step\n",
            "553476096/553467096 [==============================] - 10s 0us/step\n",
            "Model loaded\n",
            "/content/drive/MyDrive/YouTubeClips /avi/jbzaMtPYtl8_48_58\n",
            "Processing video /content/drive/MyDrive/YouTubeClips /avi/jbzaMtPYtl8_48_58.avi\n",
            "/content/drive/MyDrive/YouTubeClips /avi/jCplbayVbtw_10_20\n",
            "Processing video /content/drive/MyDrive/YouTubeClips /avi/jCplbayVbtw_10_20.avi\n",
            "/content/drive/MyDrive/YouTubeClips /avi/FGjtmhI-Rmk_30_37\n",
            "Processing video /content/drive/MyDrive/YouTubeClips /avi/FGjtmhI-Rmk_30_37.avi\n",
            "/content/drive/MyDrive/YouTubeClips /avi/bLqmf8x7rLI_2_8\n",
            "Processing video /content/drive/MyDrive/YouTubeClips /avi/bLqmf8x7rLI_2_8.avi\n",
            "/content/drive/MyDrive/YouTubeClips /avi/0sUL0KCIc48_15_25\n",
            "Processing video /content/drive/MyDrive/YouTubeClips /avi/0sUL0KCIc48_15_25.avi\n",
            "/content/drive/MyDrive/YouTubeClips /avi/EpMuCrbxE8A_107_115\n",
            "Processing video /content/drive/MyDrive/YouTubeClips /avi/EpMuCrbxE8A_107_115.avi\n",
            "/content/drive/MyDrive/YouTubeClips /avi/lexLAjh8fPA_27_31\n",
            "Processing video /content/drive/MyDrive/YouTubeClips /avi/lexLAjh8fPA_27_31.avi\n",
            "/content/drive/MyDrive/YouTubeClips /avi/m4D72WXFd8s_557_564\n",
            "Processing video /content/drive/MyDrive/YouTubeClips /avi/m4D72WXFd8s_557_564.avi\n",
            "/content/drive/MyDrive/YouTubeClips /avi/UXs3eq68ZjE_280_285\n",
            "Processing video /content/drive/MyDrive/YouTubeClips /avi/UXs3eq68ZjE_280_285.avi\n",
            "/content/drive/MyDrive/YouTubeClips /avi/_xf24TYgbuY_14_20\n",
            "Processing video /content/drive/MyDrive/YouTubeClips /avi/_xf24TYgbuY_14_20.avi\n",
            "/content/drive/MyDrive/YouTubeClips /avi/CHFXTeQWXjo_206_212\n",
            "Processing video /content/drive/MyDrive/YouTubeClips /avi/CHFXTeQWXjo_206_212.avi\n",
            "/content/drive/MyDrive/YouTubeClips /avi/YEmS8ZQIhTA_7_20\n",
            "Processing video /content/drive/MyDrive/YouTubeClips /avi/YEmS8ZQIhTA_7_20.avi\n",
            "/content/drive/MyDrive/YouTubeClips /avi/9LOJmQQktHA_10_18\n",
            "Processing video /content/drive/MyDrive/YouTubeClips /avi/9LOJmQQktHA_10_18.avi\n",
            "/content/drive/MyDrive/YouTubeClips /avi/onW5hJXnI5s_10_16\n",
            "Processing video /content/drive/MyDrive/YouTubeClips /avi/onW5hJXnI5s_10_16.avi\n",
            "/content/drive/MyDrive/YouTubeClips /avi/TgFmoZj3NoM_10_18\n",
            "Processing video /content/drive/MyDrive/YouTubeClips /avi/TgFmoZj3NoM_10_18.avi\n",
            "/content/drive/MyDrive/YouTubeClips /avi/IiIiY6o-C9k_59_64\n",
            "Processing video /content/drive/MyDrive/YouTubeClips /avi/IiIiY6o-C9k_59_64.avi\n",
            "/content/drive/MyDrive/YouTubeClips /avi/ao-9B8IV9_E_217_221\n",
            "Processing video /content/drive/MyDrive/YouTubeClips /avi/ao-9B8IV9_E_217_221.avi\n",
            "/content/drive/MyDrive/YouTubeClips /avi/sMscRb9TcQE_146_161\n",
            "Processing video /content/drive/MyDrive/YouTubeClips /avi/sMscRb9TcQE_146_161.avi\n",
            "/content/drive/MyDrive/YouTubeClips /avi/ok4cM6WTA5E_178_184\n",
            "Processing video /content/drive/MyDrive/YouTubeClips /avi/ok4cM6WTA5E_178_184.avi\n",
            "/content/drive/MyDrive/YouTubeClips /avi/q8t7iSGAKik_57_74\n",
            "Processing video /content/drive/MyDrive/YouTubeClips /avi/q8t7iSGAKik_57_74.avi\n",
            "/content/drive/MyDrive/YouTubeClips /avi/gCra4qOrjFw_1_17\n",
            "Processing video /content/drive/MyDrive/YouTubeClips /avi/gCra4qOrjFw_1_17.avi\n",
            "/content/drive/MyDrive/YouTubeClips /avi/LwvyrDxM2G0_0_11\n",
            "Processing video /content/drive/MyDrive/YouTubeClips /avi/LwvyrDxM2G0_0_11.avi\n",
            "/content/drive/MyDrive/YouTubeClips /avi/rw9h_574HxE_251_254\n",
            "Processing video /content/drive/MyDrive/YouTubeClips /avi/rw9h_574HxE_251_254.avi\n",
            "/content/drive/MyDrive/YouTubeClips /avi/4z3b4mnw5y4_56_60\n",
            "Processing video /content/drive/MyDrive/YouTubeClips /avi/4z3b4mnw5y4_56_60.avi\n",
            "/content/drive/MyDrive/YouTubeClips /avi/ItFqogTmAvQ_361_365\n",
            "Processing video /content/drive/MyDrive/YouTubeClips /avi/ItFqogTmAvQ_361_365.avi\n",
            "/content/drive/MyDrive/YouTubeClips /avi/FCjpuJaUec0_19_26\n",
            "Processing video /content/drive/MyDrive/YouTubeClips /avi/FCjpuJaUec0_19_26.avi\n",
            "/content/drive/MyDrive/YouTubeClips /avi/BVjvRpmHg0w_47_51\n",
            "Processing video /content/drive/MyDrive/YouTubeClips /avi/BVjvRpmHg0w_47_51.avi\n",
            "/content/drive/MyDrive/YouTubeClips /avi/bxDlC7YV5is_0_12\n",
            "Processing video /content/drive/MyDrive/YouTubeClips /avi/bxDlC7YV5is_0_12.avi\n",
            "/content/drive/MyDrive/YouTubeClips /avi/D9I1Z6O_mbw_141_146\n",
            "Processing video /content/drive/MyDrive/YouTubeClips /avi/D9I1Z6O_mbw_141_146.avi\n",
            "/content/drive/MyDrive/YouTubeClips /avi/Aa7yf9XtcJM_45_50\n",
            "Processing video /content/drive/MyDrive/YouTubeClips /avi/Aa7yf9XtcJM_45_50.avi\n",
            "/content/drive/MyDrive/YouTubeClips /avi/gp8XjWSoP2k_0_10\n",
            "Processing video /content/drive/MyDrive/YouTubeClips /avi/gp8XjWSoP2k_0_10.avi\n",
            "/content/drive/MyDrive/YouTubeClips /avi/msCidKHOh74_392_399\n",
            "Processing video /content/drive/MyDrive/YouTubeClips /avi/msCidKHOh74_392_399.avi\n",
            "/content/drive/MyDrive/YouTubeClips /avi/s20OlIRK340_147_174\n",
            "Processing video /content/drive/MyDrive/YouTubeClips /avi/s20OlIRK340_147_174.avi\n",
            "/content/drive/MyDrive/YouTubeClips /avi/YUlG_PKzpvc_0_8\n",
            "Processing video /content/drive/MyDrive/YouTubeClips /avi/YUlG_PKzpvc_0_8.avi\n",
            "/content/drive/MyDrive/YouTubeClips /avi/mfJjIOfj6D8_3_10\n",
            "Processing video /content/drive/MyDrive/YouTubeClips /avi/mfJjIOfj6D8_3_10.avi\n",
            "/content/drive/MyDrive/YouTubeClips /avi/77iDIp40m9E_159_181\n",
            "Processing video /content/drive/MyDrive/YouTubeClips /avi/77iDIp40m9E_159_181.avi\n",
            "/content/drive/MyDrive/YouTubeClips /avi/4Tn5S48sCwg_110_118\n",
            "Processing video /content/drive/MyDrive/YouTubeClips /avi/4Tn5S48sCwg_110_118.avi\n",
            "/content/drive/MyDrive/YouTubeClips /avi/aN0WsBcja_E_0_15\n",
            "Processing video /content/drive/MyDrive/YouTubeClips /avi/aN0WsBcja_E_0_15.avi\n",
            "/content/drive/MyDrive/YouTubeClips /avi/ufFT2BWh3BQ_0_8\n",
            "Processing video /content/drive/MyDrive/YouTubeClips /avi/ufFT2BWh3BQ_0_8.avi\n",
            "/content/drive/MyDrive/YouTubeClips /avi/c76tShLfQb0_74_81\n",
            "Processing video /content/drive/MyDrive/YouTubeClips /avi/c76tShLfQb0_74_81.avi\n",
            "/content/drive/MyDrive/YouTubeClips /avi/BOLKaQeB6j0_101_111\n",
            "Processing video /content/drive/MyDrive/YouTubeClips /avi/BOLKaQeB6j0_101_111.avi\n",
            "/content/drive/MyDrive/YouTubeClips /avi/PHDmVhShE80_36_46\n",
            "Processing video /content/drive/MyDrive/YouTubeClips /avi/PHDmVhShE80_36_46.avi\n",
            "/content/drive/MyDrive/YouTubeClips /avi/INDhUwDMg-4_220_227\n",
            "Processing video /content/drive/MyDrive/YouTubeClips /avi/INDhUwDMg-4_220_227.avi\n",
            "/content/drive/MyDrive/YouTubeClips /avi/r0E-0ntoNWo_20_30\n",
            "Processing video /content/drive/MyDrive/YouTubeClips /avi/r0E-0ntoNWo_20_30.avi\n",
            "/content/drive/MyDrive/YouTubeClips /avi/mCrRHP4LFmo_24_40\n",
            "Processing video /content/drive/MyDrive/YouTubeClips /avi/mCrRHP4LFmo_24_40.avi\n",
            "/content/drive/MyDrive/YouTubeClips /avi/3_51FhosiVY_93_101\n",
            "Processing video /content/drive/MyDrive/YouTubeClips /avi/3_51FhosiVY_93_101.avi\n",
            "/content/drive/MyDrive/YouTubeClips /avi/4JVpbYmqfcI_5_19\n",
            "Processing video /content/drive/MyDrive/YouTubeClips /avi/4JVpbYmqfcI_5_19.avi\n",
            "/content/drive/MyDrive/YouTubeClips /avi/PeUHy0A1GF0_99_103\n",
            "Processing video /content/drive/MyDrive/YouTubeClips /avi/PeUHy0A1GF0_99_103.avi\n",
            "/content/drive/MyDrive/YouTubeClips /avi/DB-3-TVjrxU_58_75\n",
            "Processing video /content/drive/MyDrive/YouTubeClips /avi/DB-3-TVjrxU_58_75.avi\n",
            "/content/drive/MyDrive/YouTubeClips /avi/0hyZ__3YhZc_598_603\n",
            "Processing video /content/drive/MyDrive/YouTubeClips /avi/0hyZ__3YhZc_598_603.avi\n",
            "/content/drive/MyDrive/YouTubeClips /avi/g2IYQq7IkXc_124_132\n",
            "Processing video /content/drive/MyDrive/YouTubeClips /avi/g2IYQq7IkXc_124_132.avi\n",
            "/content/drive/MyDrive/YouTubeClips /avi/gHyXstpe_N8_140_150\n",
            "Processing video /content/drive/MyDrive/YouTubeClips /avi/gHyXstpe_N8_140_150.avi\n",
            "/content/drive/MyDrive/YouTubeClips /avi/u_6tre9_99Q_13_25\n",
            "Processing video /content/drive/MyDrive/YouTubeClips /avi/u_6tre9_99Q_13_25.avi\n",
            "/content/drive/MyDrive/YouTubeClips /avi/6GJ1DNOGDAM_223_233\n",
            "Processing video /content/drive/MyDrive/YouTubeClips /avi/6GJ1DNOGDAM_223_233.avi\n",
            "/content/drive/MyDrive/YouTubeClips /avi/kWLNZzuo3do_192_196\n",
            "Processing video /content/drive/MyDrive/YouTubeClips /avi/kWLNZzuo3do_192_196.avi\n",
            "/content/drive/MyDrive/YouTubeClips /avi/1N_Ic2pBM1o_2_23\n",
            "Processing video /content/drive/MyDrive/YouTubeClips /avi/1N_Ic2pBM1o_2_23.avi\n",
            "/content/drive/MyDrive/YouTubeClips /avi/UbmZAe5u5FI_44_55\n",
            "Processing video /content/drive/MyDrive/YouTubeClips /avi/UbmZAe5u5FI_44_55.avi\n",
            "/content/drive/MyDrive/YouTubeClips /avi/UbmZAe5u5FI_36_40\n",
            "Processing video /content/drive/MyDrive/YouTubeClips /avi/UbmZAe5u5FI_36_40.avi\n",
            "/content/drive/MyDrive/YouTubeClips /avi/o4pL7FObqds_243_263\n",
            "Processing video /content/drive/MyDrive/YouTubeClips /avi/o4pL7FObqds_243_263.avi\n",
            "/content/drive/MyDrive/YouTubeClips /avi/WPG-BIWOrG4_608_613\n",
            "Processing video /content/drive/MyDrive/YouTubeClips /avi/WPG-BIWOrG4_608_613.avi\n",
            "/content/drive/MyDrive/YouTubeClips /avi/Zg0p5TXi_Cc_30_46\n",
            "Processing video /content/drive/MyDrive/YouTubeClips /avi/Zg0p5TXi_Cc_30_46.avi\n",
            "/content/drive/MyDrive/YouTubeClips /avi/IpHJffM3G1c_412_418\n",
            "Processing video /content/drive/MyDrive/YouTubeClips /avi/IpHJffM3G1c_412_418.avi\n",
            "/content/drive/MyDrive/YouTubeClips /avi/fr9H1WLcF1A_256_261\n",
            "Processing video /content/drive/MyDrive/YouTubeClips /avi/fr9H1WLcF1A_256_261.avi\n",
            "/content/drive/MyDrive/YouTubeClips /avi/Lr8ds5iY5uk_8_15\n",
            "Processing video /content/drive/MyDrive/YouTubeClips /avi/Lr8ds5iY5uk_8_15.avi\n",
            "/content/drive/MyDrive/YouTubeClips /avi/FoL7aWvpvNs_199_204\n",
            "Processing video /content/drive/MyDrive/YouTubeClips /avi/FoL7aWvpvNs_199_204.avi\n",
            "/content/drive/MyDrive/YouTubeClips /avi/g8LUhxR-6Wg_0_8\n",
            "Processing video /content/drive/MyDrive/YouTubeClips /avi/g8LUhxR-6Wg_0_8.avi\n",
            "/content/drive/MyDrive/YouTubeClips /avi/nZSFn51l3hc_318_326\n",
            "Processing video /content/drive/MyDrive/YouTubeClips /avi/nZSFn51l3hc_318_326.avi\n",
            "/content/drive/MyDrive/YouTubeClips /avi/WTf5EgVY5uU_16_24\n",
            "Processing video /content/drive/MyDrive/YouTubeClips /avi/WTf5EgVY5uU_16_24.avi\n",
            "/content/drive/MyDrive/YouTubeClips /avi/KPPCwmU5OHQ_56_62\n",
            "Processing video /content/drive/MyDrive/YouTubeClips /avi/KPPCwmU5OHQ_56_62.avi\n",
            "/content/drive/MyDrive/YouTubeClips /avi/2YhDTpzxd3c_223_232\n",
            "Processing video /content/drive/MyDrive/YouTubeClips /avi/2YhDTpzxd3c_223_232.avi\n",
            "/content/drive/MyDrive/YouTubeClips /avi/CTIKmoEigCI_3_30\n",
            "Processing video /content/drive/MyDrive/YouTubeClips /avi/CTIKmoEigCI_3_30.avi\n",
            "/content/drive/MyDrive/YouTubeClips /avi/30GeJHYoerk_121_126\n",
            "Processing video /content/drive/MyDrive/YouTubeClips /avi/30GeJHYoerk_121_126.avi\n",
            "/content/drive/MyDrive/YouTubeClips /avi/TPhpsIK7pDc_25_32\n",
            "Processing video /content/drive/MyDrive/YouTubeClips /avi/TPhpsIK7pDc_25_32.avi\n",
            "/content/drive/MyDrive/YouTubeClips /avi/_WRC7HXBJpU_451_464\n",
            "Processing video /content/drive/MyDrive/YouTubeClips /avi/_WRC7HXBJpU_451_464.avi\n",
            "/content/drive/MyDrive/YouTubeClips /avi/AX38yo7Wuws_81_91\n",
            "Processing video /content/drive/MyDrive/YouTubeClips /avi/AX38yo7Wuws_81_91.avi\n",
            "/content/drive/MyDrive/YouTubeClips /avi/3eqFFRSXwGE_84_96\n",
            "Processing video /content/drive/MyDrive/YouTubeClips /avi/3eqFFRSXwGE_84_96.avi\n",
            "/content/drive/MyDrive/YouTubeClips /avi/v7iIZXtpIb8_5_15\n",
            "Processing video /content/drive/MyDrive/YouTubeClips /avi/v7iIZXtpIb8_5_15.avi\n",
            "/content/drive/MyDrive/YouTubeClips /avi/9Q0JfdP36kI_23_28\n",
            "Processing video /content/drive/MyDrive/YouTubeClips /avi/9Q0JfdP36kI_23_28.avi\n",
            "/content/drive/MyDrive/YouTubeClips /avi/-8y1Q0rA3n8_95_102\n",
            "Processing video /content/drive/MyDrive/YouTubeClips /avi/-8y1Q0rA3n8_95_102.avi\n",
            "/content/drive/MyDrive/YouTubeClips /avi/mmSQTI6gMNQ_120_128\n",
            "Processing video /content/drive/MyDrive/YouTubeClips /avi/mmSQTI6gMNQ_120_128.avi\n",
            "/content/drive/MyDrive/YouTubeClips /avi/6sYmDT5et00_301_339\n",
            "Processing video /content/drive/MyDrive/YouTubeClips /avi/6sYmDT5et00_301_339.avi\n",
            "/content/drive/MyDrive/YouTubeClips /avi/Sg5rTYrkpnU_35_48\n",
            "Processing video /content/drive/MyDrive/YouTubeClips /avi/Sg5rTYrkpnU_35_48.avi\n",
            "/content/drive/MyDrive/YouTubeClips /avi/YmXCfQm0_CA_109_120\n",
            "Processing video /content/drive/MyDrive/YouTubeClips /avi/YmXCfQm0_CA_109_120.avi\n",
            "/content/drive/MyDrive/YouTubeClips /avi/jv-eV6jR3Qw_7_12\n",
            "Processing video /content/drive/MyDrive/YouTubeClips /avi/jv-eV6jR3Qw_7_12.avi\n",
            "/content/drive/MyDrive/YouTubeClips /avi/WTf5EgVY5uU_54_58\n",
            "Processing video /content/drive/MyDrive/YouTubeClips /avi/WTf5EgVY5uU_54_58.avi\n",
            "/content/drive/MyDrive/YouTubeClips /avi/-AwoiGR6c8M_10_14\n",
            "Processing video /content/drive/MyDrive/YouTubeClips /avi/-AwoiGR6c8M_10_14.avi\n",
            "/content/drive/MyDrive/YouTubeClips /avi/ETUJipdnfOM_0_5\n",
            "Processing video /content/drive/MyDrive/YouTubeClips /avi/ETUJipdnfOM_0_5.avi\n",
            "/content/drive/MyDrive/YouTubeClips /avi/hEOGZoYSvT4_82_86\n",
            "Processing video /content/drive/MyDrive/YouTubeClips /avi/hEOGZoYSvT4_82_86.avi\n",
            "/content/drive/MyDrive/YouTubeClips /avi/8NFoN0K3bPg_20_28\n",
            "Processing video /content/drive/MyDrive/YouTubeClips /avi/8NFoN0K3bPg_20_28.avi\n",
            "/content/drive/MyDrive/YouTubeClips /avi/kuNQpRTc-hA_126_135\n",
            "Processing video /content/drive/MyDrive/YouTubeClips /avi/kuNQpRTc-hA_126_135.avi\n",
            "/content/drive/MyDrive/YouTubeClips /avi/ybVb3t560oY_0_9\n",
            "Processing video /content/drive/MyDrive/YouTubeClips /avi/ybVb3t560oY_0_9.avi\n",
            "/content/drive/MyDrive/YouTubeClips /avi/-wa0umYJVGg_286_290\n",
            "Processing video /content/drive/MyDrive/YouTubeClips /avi/-wa0umYJVGg_286_290.avi\n",
            "/content/drive/MyDrive/YouTubeClips /avi/EVqc7e8JCco_5_15\n",
            "Processing video /content/drive/MyDrive/YouTubeClips /avi/EVqc7e8JCco_5_15.avi\n",
            "/content/drive/MyDrive/YouTubeClips /avi/kWLNZzuo3do_38_47\n",
            "Processing video /content/drive/MyDrive/YouTubeClips /avi/kWLNZzuo3do_38_47.avi\n",
            "/content/drive/MyDrive/YouTubeClips /avi/27mxaePkYB4_8_14\n",
            "Processing video /content/drive/MyDrive/YouTubeClips /avi/27mxaePkYB4_8_14.avi\n",
            "/content/drive/MyDrive/YouTubeClips /avi/kzyFBlNRohs_82_88\n",
            "Processing video /content/drive/MyDrive/YouTubeClips /avi/kzyFBlNRohs_82_88.avi\n",
            "/content/drive/MyDrive/YouTubeClips /avi/kWLNZzuo3do_38_42\n",
            "Processing video /content/drive/MyDrive/YouTubeClips /avi/kWLNZzuo3do_38_42.avi\n",
            "/content/drive/MyDrive/YouTubeClips /avi/f-24IxG9ijw_25_40\n",
            "Processing video /content/drive/MyDrive/YouTubeClips /avi/f-24IxG9ijw_25_40.avi\n",
            "/content/drive/MyDrive/YouTubeClips /avi/0vmoZEaN_-o_4_12\n",
            "Processing video /content/drive/MyDrive/YouTubeClips /avi/0vmoZEaN_-o_4_12.avi\n",
            "/content/drive/MyDrive/YouTubeClips /avi/6Lzq1HN33lE_5_15\n",
            "Processing video /content/drive/MyDrive/YouTubeClips /avi/6Lzq1HN33lE_5_15.avi\n",
            "/content/drive/MyDrive/YouTubeClips /avi/NV6pq1W-I4g_7_16\n",
            "Processing video /content/drive/MyDrive/YouTubeClips /avi/NV6pq1W-I4g_7_16.avi\n",
            "/content/drive/MyDrive/YouTubeClips /avi/YmXCfQm0_CA_7_16\n",
            "Processing video /content/drive/MyDrive/YouTubeClips /avi/YmXCfQm0_CA_7_16.avi\n",
            "/content/drive/MyDrive/YouTubeClips /avi/KUc1cWKXjDc_20_30\n",
            "Processing video /content/drive/MyDrive/YouTubeClips /avi/KUc1cWKXjDc_20_30.avi\n",
            "/content/drive/MyDrive/YouTubeClips /avi/1sffYOXq4Iw_23_49\n",
            "Processing video /content/drive/MyDrive/YouTubeClips /avi/1sffYOXq4Iw_23_49.avi\n",
            "/content/drive/MyDrive/YouTubeClips /avi/fBA_lxUiwSg_2_4\n",
            "Processing video /content/drive/MyDrive/YouTubeClips /avi/fBA_lxUiwSg_2_4.avi\n",
            "/content/drive/MyDrive/YouTubeClips /avi/LyYJiKxHZz0_0_10\n",
            "Processing video /content/drive/MyDrive/YouTubeClips /avi/LyYJiKxHZz0_0_10.avi\n",
            "/content/drive/MyDrive/YouTubeClips /avi/62I8I4sCPPQ_12_30\n",
            "Processing video /content/drive/MyDrive/YouTubeClips /avi/62I8I4sCPPQ_12_30.avi\n",
            "/content/drive/MyDrive/YouTubeClips /avi/labytsb3gfI_146_154\n",
            "Processing video /content/drive/MyDrive/YouTubeClips /avi/labytsb3gfI_146_154.avi\n",
            "/content/drive/MyDrive/YouTubeClips /avi/_O9kWD8nuRU_77_81\n",
            "Processing video /content/drive/MyDrive/YouTubeClips /avi/_O9kWD8nuRU_77_81.avi\n",
            "/content/drive/MyDrive/YouTubeClips /avi/Nd45qJn61Dw_0_10\n",
            "Processing video /content/drive/MyDrive/YouTubeClips /avi/Nd45qJn61Dw_0_10.avi\n",
            "/content/drive/MyDrive/YouTubeClips /avi/DKgHYLDebx0_0_8\n",
            "Processing video /content/drive/MyDrive/YouTubeClips /avi/DKgHYLDebx0_0_8.avi\n",
            "/content/drive/MyDrive/YouTubeClips /avi/KqKUXRHHkCc_101_105\n",
            "Processing video /content/drive/MyDrive/YouTubeClips /avi/KqKUXRHHkCc_101_105.avi\n",
            "/content/drive/MyDrive/YouTubeClips /avi/yU5sxW9bErQ_0_17\n",
            "Processing video /content/drive/MyDrive/YouTubeClips /avi/yU5sxW9bErQ_0_17.avi\n",
            "/content/drive/MyDrive/YouTubeClips /avi/wSwwS_0MKEc_68_78\n",
            "Processing video /content/drive/MyDrive/YouTubeClips /avi/wSwwS_0MKEc_68_78.avi\n",
            "/content/drive/MyDrive/YouTubeClips /avi/htry5uxX0-Y_45_52\n",
            "Processing video /content/drive/MyDrive/YouTubeClips /avi/htry5uxX0-Y_45_52.avi\n",
            "/content/drive/MyDrive/YouTubeClips /avi/_pj2Nutu5v8_1_8\n",
            "Processing video /content/drive/MyDrive/YouTubeClips /avi/_pj2Nutu5v8_1_8.avi\n",
            "/content/drive/MyDrive/YouTubeClips /avi/vDhEpqfhVI0_0_8\n",
            "Processing video /content/drive/MyDrive/YouTubeClips /avi/vDhEpqfhVI0_0_8.avi\n",
            "/content/drive/MyDrive/YouTubeClips /avi/iarsmqA3dck_19_25\n",
            "Processing video /content/drive/MyDrive/YouTubeClips /avi/iarsmqA3dck_19_25.avi\n",
            "/content/drive/MyDrive/YouTubeClips /avi/Hu9Sq1RvuoA_19_62\n",
            "Processing video /content/drive/MyDrive/YouTubeClips /avi/Hu9Sq1RvuoA_19_62.avi\n",
            "/content/drive/MyDrive/YouTubeClips /avi/cnsjm3fNEec_4_10\n",
            "Processing video /content/drive/MyDrive/YouTubeClips /avi/cnsjm3fNEec_4_10.avi\n",
            "/content/drive/MyDrive/YouTubeClips /avi/bruzcOyIGeg_4_12\n",
            "Processing video /content/drive/MyDrive/YouTubeClips /avi/bruzcOyIGeg_4_12.avi\n",
            "/content/drive/MyDrive/YouTubeClips /avi/88DOMJ11q2M_84_87\n",
            "Processing video /content/drive/MyDrive/YouTubeClips /avi/88DOMJ11q2M_84_87.avi\n",
            "/content/drive/MyDrive/YouTubeClips /avi/wFPmKChNrhU_3_11\n",
            "Processing video /content/drive/MyDrive/YouTubeClips /avi/wFPmKChNrhU_3_11.avi\n",
            "/content/drive/MyDrive/YouTubeClips /avi/WG0J2B19ZT8_1_33\n",
            "Processing video /content/drive/MyDrive/YouTubeClips /avi/WG0J2B19ZT8_1_33.avi\n",
            "/content/drive/MyDrive/YouTubeClips /avi/vRC9sBNt9vs_10_16\n",
            "Processing video /content/drive/MyDrive/YouTubeClips /avi/vRC9sBNt9vs_10_16.avi\n",
            "/content/drive/MyDrive/YouTubeClips /avi/tqxRDVKtkSY_30_45\n",
            "Processing video /content/drive/MyDrive/YouTubeClips /avi/tqxRDVKtkSY_30_45.avi\n",
            "/content/drive/MyDrive/YouTubeClips /avi/POv7JaE3vJ8_40_50\n",
            "Processing video /content/drive/MyDrive/YouTubeClips /avi/POv7JaE3vJ8_40_50.avi\n",
            "/content/drive/MyDrive/YouTubeClips /avi/5x_OGEdO6Z8_0_21\n",
            "Processing video /content/drive/MyDrive/YouTubeClips /avi/5x_OGEdO6Z8_0_21.avi\n",
            "/content/drive/MyDrive/YouTubeClips /avi/Z-An1QQ66f0_13_25\n",
            "Processing video /content/drive/MyDrive/YouTubeClips /avi/Z-An1QQ66f0_13_25.avi\n",
            "/content/drive/MyDrive/YouTubeClips /avi/FXWdmIHXS_U_3_10\n",
            "Processing video /content/drive/MyDrive/YouTubeClips /avi/FXWdmIHXS_U_3_10.avi\n",
            "/content/drive/MyDrive/YouTubeClips /avi/Q7H9mI9dtMY_20_34\n",
            "Processing video /content/drive/MyDrive/YouTubeClips /avi/Q7H9mI9dtMY_20_34.avi\n",
            "/content/drive/MyDrive/YouTubeClips /avi/v_tGw5gwlEw_136_152\n",
            "Processing video /content/drive/MyDrive/YouTubeClips /avi/v_tGw5gwlEw_136_152.avi\n",
            "/content/drive/MyDrive/YouTubeClips /avi/yyxtyCaEVqk_321_328\n",
            "Processing video /content/drive/MyDrive/YouTubeClips /avi/yyxtyCaEVqk_321_328.avi\n",
            "/content/drive/MyDrive/YouTubeClips /avi/XOAgUVVwKEA_8_20\n",
            "Processing video /content/drive/MyDrive/YouTubeClips /avi/XOAgUVVwKEA_8_20.avi\n",
            "/content/drive/MyDrive/YouTubeClips /avi/9IrWyZ0KZuk_160_166\n",
            "Processing video /content/drive/MyDrive/YouTubeClips /avi/9IrWyZ0KZuk_160_166.avi\n",
            "/content/drive/MyDrive/YouTubeClips /avi/u9prcUCHlqM_503_511\n",
            "Processing video /content/drive/MyDrive/YouTubeClips /avi/u9prcUCHlqM_503_511.avi\n",
            "/content/drive/MyDrive/YouTubeClips /avi/qypmR4O1Gwk_0_10\n",
            "Processing video /content/drive/MyDrive/YouTubeClips /avi/qypmR4O1Gwk_0_10.avi\n",
            "/content/drive/MyDrive/YouTubeClips /avi/AXL1oMdCFUM_45_59\n",
            "Processing video /content/drive/MyDrive/YouTubeClips /avi/AXL1oMdCFUM_45_59.avi\n",
            "/content/drive/MyDrive/YouTubeClips /avi/G_hxdUG6QXE_23_28\n",
            "Processing video /content/drive/MyDrive/YouTubeClips /avi/G_hxdUG6QXE_23_28.avi\n",
            "/content/drive/MyDrive/YouTubeClips /avi/jjl2ZMdFCsw_17_35\n",
            "Processing video /content/drive/MyDrive/YouTubeClips /avi/jjl2ZMdFCsw_17_35.avi\n",
            "/content/drive/MyDrive/YouTubeClips /avi/UXs3eq68ZjE_313_318\n",
            "Processing video /content/drive/MyDrive/YouTubeClips /avi/UXs3eq68ZjE_313_318.avi\n",
            "/content/drive/MyDrive/YouTubeClips /avi/Je3V7U5Ctj4_634_639\n",
            "Processing video /content/drive/MyDrive/YouTubeClips /avi/Je3V7U5Ctj4_634_639.avi\n",
            "/content/drive/MyDrive/YouTubeClips /avi/lFyPUgJCmtU_100_110\n",
            "Processing video /content/drive/MyDrive/YouTubeClips /avi/lFyPUgJCmtU_100_110.avi\n",
            "/content/drive/MyDrive/YouTubeClips /avi/Jag7oTemldY_12_25\n",
            "Processing video /content/drive/MyDrive/YouTubeClips /avi/Jag7oTemldY_12_25.avi\n",
            "/content/drive/MyDrive/YouTubeClips /avi/klFyrnrUSck_79_85\n",
            "Processing video /content/drive/MyDrive/YouTubeClips /avi/klFyrnrUSck_79_85.avi\n",
            "/content/drive/MyDrive/YouTubeClips /avi/WTf5EgVY5uU_104_108\n",
            "Processing video /content/drive/MyDrive/YouTubeClips /avi/WTf5EgVY5uU_104_108.avi\n",
            "/content/drive/MyDrive/YouTubeClips /avi/0hyZ__3YhZc_562_568\n",
            "Processing video /content/drive/MyDrive/YouTubeClips /avi/0hyZ__3YhZc_562_568.avi\n",
            "/content/drive/MyDrive/YouTubeClips /avi/clpgffj3sUw_1_12\n",
            "Processing video /content/drive/MyDrive/YouTubeClips /avi/clpgffj3sUw_1_12.avi\n",
            "/content/drive/MyDrive/YouTubeClips /avi/emblM4a76jg_5_15\n",
            "Processing video /content/drive/MyDrive/YouTubeClips /avi/emblM4a76jg_5_15.avi\n",
            "/content/drive/MyDrive/YouTubeClips /avi/za-9mBZyNfQ_330_336\n",
            "Processing video /content/drive/MyDrive/YouTubeClips /avi/za-9mBZyNfQ_330_336.avi\n",
            "/content/drive/MyDrive/YouTubeClips /avi/z1PEyzk4ADU_8_18\n",
            "Processing video /content/drive/MyDrive/YouTubeClips /avi/z1PEyzk4ADU_8_18.avi\n",
            "/content/drive/MyDrive/YouTubeClips /avi/2L4oELbX8Ms_1_12\n",
            "Processing video /content/drive/MyDrive/YouTubeClips /avi/2L4oELbX8Ms_1_12.avi\n",
            "/content/drive/MyDrive/YouTubeClips /avi/PeUHy0A1GF0_28_32\n",
            "Processing video /content/drive/MyDrive/YouTubeClips /avi/PeUHy0A1GF0_28_32.avi\n",
            "/content/drive/MyDrive/YouTubeClips /avi/ruNrdmjcNTc_0_5\n",
            "Processing video /content/drive/MyDrive/YouTubeClips /avi/ruNrdmjcNTc_0_5.avi\n",
            "/content/drive/MyDrive/YouTubeClips /avi/aK8liAv-28s_72_82\n",
            "Processing video /content/drive/MyDrive/YouTubeClips /avi/aK8liAv-28s_72_82.avi\n",
            "/content/drive/MyDrive/YouTubeClips /avi/K1ZM0LSLVw8_481_487\n",
            "Processing video /content/drive/MyDrive/YouTubeClips /avi/K1ZM0LSLVw8_481_487.avi\n",
            "/content/drive/MyDrive/YouTubeClips /avi/Jfu-WkuCgD0_140_150\n",
            "Processing video /content/drive/MyDrive/YouTubeClips /avi/Jfu-WkuCgD0_140_150.avi\n",
            "/content/drive/MyDrive/YouTubeClips /avi/0RWJEOScToE_414_421\n",
            "Processing video /content/drive/MyDrive/YouTubeClips /avi/0RWJEOScToE_414_421.avi\n",
            "/content/drive/MyDrive/YouTubeClips /avi/LF51fban_x4_300_325\n",
            "Processing video /content/drive/MyDrive/YouTubeClips /avi/LF51fban_x4_300_325.avi\n",
            "/content/drive/MyDrive/YouTubeClips /avi/-_hbPLsZvvo_49_55\n",
            "Processing video /content/drive/MyDrive/YouTubeClips /avi/-_hbPLsZvvo_49_55.avi\n",
            "/content/drive/MyDrive/YouTubeClips /avi/s20OlIRK340_125_138\n",
            "Processing video /content/drive/MyDrive/YouTubeClips /avi/s20OlIRK340_125_138.avi\n",
            "/content/drive/MyDrive/YouTubeClips /avi/9Q0JfdP36kI_167_170\n",
            "Processing video /content/drive/MyDrive/YouTubeClips /avi/9Q0JfdP36kI_167_170.avi\n",
            "/content/drive/MyDrive/YouTubeClips /avi/lsanQj2yacs_80_85\n",
            "Processing video /content/drive/MyDrive/YouTubeClips /avi/lsanQj2yacs_80_85.avi\n",
            "/content/drive/MyDrive/YouTubeClips /avi/kWLNZzuo3do_206_213\n",
            "Processing video /content/drive/MyDrive/YouTubeClips /avi/kWLNZzuo3do_206_213.avi\n",
            "/content/drive/MyDrive/YouTubeClips /avi/rw9h_574HxE_127_133\n",
            "Processing video /content/drive/MyDrive/YouTubeClips /avi/rw9h_574HxE_127_133.avi\n",
            "/content/drive/MyDrive/YouTubeClips /avi/ecVwxlXc1PQ_0_12\n",
            "Processing video /content/drive/MyDrive/YouTubeClips /avi/ecVwxlXc1PQ_0_12.avi\n",
            "/content/drive/MyDrive/YouTubeClips /avi/Okg8QYhdtvU_48_53\n",
            "Processing video /content/drive/MyDrive/YouTubeClips /avi/Okg8QYhdtvU_48_53.avi\n",
            "/content/drive/MyDrive/YouTubeClips /avi/UbmZAe5u5FI_111_115\n",
            "Processing video /content/drive/MyDrive/YouTubeClips /avi/UbmZAe5u5FI_111_115.avi\n",
            "/content/drive/MyDrive/YouTubeClips /avi/zSPBC8EO6dY_132_140\n",
            "Processing video /content/drive/MyDrive/YouTubeClips /avi/zSPBC8EO6dY_132_140.avi\n",
            "/content/drive/MyDrive/YouTubeClips /avi/0hyZ__3YhZc_632_637\n",
            "Processing video /content/drive/MyDrive/YouTubeClips /avi/0hyZ__3YhZc_632_637.avi\n",
            "/content/drive/MyDrive/YouTubeClips /avi/Td29-SApubM_48_57\n",
            "Processing video /content/drive/MyDrive/YouTubeClips /avi/Td29-SApubM_48_57.avi\n",
            "/content/drive/MyDrive/YouTubeClips /avi/JsmHZlUgf1w_0_21\n",
            "Processing video /content/drive/MyDrive/YouTubeClips /avi/JsmHZlUgf1w_0_21.avi\n",
            "/content/drive/MyDrive/YouTubeClips /avi/OKBLPpAPp9c_2_17\n",
            "Processing video /content/drive/MyDrive/YouTubeClips /avi/OKBLPpAPp9c_2_17.avi\n",
            "/content/drive/MyDrive/YouTubeClips /avi/SzEbtbNSg04_70_85\n",
            "Processing video /content/drive/MyDrive/YouTubeClips /avi/SzEbtbNSg04_70_85.avi\n",
            "/content/drive/MyDrive/YouTubeClips /avi/ACK7SekJWts_140_150\n",
            "Processing video /content/drive/MyDrive/YouTubeClips /avi/ACK7SekJWts_140_150.avi\n",
            "/content/drive/MyDrive/YouTubeClips /avi/9BScZRpF7SI_31_36\n",
            "Processing video /content/drive/MyDrive/YouTubeClips /avi/9BScZRpF7SI_31_36.avi\n",
            "/content/drive/MyDrive/YouTubeClips /avi/9WpJxn-2h1o_122_150\n",
            "Processing video /content/drive/MyDrive/YouTubeClips /avi/9WpJxn-2h1o_122_150.avi\n",
            "/content/drive/MyDrive/YouTubeClips /avi/mJ9eRvxjLc4_0_16\n",
            "Processing video /content/drive/MyDrive/YouTubeClips /avi/mJ9eRvxjLc4_0_16.avi\n",
            "/content/drive/MyDrive/YouTubeClips /avi/drsPD5fI1IA_170_180\n",
            "Processing video /content/drive/MyDrive/YouTubeClips /avi/drsPD5fI1IA_170_180.avi\n",
            "/content/drive/MyDrive/YouTubeClips /avi/omIPdpxg--4_39_46\n",
            "Processing video /content/drive/MyDrive/YouTubeClips /avi/omIPdpxg--4_39_46.avi\n",
            "/content/drive/MyDrive/YouTubeClips /avi/WZTGqvbqOFE_28_34\n",
            "Processing video /content/drive/MyDrive/YouTubeClips /avi/WZTGqvbqOFE_28_34.avi\n",
            "/content/drive/MyDrive/YouTubeClips /avi/SRzoLVNgHoI_56_66\n",
            "Processing video /content/drive/MyDrive/YouTubeClips /avi/SRzoLVNgHoI_56_66.avi\n",
            "/content/drive/MyDrive/YouTubeClips /avi/I9gLTZY1ouc_142_147\n",
            "Processing video /content/drive/MyDrive/YouTubeClips /avi/I9gLTZY1ouc_142_147.avi\n",
            "/content/drive/MyDrive/YouTubeClips /avi/eKtsMfmQ_0s_61_68\n",
            "Processing video /content/drive/MyDrive/YouTubeClips /avi/eKtsMfmQ_0s_61_68.avi\n",
            "/content/drive/MyDrive/YouTubeClips /avi/Je3V7U5Ctj4_569_576\n",
            "Processing video /content/drive/MyDrive/YouTubeClips /avi/Je3V7U5Ctj4_569_576.avi\n",
            "/content/drive/MyDrive/YouTubeClips /avi/-Cv5LsqKUXc_17_25\n",
            "Processing video /content/drive/MyDrive/YouTubeClips /avi/-Cv5LsqKUXc_17_25.avi\n",
            "/content/drive/MyDrive/YouTubeClips /avi/DIToA1dDwGQ_32_42\n",
            "Processing video /content/drive/MyDrive/YouTubeClips /avi/DIToA1dDwGQ_32_42.avi\n",
            "/content/drive/MyDrive/YouTubeClips /avi/PeUHy0A1GF0_122_127\n",
            "Processing video /content/drive/MyDrive/YouTubeClips /avi/PeUHy0A1GF0_122_127.avi\n",
            "/content/drive/MyDrive/YouTubeClips /avi/me1D1WZ0yNM_120_124\n",
            "Processing video /content/drive/MyDrive/YouTubeClips /avi/me1D1WZ0yNM_120_124.avi\n",
            "/content/drive/MyDrive/YouTubeClips /avi/5JLi7L1Kwp8_23_30\n",
            "Processing video /content/drive/MyDrive/YouTubeClips /avi/5JLi7L1Kwp8_23_30.avi\n",
            "/content/drive/MyDrive/YouTubeClips /avi/q-a6NEotUX8_5_10\n",
            "Processing video /content/drive/MyDrive/YouTubeClips /avi/q-a6NEotUX8_5_10.avi\n",
            "/content/drive/MyDrive/YouTubeClips /avi/3zrVqwV29V8_69_76\n",
            "Processing video /content/drive/MyDrive/YouTubeClips /avi/3zrVqwV29V8_69_76.avi\n",
            "/content/drive/MyDrive/YouTubeClips /avi/FWzsXeXCwuc_111_116\n",
            "Processing video /content/drive/MyDrive/YouTubeClips /avi/FWzsXeXCwuc_111_116.avi\n",
            "/content/drive/MyDrive/YouTubeClips /avi/9LSuyLyuUiM_3_6\n",
            "Processing video /content/drive/MyDrive/YouTubeClips /avi/9LSuyLyuUiM_3_6.avi\n",
            "/content/drive/MyDrive/YouTubeClips /avi/6owu8Mow0_g_275_280\n",
            "Processing video /content/drive/MyDrive/YouTubeClips /avi/6owu8Mow0_g_275_280.avi\n",
            "/content/drive/MyDrive/YouTubeClips /avi/AGRFy5hDQiY_31_38\n",
            "Processing video /content/drive/MyDrive/YouTubeClips /avi/AGRFy5hDQiY_31_38.avi\n",
            "/content/drive/MyDrive/YouTubeClips /avi/K2LxyytY3Dw_104_112\n",
            "Processing video /content/drive/MyDrive/YouTubeClips /avi/K2LxyytY3Dw_104_112.avi\n",
            "/content/drive/MyDrive/YouTubeClips /avi/7bcV-TL9mho_0_7\n",
            "Processing video /content/drive/MyDrive/YouTubeClips /avi/7bcV-TL9mho_0_7.avi\n",
            "/content/drive/MyDrive/YouTubeClips /avi/lB1UPJ4leqs_1_6\n",
            "Processing video /content/drive/MyDrive/YouTubeClips /avi/lB1UPJ4leqs_1_6.avi\n",
            "/content/drive/MyDrive/YouTubeClips /avi/e40bBP0_AbE_64_67\n",
            "Processing video /content/drive/MyDrive/YouTubeClips /avi/e40bBP0_AbE_64_67.avi\n",
            "/content/drive/MyDrive/YouTubeClips /avi/Y4gaJn0wlDE_0_10\n",
            "Processing video /content/drive/MyDrive/YouTubeClips /avi/Y4gaJn0wlDE_0_10.avi\n",
            "/content/drive/MyDrive/YouTubeClips /avi/mbesJaS6vwg_187_195\n",
            "Processing video /content/drive/MyDrive/YouTubeClips /avi/mbesJaS6vwg_187_195.avi\n",
            "/content/drive/MyDrive/YouTubeClips /avi/u9E9HpuJQ7U_29_43\n",
            "Processing video /content/drive/MyDrive/YouTubeClips /avi/u9E9HpuJQ7U_29_43.avi\n",
            "/content/drive/MyDrive/YouTubeClips /avi/iTA0rWPE4nY_17_23\n",
            "Processing video /content/drive/MyDrive/YouTubeClips /avi/iTA0rWPE4nY_17_23.avi\n",
            "/content/drive/MyDrive/YouTubeClips /avi/wON-YuA1GjA_3_63\n",
            "Processing video /content/drive/MyDrive/YouTubeClips /avi/wON-YuA1GjA_3_63.avi\n",
            "/content/drive/MyDrive/YouTubeClips /avi/HkuOqWzXYVg_0_12\n",
            "Processing video /content/drive/MyDrive/YouTubeClips /avi/HkuOqWzXYVg_0_12.avi\n",
            "/content/drive/MyDrive/YouTubeClips /avi/fF89MasBFLw_321_326\n",
            "Processing video /content/drive/MyDrive/YouTubeClips /avi/fF89MasBFLw_321_326.avi\n",
            "/content/drive/MyDrive/YouTubeClips /avi/D9I1Z6O_mbw_112_119\n",
            "Processing video /content/drive/MyDrive/YouTubeClips /avi/D9I1Z6O_mbw_112_119.avi\n",
            "/content/drive/MyDrive/YouTubeClips /avi/1pw5ZdRhiig_50_59\n",
            "Processing video /content/drive/MyDrive/YouTubeClips /avi/1pw5ZdRhiig_50_59.avi\n",
            "/content/drive/MyDrive/YouTubeClips /avi/Hd-NeIhbYGc_43_48\n",
            "Processing video /content/drive/MyDrive/YouTubeClips /avi/Hd-NeIhbYGc_43_48.avi\n",
            "/content/drive/MyDrive/YouTubeClips /avi/suj4VNfZz5E_33_50\n",
            "Processing video /content/drive/MyDrive/YouTubeClips /avi/suj4VNfZz5E_33_50.avi\n",
            "/content/drive/MyDrive/YouTubeClips /avi/PeUHy0A1GF0_74_77\n",
            "Processing video /content/drive/MyDrive/YouTubeClips /avi/PeUHy0A1GF0_74_77.avi\n",
            "/content/drive/MyDrive/YouTubeClips /avi/X4yzrIc072w_4_20\n",
            "Processing video /content/drive/MyDrive/YouTubeClips /avi/X4yzrIc072w_4_20.avi\n",
            "/content/drive/MyDrive/YouTubeClips /avi/nULE40HEWpA_5_11\n",
            "Processing video /content/drive/MyDrive/YouTubeClips /avi/nULE40HEWpA_5_11.avi\n",
            "/content/drive/MyDrive/YouTubeClips /avi/f_CvW22Eauc_16_23\n",
            "Processing video /content/drive/MyDrive/YouTubeClips /avi/f_CvW22Eauc_16_23.avi\n",
            "/content/drive/MyDrive/YouTubeClips /avi/Je3V7U5Ctj4_997_1004\n",
            "Processing video /content/drive/MyDrive/YouTubeClips /avi/Je3V7U5Ctj4_997_1004.avi\n",
            "/content/drive/MyDrive/YouTubeClips /avi/5PpPOGU_0aA_65_75\n",
            "Processing video /content/drive/MyDrive/YouTubeClips /avi/5PpPOGU_0aA_65_75.avi\n",
            "/content/drive/MyDrive/YouTubeClips /avi/_9iG5Ge01PM_3_11\n",
            "Processing video /content/drive/MyDrive/YouTubeClips /avi/_9iG5Ge01PM_3_11.avi\n",
            "/content/drive/MyDrive/YouTubeClips /avi/DJWmm_Q9WvY_1_25\n",
            "Processing video /content/drive/MyDrive/YouTubeClips /avi/DJWmm_Q9WvY_1_25.avi\n",
            "/content/drive/MyDrive/YouTubeClips /avi/TsagxA4DKuc_28_41\n",
            "Processing video /content/drive/MyDrive/YouTubeClips /avi/TsagxA4DKuc_28_41.avi\n",
            "/content/drive/MyDrive/YouTubeClips /avi/zH4v_DClIoc_3_28\n",
            "Processing video /content/drive/MyDrive/YouTubeClips /avi/zH4v_DClIoc_3_28.avi\n",
            "/content/drive/MyDrive/YouTubeClips /avi/GtrTNldo0LI_33_46\n",
            "Processing video /content/drive/MyDrive/YouTubeClips /avi/GtrTNldo0LI_33_46.avi\n",
            "/content/drive/MyDrive/YouTubeClips /avi/mmSQTI6gMNQ_15_21\n",
            "Processing video /content/drive/MyDrive/YouTubeClips /avi/mmSQTI6gMNQ_15_21.avi\n",
            "/content/drive/MyDrive/YouTubeClips /avi/4R-tumAGrtU_12_22\n",
            "Processing video /content/drive/MyDrive/YouTubeClips /avi/4R-tumAGrtU_12_22.avi\n",
            "/content/drive/MyDrive/YouTubeClips /avi/kWLNZzuo3do_77_83\n",
            "Processing video /content/drive/MyDrive/YouTubeClips /avi/kWLNZzuo3do_77_83.avi\n",
            "/content/drive/MyDrive/YouTubeClips /avi/g9aZcaEg7iY_0_9\n",
            "Processing video /content/drive/MyDrive/YouTubeClips /avi/g9aZcaEg7iY_0_9.avi\n",
            "/content/drive/MyDrive/YouTubeClips /avi/o4pL7FObqds_137_147\n",
            "Processing video /content/drive/MyDrive/YouTubeClips /avi/o4pL7FObqds_137_147.avi\n",
            "/content/drive/MyDrive/YouTubeClips /avi/6t0BpjwYKco_261_284\n",
            "Processing video /content/drive/MyDrive/YouTubeClips /avi/6t0BpjwYKco_261_284.avi\n",
            "/content/drive/MyDrive/YouTubeClips /avi/nPj6EcVGoUY_7_15\n",
            "Processing video /content/drive/MyDrive/YouTubeClips /avi/nPj6EcVGoUY_7_15.avi\n",
            "/content/drive/MyDrive/YouTubeClips /avi/gbUhorqLCzU_10_23\n",
            "Processing video /content/drive/MyDrive/YouTubeClips /avi/gbUhorqLCzU_10_23.avi\n",
            "/content/drive/MyDrive/YouTubeClips /avi/8MVo7fje_oE_139_144\n",
            "Processing video /content/drive/MyDrive/YouTubeClips /avi/8MVo7fje_oE_139_144.avi\n",
            "/content/drive/MyDrive/YouTubeClips /avi/953PkxFNiko_82_85\n",
            "Processing video /content/drive/MyDrive/YouTubeClips /avi/953PkxFNiko_82_85.avi\n",
            "/content/drive/MyDrive/YouTubeClips /avi/05gNigkqfNU_24_32\n",
            "Processing video /content/drive/MyDrive/YouTubeClips /avi/05gNigkqfNU_24_32.avi\n",
            "/content/drive/MyDrive/YouTubeClips /avi/Cxxx6wJ1jNo_0_10\n",
            "Processing video /content/drive/MyDrive/YouTubeClips /avi/Cxxx6wJ1jNo_0_10.avi\n",
            "/content/drive/MyDrive/YouTubeClips /avi/xxHx6s_DbUo_36_40\n",
            "Processing video /content/drive/MyDrive/YouTubeClips /avi/xxHx6s_DbUo_36_40.avi\n",
            "/content/drive/MyDrive/YouTubeClips /avi/ok4cM6WTA5E_142_150\n",
            "Processing video /content/drive/MyDrive/YouTubeClips /avi/ok4cM6WTA5E_142_150.avi\n",
            "/content/drive/MyDrive/YouTubeClips /avi/ItFqogTmAvQ_48_52\n",
            "Processing video /content/drive/MyDrive/YouTubeClips /avi/ItFqogTmAvQ_48_52.avi\n",
            "/content/drive/MyDrive/YouTubeClips /avi/kWLNZzuo3do_262_270\n",
            "Processing video /content/drive/MyDrive/YouTubeClips /avi/kWLNZzuo3do_262_270.avi\n",
            "/content/drive/MyDrive/YouTubeClips /avi/Gh4Beb8StFM_29_50\n",
            "Processing video /content/drive/MyDrive/YouTubeClips /avi/Gh4Beb8StFM_29_50.avi\n",
            "/content/drive/MyDrive/YouTubeClips /avi/A_nCfAbXjoM_8_56\n",
            "Processing video /content/drive/MyDrive/YouTubeClips /avi/A_nCfAbXjoM_8_56.avi\n",
            "/content/drive/MyDrive/YouTubeClips /avi/3ftaoFnhTyY_140_150\n",
            "Processing video /content/drive/MyDrive/YouTubeClips /avi/3ftaoFnhTyY_140_150.avi\n",
            "/content/drive/MyDrive/YouTubeClips /avi/EiylMb_mWk4_2_20\n",
            "Processing video /content/drive/MyDrive/YouTubeClips /avi/EiylMb_mWk4_2_20.avi\n",
            "/content/drive/MyDrive/YouTubeClips /avi/hXn7D6-AAMA_0_9\n",
            "Processing video /content/drive/MyDrive/YouTubeClips /avi/hXn7D6-AAMA_0_9.avi\n",
            "/content/drive/MyDrive/YouTubeClips /avi/C2rDp6FnbP0_10_17\n",
            "Processing video /content/drive/MyDrive/YouTubeClips /avi/C2rDp6FnbP0_10_17.avi\n",
            "/content/drive/MyDrive/YouTubeClips /avi/m1NR0uNNs5Y_57_64\n",
            "Processing video /content/drive/MyDrive/YouTubeClips /avi/m1NR0uNNs5Y_57_64.avi\n",
            "/content/drive/MyDrive/YouTubeClips /avi/sFExO_PW22s_10_18\n",
            "Processing video /content/drive/MyDrive/YouTubeClips /avi/sFExO_PW22s_10_18.avi\n",
            "/content/drive/MyDrive/YouTubeClips /avi/iwpnUHFhjWc_84_94\n",
            "Processing video /content/drive/MyDrive/YouTubeClips /avi/iwpnUHFhjWc_84_94.avi\n",
            "/content/drive/MyDrive/YouTubeClips /avi/oRBgVOiZVsc_16_22\n",
            "Processing video /content/drive/MyDrive/YouTubeClips /avi/oRBgVOiZVsc_16_22.avi\n",
            "/content/drive/MyDrive/YouTubeClips /avi/05gNigkqfNU_25_34\n",
            "Processing video /content/drive/MyDrive/YouTubeClips /avi/05gNigkqfNU_25_34.avi\n",
            "/content/drive/MyDrive/YouTubeClips /avi/53dc4z7HLyg_16_23\n",
            "Processing video /content/drive/MyDrive/YouTubeClips /avi/53dc4z7HLyg_16_23.avi\n",
            "/content/drive/MyDrive/YouTubeClips /avi/q3I3R_gqy8M_38_42\n",
            "Processing video /content/drive/MyDrive/YouTubeClips /avi/q3I3R_gqy8M_38_42.avi\n",
            "/content/drive/MyDrive/YouTubeClips /avi/-vg3vR86fu0_1_6\n",
            "Processing video /content/drive/MyDrive/YouTubeClips /avi/-vg3vR86fu0_1_6.avi\n",
            "/content/drive/MyDrive/YouTubeClips /avi/0lh_UWF9ZP4_215_226\n",
            "Processing video /content/drive/MyDrive/YouTubeClips /avi/0lh_UWF9ZP4_215_226.avi\n",
            "/content/drive/MyDrive/YouTubeClips /avi/pGsU4FekJQM_10_18\n",
            "Processing video /content/drive/MyDrive/YouTubeClips /avi/pGsU4FekJQM_10_18.avi\n",
            "/content/drive/MyDrive/YouTubeClips /avi/lB1UPJ4leqs_0_6\n",
            "Processing video /content/drive/MyDrive/YouTubeClips /avi/lB1UPJ4leqs_0_6.avi\n",
            "/content/drive/MyDrive/YouTubeClips /avi/pGCRurvXQGM_45_56\n",
            "Processing video /content/drive/MyDrive/YouTubeClips /avi/pGCRurvXQGM_45_56.avi\n",
            "/content/drive/MyDrive/YouTubeClips /avi/fGc6_D0JEIQ_31_46\n",
            "Processing video /content/drive/MyDrive/YouTubeClips /avi/fGc6_D0JEIQ_31_46.avi\n",
            "/content/drive/MyDrive/YouTubeClips /avi/OUII8_aOfNM_26_55\n",
            "Processing video /content/drive/MyDrive/YouTubeClips /avi/OUII8_aOfNM_26_55.avi\n",
            "/content/drive/MyDrive/YouTubeClips /avi/1dfR0A_BXjw_401_408\n",
            "Processing video /content/drive/MyDrive/YouTubeClips /avi/1dfR0A_BXjw_401_408.avi\n",
            "/content/drive/MyDrive/YouTubeClips /avi/WPG-BIWOrG4_130_134\n",
            "Processing video /content/drive/MyDrive/YouTubeClips /avi/WPG-BIWOrG4_130_134.avi\n",
            "/content/drive/MyDrive/YouTubeClips /avi/ub-aYLzCF_Q_1_10\n",
            "Processing video /content/drive/MyDrive/YouTubeClips /avi/ub-aYLzCF_Q_1_10.avi\n",
            "/content/drive/MyDrive/YouTubeClips /avi/VLBsAPZ2DDE_34_41\n",
            "Processing video /content/drive/MyDrive/YouTubeClips /avi/VLBsAPZ2DDE_34_41.avi\n",
            "/content/drive/MyDrive/YouTubeClips /avi/OvRmRN1-O0Q_21_25\n",
            "Processing video /content/drive/MyDrive/YouTubeClips /avi/OvRmRN1-O0Q_21_25.avi\n",
            "/content/drive/MyDrive/YouTubeClips /avi/EBWPZIjtnTM_1_6\n",
            "Processing video /content/drive/MyDrive/YouTubeClips /avi/EBWPZIjtnTM_1_6.avi\n",
            "/content/drive/MyDrive/YouTubeClips /avi/WTf5EgVY5uU_18_23\n",
            "Processing video /content/drive/MyDrive/YouTubeClips /avi/WTf5EgVY5uU_18_23.avi\n",
            "/content/drive/MyDrive/YouTubeClips /avi/O_NWtDShLeg_21_25\n",
            "Processing video /content/drive/MyDrive/YouTubeClips /avi/O_NWtDShLeg_21_25.avi\n",
            "/content/drive/MyDrive/YouTubeClips /avi/4PcL6-mjRNk_47_55\n",
            "Processing video /content/drive/MyDrive/YouTubeClips /avi/4PcL6-mjRNk_47_55.avi\n",
            "/content/drive/MyDrive/YouTubeClips /avi/-DRy7rBg0IQ_31_37\n",
            "Processing video /content/drive/MyDrive/YouTubeClips /avi/-DRy7rBg0IQ_31_37.avi\n",
            "/content/drive/MyDrive/YouTubeClips /avi/2jXxtQRy47A_30_38\n",
            "Processing video /content/drive/MyDrive/YouTubeClips /avi/2jXxtQRy47A_30_38.avi\n",
            "/content/drive/MyDrive/YouTubeClips /avi/UDwvax7K57c_28_35\n",
            "Processing video /content/drive/MyDrive/YouTubeClips /avi/UDwvax7K57c_28_35.avi\n",
            "/content/drive/MyDrive/YouTubeClips /avi/i3cHNObcEh8_0_10\n",
            "Processing video /content/drive/MyDrive/YouTubeClips /avi/i3cHNObcEh8_0_10.avi\n",
            "/content/drive/MyDrive/YouTubeClips /avi/b-d-CxHaKGU_10_30\n",
            "Processing video /content/drive/MyDrive/YouTubeClips /avi/b-d-CxHaKGU_10_30.avi\n",
            "/content/drive/MyDrive/YouTubeClips /avi/GPT4vUwlrXY_1_10\n",
            "Processing video /content/drive/MyDrive/YouTubeClips /avi/GPT4vUwlrXY_1_10.avi\n",
            "/content/drive/MyDrive/YouTubeClips /avi/oDcd2JbOyzg_38_55\n",
            "Processing video /content/drive/MyDrive/YouTubeClips /avi/oDcd2JbOyzg_38_55.avi\n",
            "/content/drive/MyDrive/YouTubeClips /avi/L8h2DazQZJY_0_10\n",
            "Processing video /content/drive/MyDrive/YouTubeClips /avi/L8h2DazQZJY_0_10.avi\n",
            "/content/drive/MyDrive/YouTubeClips /avi/5zkCnHUnoYY_69_74\n",
            "Processing video /content/drive/MyDrive/YouTubeClips /avi/5zkCnHUnoYY_69_74.avi\n",
            "/content/drive/MyDrive/YouTubeClips /avi/UXs3eq68ZjE_498_504\n",
            "Processing video /content/drive/MyDrive/YouTubeClips /avi/UXs3eq68ZjE_498_504.avi\n",
            "/content/drive/MyDrive/YouTubeClips /avi/zlS1_zBYluY_15_21\n",
            "Processing video /content/drive/MyDrive/YouTubeClips /avi/zlS1_zBYluY_15_21.avi\n",
            "/content/drive/MyDrive/YouTubeClips /avi/jZ8X8e7eRVk_24_27\n",
            "Processing video /content/drive/MyDrive/YouTubeClips /avi/jZ8X8e7eRVk_24_27.avi\n",
            "/content/drive/MyDrive/YouTubeClips /avi/DKZg4kIEa0A_31_36\n",
            "Processing video /content/drive/MyDrive/YouTubeClips /avi/DKZg4kIEa0A_31_36.avi\n",
            "/content/drive/MyDrive/YouTubeClips /avi/IhwPQL9dFYc_78_88\n",
            "Processing video /content/drive/MyDrive/YouTubeClips /avi/IhwPQL9dFYc_78_88.avi\n",
            "/content/drive/MyDrive/YouTubeClips /avi/ApYvvQK7bBc_6_32\n",
            "Processing video /content/drive/MyDrive/YouTubeClips /avi/ApYvvQK7bBc_6_32.avi\n",
            "/content/drive/MyDrive/YouTubeClips /avi/NoCgvH4xZHo_240_251\n",
            "Processing video /content/drive/MyDrive/YouTubeClips /avi/NoCgvH4xZHo_240_251.avi\n",
            "/content/drive/MyDrive/YouTubeClips /avi/3qqEKTPxLNs_1_15\n",
            "Processing video /content/drive/MyDrive/YouTubeClips /avi/3qqEKTPxLNs_1_15.avi\n",
            "/content/drive/MyDrive/YouTubeClips /avi/FwCmcZpkk-k_22_32\n",
            "Processing video /content/drive/MyDrive/YouTubeClips /avi/FwCmcZpkk-k_22_32.avi\n",
            "/content/drive/MyDrive/YouTubeClips /avi/3I9tSDU-OSk_17_22\n",
            "Processing video /content/drive/MyDrive/YouTubeClips /avi/3I9tSDU-OSk_17_22.avi\n",
            "/content/drive/MyDrive/YouTubeClips /avi/toE0QYZzJKE_1_8\n",
            "Processing video /content/drive/MyDrive/YouTubeClips /avi/toE0QYZzJKE_1_8.avi\n",
            "/content/drive/MyDrive/YouTubeClips /avi/MqS82kBtUHQ_0_12\n",
            "Processing video /content/drive/MyDrive/YouTubeClips /avi/MqS82kBtUHQ_0_12.avi\n",
            "/content/drive/MyDrive/YouTubeClips /avi/q7pOFn8s4zc_27_36\n",
            "Processing video /content/drive/MyDrive/YouTubeClips /avi/q7pOFn8s4zc_27_36.avi\n",
            "/content/drive/MyDrive/YouTubeClips /avi/WTf5EgVY5uU_32_52\n",
            "Processing video /content/drive/MyDrive/YouTubeClips /avi/WTf5EgVY5uU_32_52.avi\n",
            "/content/drive/MyDrive/YouTubeClips /avi/a8PAY4rvzRM_1_10\n",
            "Processing video /content/drive/MyDrive/YouTubeClips /avi/a8PAY4rvzRM_1_10.avi\n",
            "/content/drive/MyDrive/YouTubeClips /avi/0lh_UWF9ZP4_38_46\n",
            "Processing video /content/drive/MyDrive/YouTubeClips /avi/0lh_UWF9ZP4_38_46.avi\n",
            "/content/drive/MyDrive/YouTubeClips /avi/6vSKIUGGLvY_81_87\n",
            "Processing video /content/drive/MyDrive/YouTubeClips /avi/6vSKIUGGLvY_81_87.avi\n",
            "/content/drive/MyDrive/YouTubeClips /avi/ngHDYzhDBk4_24_29\n",
            "Processing video /content/drive/MyDrive/YouTubeClips /avi/ngHDYzhDBk4_24_29.avi\n",
            "/content/drive/MyDrive/YouTubeClips /avi/-_aaMGK6GGw_57_61\n",
            "Processing video /content/drive/MyDrive/YouTubeClips /avi/-_aaMGK6GGw_57_61.avi\n",
            "/content/drive/MyDrive/YouTubeClips /avi/NKtfKR4GNjU_0_20\n",
            "Processing video /content/drive/MyDrive/YouTubeClips /avi/NKtfKR4GNjU_0_20.avi\n",
            "/content/drive/MyDrive/YouTubeClips /avi/UXs3eq68ZjE_194_200\n",
            "Processing video /content/drive/MyDrive/YouTubeClips /avi/UXs3eq68ZjE_194_200.avi\n",
            "/content/drive/MyDrive/YouTubeClips /avi/QjI3Y8ZKSqs_30_38\n",
            "Processing video /content/drive/MyDrive/YouTubeClips /avi/QjI3Y8ZKSqs_30_38.avi\n",
            "/content/drive/MyDrive/YouTubeClips /avi/s6QwbmWbSmw_18_24\n",
            "Processing video /content/drive/MyDrive/YouTubeClips /avi/s6QwbmWbSmw_18_24.avi\n",
            "/content/drive/MyDrive/YouTubeClips /avi/rKF0ZW34FRk_41_54\n",
            "Processing video /content/drive/MyDrive/YouTubeClips /avi/rKF0ZW34FRk_41_54.avi\n",
            "/content/drive/MyDrive/YouTubeClips /avi/rVFJzN20jhQ_27_32\n",
            "Processing video /content/drive/MyDrive/YouTubeClips /avi/rVFJzN20jhQ_27_32.avi\n",
            "/content/drive/MyDrive/YouTubeClips /avi/xxHx6s_DbUo_158_161\n",
            "Processing video /content/drive/MyDrive/YouTubeClips /avi/xxHx6s_DbUo_158_161.avi\n",
            "/content/drive/MyDrive/YouTubeClips /avi/Gn4Iv5ARIXc_37_40\n",
            "Processing video /content/drive/MyDrive/YouTubeClips /avi/Gn4Iv5ARIXc_37_40.avi\n",
            "/content/drive/MyDrive/YouTubeClips /avi/ZbtpcGi2DWY_56_62\n",
            "Processing video /content/drive/MyDrive/YouTubeClips /avi/ZbtpcGi2DWY_56_62.avi\n",
            "/content/drive/MyDrive/YouTubeClips /avi/IiIiY6o-C9k_49_55\n",
            "Processing video /content/drive/MyDrive/YouTubeClips /avi/IiIiY6o-C9k_49_55.avi\n",
            "/content/drive/MyDrive/YouTubeClips /avi/jdAbpLooDgM_10_15\n",
            "Processing video /content/drive/MyDrive/YouTubeClips /avi/jdAbpLooDgM_10_15.avi\n",
            "/content/drive/MyDrive/YouTubeClips /avi/Je3V7U5Ctj4_488_495\n",
            "Processing video /content/drive/MyDrive/YouTubeClips /avi/Je3V7U5Ctj4_488_495.avi\n",
            "/content/drive/MyDrive/YouTubeClips /avi/Goj131_GxYs_2_7\n",
            "Processing video /content/drive/MyDrive/YouTubeClips /avi/Goj131_GxYs_2_7.avi\n",
            "/content/drive/MyDrive/YouTubeClips /avi/IhwPQL9dFYc_137_143\n",
            "Processing video /content/drive/MyDrive/YouTubeClips /avi/IhwPQL9dFYc_137_143.avi\n",
            "/content/drive/MyDrive/YouTubeClips /avi/ACOmKiJDkA4_146_153\n",
            "Processing video /content/drive/MyDrive/YouTubeClips /avi/ACOmKiJDkA4_146_153.avi\n",
            "/content/drive/MyDrive/YouTubeClips /avi/LqPIBHAmt4E_22_30\n",
            "Processing video /content/drive/MyDrive/YouTubeClips /avi/LqPIBHAmt4E_22_30.avi\n",
            "/content/drive/MyDrive/YouTubeClips /avi/D1tTBncIsm8_248_254\n",
            "Processing video /content/drive/MyDrive/YouTubeClips /avi/D1tTBncIsm8_248_254.avi\n",
            "/content/drive/MyDrive/YouTubeClips /avi/eyhzdC936uk_15_27\n",
            "Processing video /content/drive/MyDrive/YouTubeClips /avi/eyhzdC936uk_15_27.avi\n",
            "/content/drive/MyDrive/YouTubeClips /avi/uppFvcVwqqY_5_15\n",
            "Processing video /content/drive/MyDrive/YouTubeClips /avi/uppFvcVwqqY_5_15.avi\n",
            "/content/drive/MyDrive/YouTubeClips /avi/dabI5gfaFm4_19_25\n",
            "Processing video /content/drive/MyDrive/YouTubeClips /avi/dabI5gfaFm4_19_25.avi\n",
            "/content/drive/MyDrive/YouTubeClips /avi/Q6HuQEIJqcA_9_16\n",
            "Processing video /content/drive/MyDrive/YouTubeClips /avi/Q6HuQEIJqcA_9_16.avi\n",
            "/content/drive/MyDrive/YouTubeClips /avi/q5ZRMvjzhXQ_15_29\n",
            "Processing video /content/drive/MyDrive/YouTubeClips /avi/q5ZRMvjzhXQ_15_29.avi\n",
            "/content/drive/MyDrive/YouTubeClips /avi/l5JJ2n2ggiQ_319_327\n",
            "Processing video /content/drive/MyDrive/YouTubeClips /avi/l5JJ2n2ggiQ_319_327.avi\n",
            "/content/drive/MyDrive/YouTubeClips /avi/I_-Nb_0RxpM_1_15\n",
            "Processing video /content/drive/MyDrive/YouTubeClips /avi/I_-Nb_0RxpM_1_15.avi\n",
            "/content/drive/MyDrive/YouTubeClips /avi/lcu-DwrnYY8_2_5\n",
            "Processing video /content/drive/MyDrive/YouTubeClips /avi/lcu-DwrnYY8_2_5.avi\n",
            "/content/drive/MyDrive/YouTubeClips /avi/88DOMJ11q2M_34_43\n",
            "Processing video /content/drive/MyDrive/YouTubeClips /avi/88DOMJ11q2M_34_43.avi\n",
            "/content/drive/MyDrive/YouTubeClips /avi/ZL7P_XmSnEY_205_209\n",
            "Processing video /content/drive/MyDrive/YouTubeClips /avi/ZL7P_XmSnEY_205_209.avi\n",
            "/content/drive/MyDrive/YouTubeClips /avi/veE0E79dEEc_18_45\n",
            "Processing video /content/drive/MyDrive/YouTubeClips /avi/veE0E79dEEc_18_45.avi\n",
            "/content/drive/MyDrive/YouTubeClips /avi/TF6LNmwDr_0_2_10\n",
            "Processing video /content/drive/MyDrive/YouTubeClips /avi/TF6LNmwDr_0_2_10.avi\n",
            "/content/drive/MyDrive/YouTubeClips /avi/MHWxjWwAbwM_10_25\n",
            "Processing video /content/drive/MyDrive/YouTubeClips /avi/MHWxjWwAbwM_10_25.avi\n",
            "/content/drive/MyDrive/YouTubeClips /avi/M4It3DrhbE0_13_22\n",
            "Processing video /content/drive/MyDrive/YouTubeClips /avi/M4It3DrhbE0_13_22.avi\n",
            "/content/drive/MyDrive/YouTubeClips /avi/auFXfsCzAvQ_1_15\n",
            "Processing video /content/drive/MyDrive/YouTubeClips /avi/auFXfsCzAvQ_1_15.avi\n",
            "/content/drive/MyDrive/YouTubeClips /avi/6ZZkO14S7GY_5_15\n",
            "Processing video /content/drive/MyDrive/YouTubeClips /avi/6ZZkO14S7GY_5_15.avi\n",
            "/content/drive/MyDrive/YouTubeClips /avi/DuMkW35BwK8_43_47\n",
            "Processing video /content/drive/MyDrive/YouTubeClips /avi/DuMkW35BwK8_43_47.avi\n",
            "/content/drive/MyDrive/YouTubeClips /avi/PeUHy0A1GF0_114_121\n",
            "Processing video /content/drive/MyDrive/YouTubeClips /avi/PeUHy0A1GF0_114_121.avi\n",
            "/content/drive/MyDrive/YouTubeClips /avi/aeA-HN7BMdo_52_58\n",
            "Processing video /content/drive/MyDrive/YouTubeClips /avi/aeA-HN7BMdo_52_58.avi\n",
            "/content/drive/MyDrive/YouTubeClips /avi/BGG0uYWZBdw_6_12\n",
            "Processing video /content/drive/MyDrive/YouTubeClips /avi/BGG0uYWZBdw_6_12.avi\n",
            "/content/drive/MyDrive/YouTubeClips /avi/qDjtN7xxNr4_44_51\n",
            "Processing video /content/drive/MyDrive/YouTubeClips /avi/qDjtN7xxNr4_44_51.avi\n",
            "/content/drive/MyDrive/YouTubeClips /avi/eTnlw7v8ea0_36_50\n",
            "Processing video /content/drive/MyDrive/YouTubeClips /avi/eTnlw7v8ea0_36_50.avi\n",
            "/content/drive/MyDrive/YouTubeClips /avi/haJn6k5zVnE_1_23\n",
            "Processing video /content/drive/MyDrive/YouTubeClips /avi/haJn6k5zVnE_1_23.avi\n",
            "/content/drive/MyDrive/YouTubeClips /avi/-bjOB4zS0uE_100_105\n",
            "Processing video /content/drive/MyDrive/YouTubeClips /avi/-bjOB4zS0uE_100_105.avi\n",
            "/content/drive/MyDrive/YouTubeClips /avi/PeUHy0A1GF0_51_55\n",
            "Processing video /content/drive/MyDrive/YouTubeClips /avi/PeUHy0A1GF0_51_55.avi\n",
            "/content/drive/MyDrive/YouTubeClips /avi/inzk2fTUe1w_1_15\n",
            "Processing video /content/drive/MyDrive/YouTubeClips /avi/inzk2fTUe1w_1_15.avi\n",
            "/content/drive/MyDrive/YouTubeClips /avi/UXs3eq68ZjE_235_240\n",
            "Processing video /content/drive/MyDrive/YouTubeClips /avi/UXs3eq68ZjE_235_240.avi\n",
            "/content/drive/MyDrive/YouTubeClips /avi/7xNG7qGY9rw_14_29\n",
            "Processing video /content/drive/MyDrive/YouTubeClips /avi/7xNG7qGY9rw_14_29.avi\n",
            "/content/drive/MyDrive/YouTubeClips /avi/Xwrl4htUPjo_22_38\n",
            "Processing video /content/drive/MyDrive/YouTubeClips /avi/Xwrl4htUPjo_22_38.avi\n",
            "/content/drive/MyDrive/YouTubeClips /avi/DIebwNHGjm8_27_38\n",
            "Processing video /content/drive/MyDrive/YouTubeClips /avi/DIebwNHGjm8_27_38.avi\n",
            "/content/drive/MyDrive/YouTubeClips /avi/WTf5EgVY5uU_108_116\n",
            "Processing video /content/drive/MyDrive/YouTubeClips /avi/WTf5EgVY5uU_108_116.avi\n",
            "/content/drive/MyDrive/YouTubeClips /avi/izU1dDwnuMY_80_92\n",
            "Processing video /content/drive/MyDrive/YouTubeClips /avi/izU1dDwnuMY_80_92.avi\n",
            "/content/drive/MyDrive/YouTubeClips /avi/pqTWUzehCUM_42_47\n",
            "Processing video /content/drive/MyDrive/YouTubeClips /avi/pqTWUzehCUM_42_47.avi\n",
            "/content/drive/MyDrive/YouTubeClips /avi/88p7U5CnoYU_1_10\n",
            "Processing video /content/drive/MyDrive/YouTubeClips /avi/88p7U5CnoYU_1_10.avi\n",
            "/content/drive/MyDrive/YouTubeClips /avi/81fABEiwcIM_31_45\n",
            "Processing video /content/drive/MyDrive/YouTubeClips /avi/81fABEiwcIM_31_45.avi\n",
            "/content/drive/MyDrive/YouTubeClips /avi/9gbUM9oHBNI_557_563\n",
            "Processing video /content/drive/MyDrive/YouTubeClips /avi/9gbUM9oHBNI_557_563.avi\n",
            "/content/drive/MyDrive/YouTubeClips /avi/b71bI0rH1g8_75_90\n",
            "Processing video /content/drive/MyDrive/YouTubeClips /avi/b71bI0rH1g8_75_90.avi\n",
            "/content/drive/MyDrive/YouTubeClips /avi/3lBHYoI5V8s_30_45\n",
            "Processing video /content/drive/MyDrive/YouTubeClips /avi/3lBHYoI5V8s_30_45.avi\n",
            "/content/drive/MyDrive/YouTubeClips /avi/aQWCKcg0VRU_321_339\n",
            "Processing video /content/drive/MyDrive/YouTubeClips /avi/aQWCKcg0VRU_321_339.avi\n",
            "/content/drive/MyDrive/YouTubeClips /avi/-joBOHlg5J0_72_80\n",
            "Processing video /content/drive/MyDrive/YouTubeClips /avi/-joBOHlg5J0_72_80.avi\n",
            "/content/drive/MyDrive/YouTubeClips /avi/Kms3EXosNS0_8_17\n",
            "Processing video /content/drive/MyDrive/YouTubeClips /avi/Kms3EXosNS0_8_17.avi\n",
            "/content/drive/MyDrive/YouTubeClips /avi/Gw0FU733zzg_58_66\n",
            "Processing video /content/drive/MyDrive/YouTubeClips /avi/Gw0FU733zzg_58_66.avi\n",
            "/content/drive/MyDrive/YouTubeClips /avi/urXDqw3S34I_12_17\n",
            "Processing video /content/drive/MyDrive/YouTubeClips /avi/urXDqw3S34I_12_17.avi\n",
            "/content/drive/MyDrive/YouTubeClips /avi/kWLNZzuo3do_217_222\n",
            "Processing video /content/drive/MyDrive/YouTubeClips /avi/kWLNZzuo3do_217_222.avi\n",
            "/content/drive/MyDrive/YouTubeClips /avi/4ge5_V-xhP0_35_42\n",
            "Processing video /content/drive/MyDrive/YouTubeClips /avi/4ge5_V-xhP0_35_42.avi\n",
            "/content/drive/MyDrive/YouTubeClips /avi/778mkceE0UQ_40_46\n",
            "Processing video /content/drive/MyDrive/YouTubeClips /avi/778mkceE0UQ_40_46.avi\n"
          ]
        }
      ],
      "source": [
        "extract_feats_pretrained_cnn()"
      ]
    },
    {
      "cell_type": "code",
      "execution_count": null,
      "metadata": {
        "id": "vJL4wkppel9i"
      },
      "outputs": [],
      "source": [
        "# All the numpy features shifted to a feat folder\n",
        "sourcepath='/content/drive/MyDrive/YouTubeClips /avi'\n",
        "sourcefiles = os.listdir(sourcepath)\n",
        "destinationpath = '/content/drive/MyDrive/YouTubeClips /feat'\n",
        "for file in sourcefiles:\n",
        "  if file.endswith('.npy'):\n",
        "    shutil.move(os.path.join(sourcepath,file), os.path.join(destinationpath,file))\n"
      ]
    },
    {
      "cell_type": "markdown",
      "metadata": {
        "id": "wv9WqbnI-GBm"
      },
      "source": [
        "Getting the captions data"
      ]
    },
    {
      "cell_type": "code",
      "execution_count": null,
      "metadata": {
        "colab": {
          "base_uri": "https://localhost:8080/",
          "height": 424
        },
        "id": "M_ky6KjV-U4_",
        "outputId": "72546cc4-1863-45c3-de63-c81b82faf8c0"
      },
      "outputs": [
        {
          "data": {
            "text/html": [
              "\n",
              "  <div id=\"df-cfc2e5af-1a97-40ea-9738-929be10b147f\">\n",
              "    <div class=\"colab-df-container\">\n",
              "      <div>\n",
              "<style scoped>\n",
              "    .dataframe tbody tr th:only-of-type {\n",
              "        vertical-align: middle;\n",
              "    }\n",
              "\n",
              "    .dataframe tbody tr th {\n",
              "        vertical-align: top;\n",
              "    }\n",
              "\n",
              "    .dataframe thead th {\n",
              "        text-align: right;\n",
              "    }\n",
              "</style>\n",
              "<table border=\"1\" class=\"dataframe\">\n",
              "  <thead>\n",
              "    <tr style=\"text-align: right;\">\n",
              "      <th></th>\n",
              "      <th>VideoID</th>\n",
              "      <th>Start</th>\n",
              "      <th>End</th>\n",
              "      <th>WorkerID</th>\n",
              "      <th>Source</th>\n",
              "      <th>AnnotationTime</th>\n",
              "      <th>Language</th>\n",
              "      <th>Description</th>\n",
              "    </tr>\n",
              "  </thead>\n",
              "  <tbody>\n",
              "    <tr>\n",
              "      <th>18</th>\n",
              "      <td>mv89psg6zh4</td>\n",
              "      <td>33</td>\n",
              "      <td>46</td>\n",
              "      <td>682611</td>\n",
              "      <td>clean</td>\n",
              "      <td>66</td>\n",
              "      <td>English</td>\n",
              "      <td>A bird in a sink keeps getting under the runni...</td>\n",
              "    </tr>\n",
              "    <tr>\n",
              "      <th>19</th>\n",
              "      <td>mv89psg6zh4</td>\n",
              "      <td>33</td>\n",
              "      <td>46</td>\n",
              "      <td>760882</td>\n",
              "      <td>clean</td>\n",
              "      <td>16</td>\n",
              "      <td>English</td>\n",
              "      <td>A bird is bathing in a sink.</td>\n",
              "    </tr>\n",
              "    <tr>\n",
              "      <th>20</th>\n",
              "      <td>mv89psg6zh4</td>\n",
              "      <td>33</td>\n",
              "      <td>46</td>\n",
              "      <td>878566</td>\n",
              "      <td>clean</td>\n",
              "      <td>76</td>\n",
              "      <td>English</td>\n",
              "      <td>A bird is splashing around under a running fau...</td>\n",
              "    </tr>\n",
              "    <tr>\n",
              "      <th>21</th>\n",
              "      <td>mv89psg6zh4</td>\n",
              "      <td>33</td>\n",
              "      <td>46</td>\n",
              "      <td>707318</td>\n",
              "      <td>clean</td>\n",
              "      <td>14</td>\n",
              "      <td>English</td>\n",
              "      <td>A bird is bathing in a sink.</td>\n",
              "    </tr>\n",
              "    <tr>\n",
              "      <th>22</th>\n",
              "      <td>mv89psg6zh4</td>\n",
              "      <td>33</td>\n",
              "      <td>46</td>\n",
              "      <td>135621</td>\n",
              "      <td>clean</td>\n",
              "      <td>58</td>\n",
              "      <td>English</td>\n",
              "      <td>A bird is standing in a sink drinking water th...</td>\n",
              "    </tr>\n",
              "    <tr>\n",
              "      <th>...</th>\n",
              "      <td>...</td>\n",
              "      <td>...</td>\n",
              "      <td>...</td>\n",
              "      <td>...</td>\n",
              "      <td>...</td>\n",
              "      <td>...</td>\n",
              "      <td>...</td>\n",
              "      <td>...</td>\n",
              "    </tr>\n",
              "    <tr>\n",
              "      <th>122597</th>\n",
              "      <td>m7x8uIdg2XU</td>\n",
              "      <td>67</td>\n",
              "      <td>73</td>\n",
              "      <td>749155</td>\n",
              "      <td>unverified</td>\n",
              "      <td>61</td>\n",
              "      <td>English</td>\n",
              "      <td>Milk being poured to a bowl of pasta</td>\n",
              "    </tr>\n",
              "    <tr>\n",
              "      <th>122598</th>\n",
              "      <td>m7x8uIdg2XU</td>\n",
              "      <td>67</td>\n",
              "      <td>73</td>\n",
              "      <td>303815</td>\n",
              "      <td>unverified</td>\n",
              "      <td>73</td>\n",
              "      <td>English</td>\n",
              "      <td>the girls are mixing the milk</td>\n",
              "    </tr>\n",
              "    <tr>\n",
              "      <th>122599</th>\n",
              "      <td>m7x8uIdg2XU</td>\n",
              "      <td>67</td>\n",
              "      <td>73</td>\n",
              "      <td>309959</td>\n",
              "      <td>unverified</td>\n",
              "      <td>19</td>\n",
              "      <td>English</td>\n",
              "      <td>The lady added a cream sauce to the pasta.</td>\n",
              "    </tr>\n",
              "    <tr>\n",
              "      <th>122600</th>\n",
              "      <td>m7x8uIdg2XU</td>\n",
              "      <td>67</td>\n",
              "      <td>73</td>\n",
              "      <td>130040</td>\n",
              "      <td>unverified</td>\n",
              "      <td>27</td>\n",
              "      <td>English</td>\n",
              "      <td>women are cooking her kichen</td>\n",
              "    </tr>\n",
              "    <tr>\n",
              "      <th>122601</th>\n",
              "      <td>m7x8uIdg2XU</td>\n",
              "      <td>67</td>\n",
              "      <td>73</td>\n",
              "      <td>762891</td>\n",
              "      <td>unverified</td>\n",
              "      <td>18</td>\n",
              "      <td>English</td>\n",
              "      <td>The woman is pouring cream over the pasta.</td>\n",
              "    </tr>\n",
              "  </tbody>\n",
              "</table>\n",
              "<p>85511 rows × 8 columns</p>\n",
              "</div>\n",
              "      <button class=\"colab-df-convert\" onclick=\"convertToInteractive('df-cfc2e5af-1a97-40ea-9738-929be10b147f')\"\n",
              "              title=\"Convert this dataframe to an interactive table.\"\n",
              "              style=\"display:none;\">\n",
              "        \n",
              "  <svg xmlns=\"http://www.w3.org/2000/svg\" height=\"24px\"viewBox=\"0 0 24 24\"\n",
              "       width=\"24px\">\n",
              "    <path d=\"M0 0h24v24H0V0z\" fill=\"none\"/>\n",
              "    <path d=\"M18.56 5.44l.94 2.06.94-2.06 2.06-.94-2.06-.94-.94-2.06-.94 2.06-2.06.94zm-11 1L8.5 8.5l.94-2.06 2.06-.94-2.06-.94L8.5 2.5l-.94 2.06-2.06.94zm10 10l.94 2.06.94-2.06 2.06-.94-2.06-.94-.94-2.06-.94 2.06-2.06.94z\"/><path d=\"M17.41 7.96l-1.37-1.37c-.4-.4-.92-.59-1.43-.59-.52 0-1.04.2-1.43.59L10.3 9.45l-7.72 7.72c-.78.78-.78 2.05 0 2.83L4 21.41c.39.39.9.59 1.41.59.51 0 1.02-.2 1.41-.59l7.78-7.78 2.81-2.81c.8-.78.8-2.07 0-2.86zM5.41 20L4 18.59l7.72-7.72 1.47 1.35L5.41 20z\"/>\n",
              "  </svg>\n",
              "      </button>\n",
              "      \n",
              "  <style>\n",
              "    .colab-df-container {\n",
              "      display:flex;\n",
              "      flex-wrap:wrap;\n",
              "      gap: 12px;\n",
              "    }\n",
              "\n",
              "    .colab-df-convert {\n",
              "      background-color: #E8F0FE;\n",
              "      border: none;\n",
              "      border-radius: 50%;\n",
              "      cursor: pointer;\n",
              "      display: none;\n",
              "      fill: #1967D2;\n",
              "      height: 32px;\n",
              "      padding: 0 0 0 0;\n",
              "      width: 32px;\n",
              "    }\n",
              "\n",
              "    .colab-df-convert:hover {\n",
              "      background-color: #E2EBFA;\n",
              "      box-shadow: 0px 1px 2px rgba(60, 64, 67, 0.3), 0px 1px 3px 1px rgba(60, 64, 67, 0.15);\n",
              "      fill: #174EA6;\n",
              "    }\n",
              "\n",
              "    [theme=dark] .colab-df-convert {\n",
              "      background-color: #3B4455;\n",
              "      fill: #D2E3FC;\n",
              "    }\n",
              "\n",
              "    [theme=dark] .colab-df-convert:hover {\n",
              "      background-color: #434B5C;\n",
              "      box-shadow: 0px 1px 3px 1px rgba(0, 0, 0, 0.15);\n",
              "      filter: drop-shadow(0px 1px 2px rgba(0, 0, 0, 0.3));\n",
              "      fill: #FFFFFF;\n",
              "    }\n",
              "  </style>\n",
              "\n",
              "      <script>\n",
              "        const buttonEl =\n",
              "          document.querySelector('#df-cfc2e5af-1a97-40ea-9738-929be10b147f button.colab-df-convert');\n",
              "        buttonEl.style.display =\n",
              "          google.colab.kernel.accessAllowed ? 'block' : 'none';\n",
              "\n",
              "        async function convertToInteractive(key) {\n",
              "          const element = document.querySelector('#df-cfc2e5af-1a97-40ea-9738-929be10b147f');\n",
              "          const dataTable =\n",
              "            await google.colab.kernel.invokeFunction('convertToInteractive',\n",
              "                                                     [key], {});\n",
              "          if (!dataTable) return;\n",
              "\n",
              "          const docLinkHtml = 'Like what you see? Visit the ' +\n",
              "            '<a target=\"_blank\" href=https://colab.research.google.com/notebooks/data_table.ipynb>data table notebook</a>'\n",
              "            + ' to learn more about interactive tables.';\n",
              "          element.innerHTML = '';\n",
              "          dataTable['output_type'] = 'display_data';\n",
              "          await google.colab.output.renderOutput(dataTable, element);\n",
              "          const docLink = document.createElement('div');\n",
              "          docLink.innerHTML = docLinkHtml;\n",
              "          element.appendChild(docLink);\n",
              "        }\n",
              "      </script>\n",
              "    </div>\n",
              "  </div>\n",
              "  "
            ],
            "text/plain": [
              "            VideoID  Start  End  WorkerID      Source  AnnotationTime  \\\n",
              "18      mv89psg6zh4     33   46    682611       clean              66   \n",
              "19      mv89psg6zh4     33   46    760882       clean              16   \n",
              "20      mv89psg6zh4     33   46    878566       clean              76   \n",
              "21      mv89psg6zh4     33   46    707318       clean              14   \n",
              "22      mv89psg6zh4     33   46    135621       clean              58   \n",
              "...             ...    ...  ...       ...         ...             ...   \n",
              "122597  m7x8uIdg2XU     67   73    749155  unverified              61   \n",
              "122598  m7x8uIdg2XU     67   73    303815  unverified              73   \n",
              "122599  m7x8uIdg2XU     67   73    309959  unverified              19   \n",
              "122600  m7x8uIdg2XU     67   73    130040  unverified              27   \n",
              "122601  m7x8uIdg2XU     67   73    762891  unverified              18   \n",
              "\n",
              "       Language                                        Description  \n",
              "18      English  A bird in a sink keeps getting under the runni...  \n",
              "19      English                       A bird is bathing in a sink.  \n",
              "20      English  A bird is splashing around under a running fau...  \n",
              "21      English                       A bird is bathing in a sink.  \n",
              "22      English  A bird is standing in a sink drinking water th...  \n",
              "...         ...                                                ...  \n",
              "122597  English               Milk being poured to a bowl of pasta  \n",
              "122598  English                      the girls are mixing the milk  \n",
              "122599  English         The lady added a cream sauce to the pasta.  \n",
              "122600  English                       women are cooking her kichen  \n",
              "122601  English         The woman is pouring cream over the pasta.  \n",
              "\n",
              "[85511 rows x 8 columns]"
            ]
          },
          "execution_count": 2,
          "metadata": {},
          "output_type": "execute_result"
        }
      ],
      "source": [
        "# Using only the English captions from the video corpus (caption data in .csv format)\n",
        "text_data=pd.read_csv('/content/drive/MyDrive/video_corpus.csv')\n",
        "text_data = text_data[text_data[\"Language\"] == \"English\"]\n",
        "text_data"
      ]
    },
    {
      "cell_type": "code",
      "execution_count": null,
      "metadata": {
        "id": "W5hDC2fGEvpM"
      },
      "outputs": [],
      "source": [
        "text_data.to_csv(r'video_corpus_captions.txt', header=None, index=None, sep=',', mode='a') # storing all the English captions in a .txt file"
      ]
    },
    {
      "cell_type": "code",
      "execution_count": null,
      "metadata": {
        "id": "U99OweCDF_sX"
      },
      "outputs": [],
      "source": [
        "with open('video_corpus_captions.txt', 'r') as f: \n",
        "    captions_doc = f.read()"
      ]
    },
    {
      "cell_type": "markdown",
      "metadata": {
        "id": "3bPLcN_a-piM"
      },
      "source": [
        "Mapping"
      ]
    },
    {
      "cell_type": "code",
      "execution_count": null,
      "metadata": {
        "colab": {
          "base_uri": "https://localhost:8080/",
          "height": 49,
          "referenced_widgets": [
            "ff7b08616c4048f29f990389b9fadd16",
            "6cf993ecce3e42b9b3948af5eead3544",
            "057e161261944e7ba79d649f7f137970",
            "29e03b58f9cd4adcbe8eedff430998d6",
            "cf2b41d8b519491b9d40e33af1d36606",
            "da9419ede6a54abb9f961af758951e6c",
            "34eeec3d91874dbeb80dd0f2898e106f",
            "3af00f28a4174a699d9c87bb8e282bc6",
            "c65ed9bb9c034628bf1c1e4b3914eba8",
            "1476984a405a4e1a8180af4002230584",
            "cfd3f6bfda1741cd85a99901dc0c31ff"
          ]
        },
        "id": "dqpoQ4-YF8Nw",
        "outputId": "fee31b95-1274-4251-83a4-33e331f6b9e2"
      },
      "outputs": [
        {
          "data": {
            "application/vnd.jupyter.widget-view+json": {
              "model_id": "ff7b08616c4048f29f990389b9fadd16",
              "version_major": 2,
              "version_minor": 0
            },
            "text/plain": [
              "  0%|          | 0/85497 [00:00<?, ?it/s]"
            ]
          },
          "metadata": {},
          "output_type": "display_data"
        }
      ],
      "source": [
        "# create mapping of video to captions\n",
        "mapping = {}\n",
        "# process lines\n",
        "for line in tqdm(captions_doc.split('\\n')):\n",
        "    # split the line by comma(,)\n",
        "    tokens = line.split(',')\n",
        "    if len(line) < 2:\n",
        "        continue\n",
        "    video_id,start,end, caption = tokens[0],tokens[1],tokens[2],tokens[7:]\n",
        "    # remove extension from video ID and adding the start and end\n",
        "    video_id = video_id.split('.')[0]+'_'+start+'_'+end\n",
        "    # convert caption list to string\n",
        "    caption = \" \".join(caption)\n",
        "    # create list if needed\n",
        "    if video_id not in mapping:\n",
        "        mapping[video_id] = []\n",
        "    # store the caption\n",
        "    mapping[video_id].append(caption)"
      ]
    },
    {
      "cell_type": "code",
      "execution_count": null,
      "metadata": {
        "id": "b6wkqH5SMQWS"
      },
      "outputs": [],
      "source": [
        "mapping"
      ]
    },
    {
      "cell_type": "code",
      "execution_count": null,
      "metadata": {
        "colab": {
          "base_uri": "https://localhost:8080/"
        },
        "id": "dHX_y-Tnjzjq",
        "outputId": "498100d7-7f88-43b5-dd39-fceb04b428cc"
      },
      "outputs": [
        {
          "name": "stdout",
          "output_type": "stream",
          "text": [
            "['KLgPTlBLHmo_18_21', 'D-K3ThvAqfo_126_130', 'eyBmG9ZZnLM_215_219', 'ph-72iVQQnU_38_48', 'uRo_vJ-zy-U_35_40', 'iju4KO-3KnY_2_12', 'fvXXLP6A4p4_109_119', 'TJXEKN7nwUc_11_49', '1dmVuwO1RZk_214_220', 'dvhJGidrrKE_254_260', 'dvhJGidrrKE_98_101', 'eQcUmH0VE90_9_15', 'QsKIlhn6if8_270_276', 'VoKJr0EOzCU_136_142', 'tZzJ9dDnncY_37_41', 'MUkKFFdpm4E_121_135', 'KWK7szRdbrE_80_90', 'I2eWXGaoWko_20_24', 'tgm4dRGBeJ0_289_294', 'BiVJel79edY_154_168', 'QsKIlhn6if8_39_49', '6ERey_f0Qmw_20_25', 'Ofr7FWbnPqU_1_11', 'eyBmG9ZZnLM_103_108', 'l_AVz90c4jQ_22_43', '3Da8WdYYoOk_5_20', 'PxygpGLKEps_410_420', 'Sude_yGIbJI_18_67', 'z3v8BMNdDvo_1_13', 'hGmsx2P1qHw_95_100', '9eJPVpoOtOs_115_130', 'Lz-2QTNp5O8_6_16', 'BiVJel79edY_223_240', 'n9bFBSSJ4Fk_32_39', 'yqvwrNm4eZ0_3_13', 'lqeojs7S0qI_181_186', 't1Oqko6IKBE_0_11', '61OSscPtQWQ_1_6', 'TO0X4DQZKqk_35_41', '8SxALJoNNFI_10_21', 'WlGESqqv0jg_77_82', 'IiH6yl3j4gI_20_30', 'dF1n2Sa2eCE_6_14', 'D-K3ThvAqfo_151_158', 'fnEvy64GuIE_137_146', '7mKqoUiXIeY_7_15', 'ctUQPVFfrJs_6_36', 'od0Da0Rn7U0_486_493', '-8rBYNP0UKM_50_82', '5MzJRgpclwQ_70_84', 'yeg0EKdQonk_102_130', 'eyBmG9ZZnLM_84_92', 'hq8dCkkhYsk_0_10', '326U8N2husw_26_28', '5MzJRgpclwQ_48_55', 'owiXDr1xQ8Y_66_75', 'hGmsx2P1qHw_36_44', 'b0GjKiy3nSI_0_25', '-8rBYNP0UKM_194_201', 'yVpwra1TJDY_67_80', '9hqxOcqW2KY_52_65', 'ph-72iVQQnU_126_138', 'x0QoC5POuko_170_180', 'hxWU5vf-fxU_10_15', 'UyhvHB62ph8_73_82', '5rNWGoDoiKE_10_15', 'M2DiiduAMuo_1_6', 'dvhJGidrrKE_247_252', 'MUkKFFdpm4E_40_58', '4a1PGntVff8_121_132', '1dmVuwO1RZk_0_15', 'IV5rtOumpa0_268_273', '1srk7ApounQ_32_38', 'eyBmG9ZZnLM_232_237', 'yEhV8xbekRo_0_10', 'EdV81a5Mg9E_178_200', 'W-dcOOW_ztM_56_62', 'IALJXP8LaS4_10_20', 'sYgm_wBTTrc_41_44', 'l_AVz90c4jQ_65_106', 'D-K3ThvAqfo_43_47', 'z4_c9CfLBPk_34_39', 'D-K3ThvAqfo_215_220', 'yq8CjZ2ZzyI_285_295', '5qVPfLgjHx0_16_22', 'tZzJ9dDnncY_43_46', 'Ke21boTg2Vg_24_29', 'GjN84xigExI_9_20', 'hGmsx2P1qHw_15_25', '3Mqau7J2g5E_18_36', '5hSW67ySCio_33_41', 'Pm9L60YBj3s_0_32', 'sqy2CMDl7U0_7_10', 'qyZ9z_3f94Q_6_9', '19lyIaPOvYs_10_17', 'sI0FBMKYo7s_1_6', 'fvXXLP6A4p4_250_268', 'mLEhUMLvraQ_35_68', 'aUPnwqkPXYc_123_138', 'UwlALS1AKb4_0_16', '1_abYc1K0e4_20_25', 'oMPebXDwkZ0_4_19', 'D-K3ThvAqfo_163_169', 'MUkKFFdpm4E_1_12', 'CuBgBtQAN7E_7_20', 'uuM0BFHTTsQ_9_50', 'ab9EVXlohHg_33_40', '_7V-7cs1pNA_269_275', 'D-K3ThvAqfo_209_213', 'G3aJaADfFiE_210_216', 'DIGIvSOLTIE_24_30', 'LLHUB8ciPrc_0_13', 'E6sXN-5IgHs_0_8', 'LVHEDAK3X1s_0_16', '50O8tEyWg1Y_24_47', '4DVsKrdXaUs_4_12', 'QdXRgR30bE4_9_19', 'BCZN-PmEOFg_141_146', 'vcCMId0DQaQ_19_38']\n"
          ]
        }
      ],
      "source": [
        "# Checking the extra videoIDs and cleaning the mapping/captions data\n",
        "x=[]\n",
        "for i in list(mapping.keys()):\n",
        "  if i+'.avi' not in os.listdir('/content/drive/MyDrive/YouTubeClips /avi'):\n",
        "    x.append(i)\n",
        "print(x)"
      ]
    },
    {
      "cell_type": "code",
      "execution_count": null,
      "metadata": {
        "id": "Ja482zGYN8N-"
      },
      "outputs": [],
      "source": [
        "for z in x:\n",
        "  mapping.pop(z)# Removing the captions of extra videoIDs"
      ]
    },
    {
      "cell_type": "code",
      "execution_count": null,
      "metadata": {
        "colab": {
          "base_uri": "https://localhost:8080/"
        },
        "id": "Om97gzxQPV9O",
        "outputId": "5467eb14-18e2-4337-87ed-1da0f3236450"
      },
      "outputs": [
        {
          "data": {
            "text/plain": [
              "1969"
            ]
          },
          "execution_count": 30,
          "metadata": {},
          "output_type": "execute_result"
        }
      ],
      "source": [
        "len(mapping)"
      ]
    },
    {
      "cell_type": "code",
      "execution_count": null,
      "metadata": {
        "id": "ODaghBZTUPSa"
      },
      "outputs": [],
      "source": [
        "with open('mapping.json', 'w') as f:\n",
        "    json.dump(mapping, f)# making a json file of the mapping dict"
      ]
    },
    {
      "cell_type": "code",
      "execution_count": null,
      "metadata": {
        "id": "Rn7mCzQcBVK6"
      },
      "outputs": [],
      "source": [
        "# Splitting the mapping keys into train and test IDs\n",
        "video_ids = list(mapping.keys())\n",
        "train_data = video_ids[:int(len(video_ids) * 0.8)]\n",
        "test_data = video_ids[int(len(video_ids) * 0.8):]"
      ]
    },
    {
      "cell_type": "code",
      "execution_count": null,
      "metadata": {
        "colab": {
          "base_uri": "https://localhost:8080/"
        },
        "id": "B1gkIuRLQA-N",
        "outputId": "23ae6d47-9475-4178-88b5-d3e8b108b3f2"
      },
      "outputs": [
        {
          "data": {
            "text/plain": [
              "1575"
            ]
          },
          "execution_count": 33,
          "metadata": {},
          "output_type": "execute_result"
        }
      ],
      "source": [
        "len(train_data)"
      ]
    },
    {
      "cell_type": "code",
      "execution_count": null,
      "metadata": {
        "id": "WOa71JVrDmTS"
      },
      "outputs": [],
      "source": [
        "# Folders containing all the videos in .avi format and the numpy features in .npy format respectively\n",
        "avi = \"/content/drive/MyDrive/YouTubeClips /avi\"\n",
        "feat= \"/content/drive/MyDrive/YouTubeClips /feat\""
      ]
    },
    {
      "cell_type": "code",
      "execution_count": null,
      "metadata": {
        "id": "54H4jhtYP9y7"
      },
      "outputs": [],
      "source": [
        "# Making the training videos folder\n",
        "train_vid=[]\n",
        "for i in train_data:\n",
        "  shutil.move(os.path.join(avi,i+'.avi'), os.path.join('/content/drive/MyDrive/YouTubeClips /train_avi',i+'.avi'))\n",
        "  train_vid.append(i+'.avi')"
      ]
    },
    {
      "cell_type": "code",
      "execution_count": null,
      "metadata": {
        "id": "52zPjfEFQ1Yt"
      },
      "outputs": [],
      "source": [
        "# Making the training features folder\n",
        "train_feat=[]\n",
        "for i in train_data:\n",
        "  shutil.move(os.path.join(feat,i+'.npy'), os.path.join('/content/drive/MyDrive/YouTubeClips /train_feat',i+'.npy'))\n",
        "  train_feat.append(i+'.npy')"
      ]
    },
    {
      "cell_type": "code",
      "execution_count": null,
      "metadata": {
        "id": "sg94iM_ORNJ3"
      },
      "outputs": [],
      "source": [
        "# Making a training captions json file\n",
        "train_label={}\n",
        "for i in train_data:\n",
        "  if i not in train_label:\n",
        "        train_label[i] = []\n",
        "  train_label[i].append(mapping[i])\n",
        "print(train_label)"
      ]
    },
    {
      "cell_type": "code",
      "execution_count": null,
      "metadata": {
        "id": "3ogfp7bbRqsn"
      },
      "outputs": [],
      "source": [
        "with open('train_label.json', 'w') as f:\n",
        "    json.dump(train_label, f)"
      ]
    },
    {
      "cell_type": "code",
      "execution_count": null,
      "metadata": {
        "id": "4ELr5v4oR-qA"
      },
      "outputs": [],
      "source": [
        "# Making the testing videos folder\n",
        "test_vid=[]\n",
        "for i in test_data:\n",
        "  shutil.move(os.path.join(avi,i+'.avi'), os.path.join('/content/drive/MyDrive/YouTubeClips /test_avi',i+'.avi'))\n",
        "  test_vid.append(i+'.avi')"
      ]
    },
    {
      "cell_type": "code",
      "execution_count": null,
      "metadata": {
        "id": "z1zfAArGSN6f"
      },
      "outputs": [],
      "source": [
        "# Making the testing features folder\n",
        "test_feat=[]\n",
        "for i in test_data:\n",
        "  shutil.move(os.path.join(feat,i+'.npy'), os.path.join('/content/drive/MyDrive/YouTubeClips /test_feat',i+'.npy'))\n",
        "  test_feat.append(i+'.npy')"
      ]
    },
    {
      "cell_type": "code",
      "execution_count": null,
      "metadata": {
        "id": "gsjiME7KSauu"
      },
      "outputs": [],
      "source": [
        "# Making a testing captions json file\n",
        "test_label={}\n",
        "for i in test_data:\n",
        "  if i not in test_label:\n",
        "        test_label[i] = []\n",
        "  test_label[i].append(mapping[i])\n",
        "print(test_label)"
      ]
    },
    {
      "cell_type": "code",
      "execution_count": null,
      "metadata": {
        "id": "Rj-6gzzuSobv"
      },
      "outputs": [],
      "source": [
        "import json\n",
        "with open('test_label.json', 'w') as f:\n",
        "    json.dump(test_label, f)"
      ]
    },
    {
      "cell_type": "markdown",
      "metadata": {
        "id": "RI6-ig5nBDnS"
      },
      "source": [
        "Preprocessing the Training captions data"
      ]
    },
    {
      "cell_type": "code",
      "execution_count": 4,
      "metadata": {
        "id": "vA-1M4adUuem"
      },
      "outputs": [],
      "source": [
        "train_path='/content/drive/MyDrive/YouTubeClips '\n",
        "TRAIN_LABEL_PATH = os.path.join(train_path, 'train_label.json')\n",
        "# mentioning the train test split\n",
        "train_split = 0.8\n",
        "# loading the json file for training\n",
        "with open(TRAIN_LABEL_PATH) as data_file:    \n",
        "    y_data = json.load(data_file)\n"
      ]
    },
    {
      "cell_type": "code",
      "execution_count": null,
      "metadata": {
        "id": "zMEk-gBhtEaa"
      },
      "outputs": [],
      "source": [
        "y_data"
      ]
    },
    {
      "cell_type": "code",
      "execution_count": 6,
      "metadata": {
        "colab": {
          "base_uri": "https://localhost:8080/"
        },
        "id": "dsq10k8KVkXH",
        "outputId": "521a09b4-4f83-4ca4-9c98-8bd2afd982a8"
      },
      "outputs": [
        {
          "output_type": "stream",
          "name": "stdout",
          "text": [
            "48386\n"
          ]
        }
      ],
      "source": [
        "# train_list contains all the captions with their video ID\n",
        "train_list = []\n",
        "\n",
        "for key,captions in list(y_data.items()):\n",
        "  for i in range(len(captions)):\n",
        "    for j in range(len(list(captions[i]))):\n",
        "        caption = list(captions[i])[j]\n",
        "        caption = caption.lower()\n",
        "        # delete digits, special chars, etc., \n",
        "        caption = caption.replace('[^A-Za-z]', '')\n",
        "        # delete additional spaces\n",
        "        caption = caption.replace('\\s+', ' ')\n",
        "        caption = \"<bos> \" + caption + \" <eos>\"\n",
        "        # we are only using sentences whose length lie between 6 and 10\n",
        "        if len(caption.split())>10 or len(caption.split())<6:\n",
        "          continue\n",
        "        else:\n",
        "          train_list.append([caption, key])\n",
        "print(len(train_list))\n",
        "random.shuffle(train_list)"
      ]
    },
    {
      "cell_type": "code",
      "execution_count": 163,
      "metadata": {
        "colab": {
          "base_uri": "https://localhost:8080/"
        },
        "id": "rvxht_W28men",
        "outputId": "d3e4d0a6-2a8d-4737-a8b6-759ea1b846f5"
      },
      "outputs": [
        {
          "output_type": "execute_result",
          "data": {
            "text/plain": [
              "[['<bos> a boy is talking  <eos>', 'GPT4vUwlrXY_1_10'],\n",
              " ['<bos> a girl is reading news paper <eos>', 'eVSQiPbepXg_44_49'],\n",
              " ['<bos> a baby is falling asleep  <eos>', '4Hhdr1IPOGs_1_10'],\n",
              " ['<bos> a girl is playing guitar  <eos>', 'Rf0TUCA3XNs_3_16'],\n",
              " ['<bos> a cartoon character is doing circus  <eos>', 'VZ6H73nH7xs_27_33'],\n",
              " ['<bos> a man is dancing on stage  <eos>', 'Gh4Beb8StFM_29_50'],\n",
              " ['<bos> a child is playing guitar  <eos>', 'tYQ7O6V0Fvk_20_55'],\n",
              " ['<bos> a man bounces his head  <eos>', '4QdX5Q3qQsQ_38_44'],\n",
              " ['<bos> a person sprinkles shredded cheese on a tortilla  <eos>',\n",
              "  'Je3V7U5Ctj4_569_576'],\n",
              " ['<bos> the people are singing and swaying  <eos>', 'lmCrIZeob4w_23_26'],\n",
              " ['<bos> a man is riding on a horse  <eos>', 'PiyoeFC31kE_9_27'],\n",
              " ['<bos> a person is stirring a souse  <eos>', 'UXs3eq68ZjE_235_240'],\n",
              " ['<bos> a guy is playing a guitar  <eos>', '30PpKtVT8Z4_35_50'],\n",
              " ['<bos> a man gets hit by an egg  <eos>', 'KqKUXRHHkCc_101_105'],\n",
              " ['<bos> the little white dog barked and barked  <eos>', 'RSx5G0_xH48_12_17'],\n",
              " ['<bos> a little girl is playing piano <eos>', 'OO-5-eVEKPA_25_31'],\n",
              " ['<bos> two women sing into microphones  <eos>', '-t-ZWaJeH-o_0_15'],\n",
              " ['<bos> the men did tricks with a soccer ball  <eos>', 'q8t7iSGAKik_57_74'],\n",
              " ['<bos> a women speaks in cell <eos>', 'K-czl524zxk_6_15'],\n",
              " ['<bos> a woman seasons plates of food  <eos>', 'qeKX-N1nKiM_123_130']]"
            ]
          },
          "metadata": {},
          "execution_count": 163
        }
      ],
      "source": [
        "train_list[:20]"
      ]
    },
    {
      "cell_type": "code",
      "execution_count": 8,
      "metadata": {
        "colab": {
          "base_uri": "https://localhost:8080/"
        },
        "id": "Lmu1OVcJxmo2",
        "outputId": "95bd25a9-4a8d-4bf3-c7ce-82ab2d6c25ad"
      },
      "outputs": [
        {
          "output_type": "execute_result",
          "data": {
            "text/plain": [
              "38708"
            ]
          },
          "metadata": {},
          "execution_count": 8
        }
      ],
      "source": [
        "# vocab_list contains all the vocabulary from training data\n",
        "vocab_list = []\n",
        "training_list = train_list[:int(len(train_list)*train_split)]\n",
        "validation_list = train_list[int(len(train_list)*train_split):]\n",
        "for train in training_list:\n",
        "    vocab_list.append(train[0])\n",
        "len(vocab_list)"
      ]
    },
    {
      "cell_type": "code",
      "execution_count": 13,
      "metadata": {
        "colab": {
          "base_uri": "https://localhost:8080/"
        },
        "id": "xpCzmO8uRhhH",
        "outputId": "82a6704a-5fbf-49a1-a354-fbafb18820a0"
      },
      "outputs": [
        {
          "output_type": "stream",
          "name": "stdout",
          "text": [
            "6358\n",
            "38708\n",
            "9678\n"
          ]
        },
        {
          "output_type": "execute_result",
          "data": {
            "text/plain": [
              "1575"
            ]
          },
          "metadata": {},
          "execution_count": 13
        }
      ],
      "source": [
        "# Tokenizing the words\n",
        "tokenizer = Tokenizer(num_words=2226)# Taking the words occuring five or more number of times only\n",
        "tokenizer.fit_on_texts(vocab_list)\n",
        "print(len(tokenizer.word_index))\n",
        "x_data = {}\n",
        "TRAIN_FEATURE_DIR = '/content/drive/MyDrive/YouTubeClips /train_feat'\n",
        "# Loading all the numpy arrays at once and saving them in a dictionary\n",
        "for filename in os.listdir(TRAIN_FEATURE_DIR):\n",
        "    f = np.load(os.path.join(TRAIN_FEATURE_DIR, filename))\n",
        "    x_data[filename[:-4]] = f\n",
        "print(len(training_list))\n",
        "print(len(validation_list))\n",
        "len(x_data)"
      ]
    },
    {
      "cell_type": "code",
      "execution_count": 14,
      "metadata": {
        "id": "KBS2WPTr9wzg"
      },
      "outputs": [],
      "source": [
        "# creating corpus\n",
        "corpus = \"\"\n",
        "for el in vocab_list:\n",
        "    corpus += \" \"+el"
      ]
    },
    {
      "cell_type": "code",
      "execution_count": 15,
      "metadata": {
        "colab": {
          "base_uri": "https://localhost:8080/"
        },
        "id": "-60KLsyV94H6",
        "outputId": "cee54178-17ee-4a68-a29f-4d5a9f1298e6"
      },
      "outputs": [
        {
          "output_type": "stream",
          "name": "stdout",
          "text": [
            "The size of vocabulary is 6492\n"
          ]
        }
      ],
      "source": [
        "total_words = corpus.split()\n",
        "vocabulary = set(total_words)\n",
        "print(\"The size of vocabulary is {}\".format(len(vocabulary)))"
      ]
    },
    {
      "cell_type": "code",
      "execution_count": null,
      "metadata": {
        "id": "oNpxQibBCNAh"
      },
      "outputs": [],
      "source": [
        "vocabulary"
      ]
    },
    {
      "cell_type": "code",
      "execution_count": 17,
      "metadata": {
        "colab": {
          "base_uri": "https://localhost:8080/",
          "height": 424
        },
        "id": "7RQHIKKp-Mt3",
        "outputId": "c09e4ec0-9a1b-46fb-de4d-8c55b13a1820"
      },
      "outputs": [
        {
          "output_type": "execute_result",
          "data": {
            "text/plain": [
              "           Word  Frequency\n",
              "0             a      39016\n",
              "1         <bos>      38708\n",
              "2         <eos>      38708\n",
              "3            is      22316\n",
              "4           the      12398\n",
              "...         ...        ...\n",
              "6487  teen-ager          1\n",
              "6488   weighted          1\n",
              "6489        bro          1\n",
              "6490     noah's          1\n",
              "6491        ark          1\n",
              "\n",
              "[6492 rows x 2 columns]"
            ],
            "text/html": [
              "\n",
              "  <div id=\"df-7de2a18a-057f-4d9c-8c51-7c412aa48037\">\n",
              "    <div class=\"colab-df-container\">\n",
              "      <div>\n",
              "<style scoped>\n",
              "    .dataframe tbody tr th:only-of-type {\n",
              "        vertical-align: middle;\n",
              "    }\n",
              "\n",
              "    .dataframe tbody tr th {\n",
              "        vertical-align: top;\n",
              "    }\n",
              "\n",
              "    .dataframe thead th {\n",
              "        text-align: right;\n",
              "    }\n",
              "</style>\n",
              "<table border=\"1\" class=\"dataframe\">\n",
              "  <thead>\n",
              "    <tr style=\"text-align: right;\">\n",
              "      <th></th>\n",
              "      <th>Word</th>\n",
              "      <th>Frequency</th>\n",
              "    </tr>\n",
              "  </thead>\n",
              "  <tbody>\n",
              "    <tr>\n",
              "      <th>0</th>\n",
              "      <td>a</td>\n",
              "      <td>39016</td>\n",
              "    </tr>\n",
              "    <tr>\n",
              "      <th>1</th>\n",
              "      <td>&lt;bos&gt;</td>\n",
              "      <td>38708</td>\n",
              "    </tr>\n",
              "    <tr>\n",
              "      <th>2</th>\n",
              "      <td>&lt;eos&gt;</td>\n",
              "      <td>38708</td>\n",
              "    </tr>\n",
              "    <tr>\n",
              "      <th>3</th>\n",
              "      <td>is</td>\n",
              "      <td>22316</td>\n",
              "    </tr>\n",
              "    <tr>\n",
              "      <th>4</th>\n",
              "      <td>the</td>\n",
              "      <td>12398</td>\n",
              "    </tr>\n",
              "    <tr>\n",
              "      <th>...</th>\n",
              "      <td>...</td>\n",
              "      <td>...</td>\n",
              "    </tr>\n",
              "    <tr>\n",
              "      <th>6487</th>\n",
              "      <td>teen-ager</td>\n",
              "      <td>1</td>\n",
              "    </tr>\n",
              "    <tr>\n",
              "      <th>6488</th>\n",
              "      <td>weighted</td>\n",
              "      <td>1</td>\n",
              "    </tr>\n",
              "    <tr>\n",
              "      <th>6489</th>\n",
              "      <td>bro</td>\n",
              "      <td>1</td>\n",
              "    </tr>\n",
              "    <tr>\n",
              "      <th>6490</th>\n",
              "      <td>noah's</td>\n",
              "      <td>1</td>\n",
              "    </tr>\n",
              "    <tr>\n",
              "      <th>6491</th>\n",
              "      <td>ark</td>\n",
              "      <td>1</td>\n",
              "    </tr>\n",
              "  </tbody>\n",
              "</table>\n",
              "<p>6492 rows × 2 columns</p>\n",
              "</div>\n",
              "      <button class=\"colab-df-convert\" onclick=\"convertToInteractive('df-7de2a18a-057f-4d9c-8c51-7c412aa48037')\"\n",
              "              title=\"Convert this dataframe to an interactive table.\"\n",
              "              style=\"display:none;\">\n",
              "        \n",
              "  <svg xmlns=\"http://www.w3.org/2000/svg\" height=\"24px\"viewBox=\"0 0 24 24\"\n",
              "       width=\"24px\">\n",
              "    <path d=\"M0 0h24v24H0V0z\" fill=\"none\"/>\n",
              "    <path d=\"M18.56 5.44l.94 2.06.94-2.06 2.06-.94-2.06-.94-.94-2.06-.94 2.06-2.06.94zm-11 1L8.5 8.5l.94-2.06 2.06-.94-2.06-.94L8.5 2.5l-.94 2.06-2.06.94zm10 10l.94 2.06.94-2.06 2.06-.94-2.06-.94-.94-2.06-.94 2.06-2.06.94z\"/><path d=\"M17.41 7.96l-1.37-1.37c-.4-.4-.92-.59-1.43-.59-.52 0-1.04.2-1.43.59L10.3 9.45l-7.72 7.72c-.78.78-.78 2.05 0 2.83L4 21.41c.39.39.9.59 1.41.59.51 0 1.02-.2 1.41-.59l7.78-7.78 2.81-2.81c.8-.78.8-2.07 0-2.86zM5.41 20L4 18.59l7.72-7.72 1.47 1.35L5.41 20z\"/>\n",
              "  </svg>\n",
              "      </button>\n",
              "      \n",
              "  <style>\n",
              "    .colab-df-container {\n",
              "      display:flex;\n",
              "      flex-wrap:wrap;\n",
              "      gap: 12px;\n",
              "    }\n",
              "\n",
              "    .colab-df-convert {\n",
              "      background-color: #E8F0FE;\n",
              "      border: none;\n",
              "      border-radius: 50%;\n",
              "      cursor: pointer;\n",
              "      display: none;\n",
              "      fill: #1967D2;\n",
              "      height: 32px;\n",
              "      padding: 0 0 0 0;\n",
              "      width: 32px;\n",
              "    }\n",
              "\n",
              "    .colab-df-convert:hover {\n",
              "      background-color: #E2EBFA;\n",
              "      box-shadow: 0px 1px 2px rgba(60, 64, 67, 0.3), 0px 1px 3px 1px rgba(60, 64, 67, 0.15);\n",
              "      fill: #174EA6;\n",
              "    }\n",
              "\n",
              "    [theme=dark] .colab-df-convert {\n",
              "      background-color: #3B4455;\n",
              "      fill: #D2E3FC;\n",
              "    }\n",
              "\n",
              "    [theme=dark] .colab-df-convert:hover {\n",
              "      background-color: #434B5C;\n",
              "      box-shadow: 0px 1px 3px 1px rgba(0, 0, 0, 0.15);\n",
              "      filter: drop-shadow(0px 1px 2px rgba(0, 0, 0, 0.3));\n",
              "      fill: #FFFFFF;\n",
              "    }\n",
              "  </style>\n",
              "\n",
              "      <script>\n",
              "        const buttonEl =\n",
              "          document.querySelector('#df-7de2a18a-057f-4d9c-8c51-7c412aa48037 button.colab-df-convert');\n",
              "        buttonEl.style.display =\n",
              "          google.colab.kernel.accessAllowed ? 'block' : 'none';\n",
              "\n",
              "        async function convertToInteractive(key) {\n",
              "          const element = document.querySelector('#df-7de2a18a-057f-4d9c-8c51-7c412aa48037');\n",
              "          const dataTable =\n",
              "            await google.colab.kernel.invokeFunction('convertToInteractive',\n",
              "                                                     [key], {});\n",
              "          if (!dataTable) return;\n",
              "\n",
              "          const docLinkHtml = 'Like what you see? Visit the ' +\n",
              "            '<a target=\"_blank\" href=https://colab.research.google.com/notebooks/data_table.ipynb>data table notebook</a>'\n",
              "            + ' to learn more about interactive tables.';\n",
              "          element.innerHTML = '';\n",
              "          dataTable['output_type'] = 'display_data';\n",
              "          await google.colab.output.renderOutput(dataTable, element);\n",
              "          const docLink = document.createElement('div');\n",
              "          docLink.innerHTML = docLinkHtml;\n",
              "          element.appendChild(docLink);\n",
              "        }\n",
              "      </script>\n",
              "    </div>\n",
              "  </div>\n",
              "  "
            ]
          },
          "metadata": {},
          "execution_count": 17
        }
      ],
      "source": [
        "# creating frequency distribution of words\n",
        "freq_dist = FreqDist(total_words)\n",
        "sorted_freq=freq_dist.most_common(len(vocabulary))# in ascending order\n",
        "sorted_df=pd.DataFrame(sorted_freq, columns=[\"Word\",\"Frequency\"])# creating a dataframe of the frequency distribution of words in ascending order\n",
        "sorted_df"
      ]
    },
    {
      "cell_type": "code",
      "execution_count": 18,
      "metadata": {
        "colab": {
          "base_uri": "https://localhost:8080/",
          "height": 659
        },
        "id": "DQPSEt5x-QeB",
        "outputId": "70eea8cc-1c29-40d3-b1fa-66717705e67f"
      },
      "outputs": [
        {
          "output_type": "display_data",
          "data": {
            "text/plain": [
              "<Figure size 1440x216 with 1 Axes>"
            ],
            "image/png": "[encoded data removed]"
          },
          "metadata": {
            "needs_background": "light"
          }
        },
        {
          "output_type": "display_data",
          "data": {
            "text/plain": [
              "<Figure size 1440x216 with 1 Axes>"
            ],
            "image/png": "[encoded data removed]"
          },
          "metadata": {
            "needs_background": "light"
          }
        }
      ],
      "source": [
        "topn = 50\n",
        "\n",
        "def plthist(dfsub, title=\"The top 50 most frequently appearing words\"):\n",
        "    plt.figure(figsize=(20,3))\n",
        "    plt.bar(dfsub.index,dfsub[\"Frequency\"])\n",
        "    plt.yticks(fontsize=20)\n",
        "    plt.xticks(dfsub.index,dfsub[\"Word\"],rotation=90,fontsize=20)\n",
        "    plt.title(title,fontsize=20)\n",
        "    plt.show()\n",
        "\n",
        "plthist(sorted_df.iloc[:topn,:],\n",
        "        title=\"The top 50 most frequently appearing words\")\n",
        "plthist(sorted_df.iloc[-topn:,:],\n",
        "        title=\"The least 50 most frequently appearing words\")"
      ]
    },
    {
      "cell_type": "markdown",
      "metadata": {
        "id": "2Q1SE8SCBcl5"
      },
      "source": [
        "Model creation"
      ]
    },
    {
      "cell_type": "code",
      "execution_count": 19,
      "metadata": {
        "id": "tcEaS4ppyq_N"
      },
      "outputs": [],
      "source": [
        "# Creating a custom data generator because we cannot load so many files at once\n",
        "def load_datatest(train_path, epochs=150, x_data=x_data, tokenizer=tokenizer, num_decoder_tokens=2226,training_list=train_list, batch_size=32, maxlen=10):\n",
        "    encoder_input_data = []\n",
        "    decoder_input_data = []\n",
        "    decoder_target_data = []\n",
        "    videoId = []\n",
        "    videoSeq = []\n",
        "    # separating the videoId and the video captions\n",
        "    for idx, cap in enumerate(training_list):\n",
        "        caption = cap[0]\n",
        "        videoId.append(cap[1])\n",
        "        videoSeq.append(caption)\n",
        "    # converting the captions to tokens and padding them to equal sizes\n",
        "    train_sequences = tokenizer.texts_to_sequences(videoSeq)\n",
        "    train_sequences = np.array(train_sequences)\n",
        "    train_sequences = pad_sequences(train_sequences, padding='post',truncating='post', maxlen=maxlen)\n",
        "    max_seq_length = train_sequences.shape[1]\n",
        "    filesize = len(train_sequences)\n",
        "    X_data = []\n",
        "    y_data = []\n",
        "    vCount = 0\n",
        "    n = 0\n",
        "    for i in range(epochs):\n",
        "      for idx in  range(0,filesize):\n",
        "        n += 1\n",
        "        encoder_input_data.append(x_data[videoId[idx]])\n",
        "        y = to_categorical(train_sequences[idx], num_decoder_tokens)\n",
        "        decoder_input_data.append(y[:-1])\n",
        "        decoder_target_data.append(y[1:])\n",
        "        if n == batch_size:\n",
        "          encoder_input = np.array(encoder_input_data)\n",
        "          decoder_input = np.array(decoder_input_data)\n",
        "          decoder_target = np.array(decoder_target_data)\n",
        "          encoder_input_data = []\n",
        "          decoder_input_data = []\n",
        "          decoder_target_data = []\n",
        "          n = 0\n",
        "          yield ([encoder_input, decoder_input], decoder_target)"
      ]
    },
    {
      "cell_type": "code",
      "execution_count": 20,
      "metadata": {
        "id": "wB0VPZDszoJl"
      },
      "outputs": [],
      "source": [
        "# writing the train and validation generator\n",
        "train = load_datatest(train_path='training_data',batch_size=320, training_list=training_list, x_data=x_data, epochs=150)\n",
        "valid = load_datatest(train_path='training_data',batch_size=320, training_list=validation_list, x_data=x_data, epochs=150)"
      ]
    },
    {
      "cell_type": "code",
      "execution_count": 21,
      "metadata": {
        "id": "0nn9d_dSz96k"
      },
      "outputs": [],
      "source": [
        "\"\"\"\n",
        "time_steps_encoder is the number of frames per video we will be using for training\n",
        "num_encoder_tokens is the number of features from each frame\n",
        "latent_dim is the number of hidden features for lstm\n",
        "time_steps_decoder is the maximum length of each sentence\n",
        "num_decoder_tokens is the final number of tokens in the softmax layer\n",
        "batch size\n",
        "\"\"\"\n",
        "time_steps_encoder=80\n",
        "num_encoder_tokens=4096\n",
        "latent_dim=512\n",
        "time_steps_decoder=10\n",
        "num_decoder_tokens=2226\n",
        "batch_size=320\n",
        "epochs=150"
      ]
    },
    {
      "cell_type": "code",
      "execution_count": 22,
      "metadata": {
        "colab": {
          "base_uri": "https://localhost:8080/",
          "height": 821
        },
        "id": "r-3GS5kL0Fx9",
        "outputId": "65539653-9200-4fc6-d9a2-7ba3ab03f677"
      },
      "outputs": [
        {
          "output_type": "stream",
          "name": "stdout",
          "text": [
            "Model: \"model\"\n",
            "__________________________________________________________________________________________________\n",
            " Layer (type)                   Output Shape         Param #     Connected to                     \n",
            "==================================================================================================\n",
            " encoder_inputs (InputLayer)    [(None, 80, 4096)]   0           []                               \n",
            "                                                                                                  \n",
            " decoder_inputs (InputLayer)    [(None, 10, 2226)]   0           []                               \n",
            "                                                                                                  \n",
            " endcoder_lstm (LSTM)           [(None, 80, 512),    9439232     ['encoder_inputs[0][0]']         \n",
            "                                 (None, 512),                                                     \n",
            "                                 (None, 512)]                                                     \n",
            "                                                                                                  \n",
            " decoder_lstm (LSTM)            [(None, 10, 512),    5609472     ['decoder_inputs[0][0]',         \n",
            "                                 (None, 512),                     'endcoder_lstm[0][1]',          \n",
            "                                 (None, 512)]                     'endcoder_lstm[0][2]']          \n",
            "                                                                                                  \n",
            " decoder_relu (Dense)           (None, 10, 2226)     1141938     ['decoder_lstm[0][0]']           \n",
            "                                                                                                  \n",
            "==================================================================================================\n",
            "Total params: 16,190,642\n",
            "Trainable params: 16,190,642\n",
            "Non-trainable params: 0\n",
            "__________________________________________________________________________________________________\n"
          ]
        },
        {
          "output_type": "execute_result",
          "data": {
            "text/plain": [
              "<IPython.core.display.Image object>"
            ],
            "image/png": "[encoded data removed]"
          },
          "metadata": {},
          "execution_count": 22
        }
      ],
      "source": [
        "# Setting up the encoder\n",
        "encoder_inputs = Input(shape=(time_steps_encoder, num_encoder_tokens), name=\"encoder_inputs\")\n",
        "encoder = LSTM(latent_dim, return_state=True,return_sequences=True, name='endcoder_lstm')\n",
        "_, state_h, state_c = encoder(encoder_inputs)\n",
        "encoder_states = [state_h, state_c]\n",
        "\n",
        "\n",
        "# Set up the decoder\n",
        "decoder_inputs = Input(shape=(time_steps_decoder, num_decoder_tokens), name= \"decoder_inputs\")\n",
        "decoder_lstm = LSTM(latent_dim, return_sequences=True, return_state=True, name='decoder_lstm')\n",
        "decoder_outputs, _, _ = decoder_lstm(decoder_inputs, initial_state=encoder_states)\n",
        "decoder_dense = Dense(num_decoder_tokens, activation='softmax', name='decoder_relu')\n",
        "decoder_outputs = decoder_dense(decoder_outputs)\n",
        "\n",
        "\n",
        "model = Model([encoder_inputs, decoder_inputs], decoder_outputs)\n",
        "model.summary()\n",
        "plot_model(model, to_file='model_train.png', show_shapes=True, show_layer_names=True)\n"
      ]
    },
    {
      "cell_type": "code",
      "execution_count": null,
      "metadata": {
        "id": "eZJvAYDO0K-e"
      },
      "outputs": [],
      "source": [
        "# Loading the tensorboard to visualise results\n",
        "%load_ext tensorboard\n",
        "%tensorboard --logdir logs"
      ]
    },
    {
      "cell_type": "markdown",
      "metadata": {
        "id": "pQnij2GUBqxu"
      },
      "source": [
        "Training the Model"
      ]
    },
    {
      "cell_type": "code",
      "execution_count": 24,
      "metadata": {
        "colab": {
          "base_uri": "https://localhost:8080/"
        },
        "id": "VX8qUFOO0Psf",
        "outputId": "543dd2a3-0da2-4d5b-e479-a02a86ebaf04"
      },
      "outputs": [
        {
          "output_type": "stream",
          "name": "stderr",
          "text": [
            "/usr/local/lib/python3.7/dist-packages/keras/optimizer_v2/adam.py:105: UserWarning: The `lr` argument is deprecated, use `learning_rate` instead.\n",
            "  super(Adam, self).__init__(name, **kwargs)\n",
            "/usr/local/lib/python3.7/dist-packages/ipykernel_launcher.py:15: VisibleDeprecationWarning: Creating an ndarray from ragged nested sequences (which is a list-or-tuple of lists-or-tuples-or ndarrays with different lengths or shapes) is deprecated. If you meant to do this, you must specify 'dtype=object' when creating the ndarray.\n",
            "  from ipykernel import kernelapp as app\n"
          ]
        },
        {
          "output_type": "stream",
          "name": "stdout",
          "text": [
            "Epoch 1/150\n",
            "120/120 [==============================] - 106s 799ms/step - loss: 3.4740 - accuracy: 0.4076 - val_loss: 2.9458 - val_accuracy: 0.4604 - lr: 7.0000e-04\n",
            "Epoch 2/150\n",
            "120/120 [==============================] - 85s 707ms/step - loss: 2.7705 - accuracy: 0.4983 - val_loss: 2.5213 - val_accuracy: 0.5417 - lr: 7.0000e-04\n",
            "Epoch 3/150\n",
            "120/120 [==============================] - 95s 790ms/step - loss: 2.3579 - accuracy: 0.5667 - val_loss: 2.1823 - val_accuracy: 0.5915 - lr: 7.0000e-04\n",
            "Epoch 4/150\n",
            "120/120 [==============================] - 86s 718ms/step - loss: 2.0524 - accuracy: 0.6098 - val_loss: 1.9388 - val_accuracy: 0.6251 - lr: 7.0000e-04\n",
            "Epoch 5/150\n",
            "120/120 [==============================] - 95s 792ms/step - loss: 1.8357 - accuracy: 0.6397 - val_loss: 1.7763 - val_accuracy: 0.6501 - lr: 7.0000e-04\n",
            "Epoch 6/150\n",
            "120/120 [==============================] - 85s 712ms/step - loss: 1.6791 - accuracy: 0.6612 - val_loss: 1.6519 - val_accuracy: 0.6672 - lr: 7.0000e-04\n",
            "Epoch 7/150\n",
            "120/120 [==============================] - 86s 715ms/step - loss: 1.5610 - accuracy: 0.6774 - val_loss: 1.5640 - val_accuracy: 0.6811 - lr: 7.0000e-04\n",
            "Epoch 8/150\n",
            "120/120 [==============================] - 95s 789ms/step - loss: 1.4708 - accuracy: 0.6889 - val_loss: 1.5036 - val_accuracy: 0.6892 - lr: 7.0000e-04\n",
            "Epoch 9/150\n",
            "120/120 [==============================] - 95s 790ms/step - loss: 1.3997 - accuracy: 0.6981 - val_loss: 1.4559 - val_accuracy: 0.6956 - lr: 7.0000e-04\n",
            "Epoch 10/150\n",
            "120/120 [==============================] - 95s 792ms/step - loss: 1.3422 - accuracy: 0.7050 - val_loss: 1.4158 - val_accuracy: 0.7002 - lr: 7.0000e-04\n",
            "Epoch 11/150\n",
            "120/120 [==============================] - 85s 713ms/step - loss: 1.2954 - accuracy: 0.7105 - val_loss: 1.3825 - val_accuracy: 0.7054 - lr: 7.0000e-04\n",
            "Epoch 12/150\n",
            "120/120 [==============================] - 85s 711ms/step - loss: 1.2544 - accuracy: 0.7157 - val_loss: 1.3592 - val_accuracy: 0.7062 - lr: 7.0000e-04\n",
            "Epoch 13/150\n",
            "120/120 [==============================] - 85s 710ms/step - loss: 1.2200 - accuracy: 0.7197 - val_loss: 1.3477 - val_accuracy: 0.7084 - lr: 7.0000e-04\n",
            "Epoch 14/150\n",
            "120/120 [==============================] - 94s 788ms/step - loss: 1.1913 - accuracy: 0.7232 - val_loss: 1.3263 - val_accuracy: 0.7107 - lr: 7.0000e-04\n",
            "Epoch 15/150\n",
            "120/120 [==============================] - 85s 711ms/step - loss: 1.1641 - accuracy: 0.7265 - val_loss: 1.3109 - val_accuracy: 0.7116 - lr: 7.0000e-04\n",
            "Epoch 16/150\n",
            "120/120 [==============================] - 95s 790ms/step - loss: 1.1404 - accuracy: 0.7291 - val_loss: 1.2972 - val_accuracy: 0.7135 - lr: 7.0000e-04\n",
            "Epoch 17/150\n",
            "120/120 [==============================] - 94s 788ms/step - loss: 1.1183 - accuracy: 0.7320 - val_loss: 1.2942 - val_accuracy: 0.7129 - lr: 7.0000e-04\n",
            "Epoch 18/150\n",
            "120/120 [==============================] - 95s 794ms/step - loss: 1.0994 - accuracy: 0.7345 - val_loss: 1.2814 - val_accuracy: 0.7159 - lr: 7.0000e-04\n",
            "Epoch 19/150\n",
            "120/120 [==============================] - 95s 792ms/step - loss: 1.0784 - accuracy: 0.7371 - val_loss: 1.2681 - val_accuracy: 0.7179 - lr: 7.0000e-04\n",
            "Epoch 20/150\n",
            "120/120 [==============================] - 86s 716ms/step - loss: 1.0614 - accuracy: 0.7396 - val_loss: 1.2617 - val_accuracy: 0.7192 - lr: 7.0000e-04\n",
            "Epoch 21/150\n",
            "120/120 [==============================] - 85s 712ms/step - loss: 1.0455 - accuracy: 0.7413 - val_loss: 1.2575 - val_accuracy: 0.7187 - lr: 7.0000e-04\n",
            "Epoch 22/150\n",
            "120/120 [==============================] - 85s 709ms/step - loss: 1.0312 - accuracy: 0.7434 - val_loss: 1.2519 - val_accuracy: 0.7192 - lr: 7.0000e-04\n",
            "Epoch 23/150\n",
            "120/120 [==============================] - 94s 787ms/step - loss: 1.0154 - accuracy: 0.7455 - val_loss: 1.2465 - val_accuracy: 0.7199 - lr: 7.0000e-04\n",
            "Epoch 24/150\n",
            "120/120 [==============================] - 85s 711ms/step - loss: 1.0015 - accuracy: 0.7479 - val_loss: 1.2454 - val_accuracy: 0.7211 - lr: 7.0000e-04\n",
            "Epoch 25/150\n",
            "120/120 [==============================] - 94s 786ms/step - loss: 0.9895 - accuracy: 0.7492 - val_loss: 1.2483 - val_accuracy: 0.7198 - lr: 7.0000e-04\n",
            "Epoch 26/150\n",
            "120/120 [==============================] - 95s 791ms/step - loss: 0.9760 - accuracy: 0.7513 - val_loss: 1.2434 - val_accuracy: 0.7196 - lr: 7.0000e-04\n",
            "Epoch 27/150\n",
            "120/120 [==============================] - 95s 793ms/step - loss: 0.9637 - accuracy: 0.7532 - val_loss: 1.2389 - val_accuracy: 0.7204 - lr: 7.0000e-04\n",
            "Epoch 28/150\n",
            "120/120 [==============================] - 95s 790ms/step - loss: 0.9516 - accuracy: 0.7544 - val_loss: 1.2395 - val_accuracy: 0.7203 - lr: 7.0000e-04\n",
            "Epoch 29/150\n",
            "120/120 [==============================] - 95s 790ms/step - loss: 0.9431 - accuracy: 0.7560 - val_loss: 1.2411 - val_accuracy: 0.7184 - lr: 7.0000e-04\n",
            "Epoch 30/150\n",
            "120/120 [==============================] - 95s 790ms/step - loss: 0.9166 - accuracy: 0.7604 - val_loss: 1.2068 - val_accuracy: 0.7276 - lr: 7.0000e-05\n",
            "Epoch 31/150\n",
            "120/120 [==============================] - 85s 710ms/step - loss: 0.9030 - accuracy: 0.7627 - val_loss: 1.2040 - val_accuracy: 0.7281 - lr: 7.0000e-05\n",
            "Epoch 32/150\n",
            "120/120 [==============================] - 85s 711ms/step - loss: 0.8985 - accuracy: 0.7635 - val_loss: 1.2049 - val_accuracy: 0.7284 - lr: 7.0000e-05\n",
            "Epoch 33/150\n",
            "120/120 [==============================] - 85s 713ms/step - loss: 0.8952 - accuracy: 0.7641 - val_loss: 1.2018 - val_accuracy: 0.7288 - lr: 7.0000e-05\n",
            "Epoch 34/150\n",
            "120/120 [==============================] - 95s 789ms/step - loss: 0.8925 - accuracy: 0.7645 - val_loss: 1.2014 - val_accuracy: 0.7290 - lr: 7.0000e-05\n",
            "Epoch 35/150\n",
            "120/120 [==============================] - 95s 789ms/step - loss: 0.8892 - accuracy: 0.7653 - val_loss: 1.2014 - val_accuracy: 0.7288 - lr: 7.0000e-05\n",
            "Epoch 36/150\n",
            "120/120 [==============================] - 87s 722ms/step - loss: 0.8875 - accuracy: 0.7656 - val_loss: 1.2012 - val_accuracy: 0.7288 - lr: 7.0000e-05\n",
            "Epoch 37/150\n",
            "120/120 [==============================] - 95s 793ms/step - loss: 0.8851 - accuracy: 0.7660 - val_loss: 1.2000 - val_accuracy: 0.7290 - lr: 7.0000e-05\n",
            "Epoch 38/150\n",
            "120/120 [==============================] - 95s 790ms/step - loss: 0.8820 - accuracy: 0.7667 - val_loss: 1.2004 - val_accuracy: 0.7285 - lr: 7.0000e-05\n",
            "Epoch 39/150\n",
            "120/120 [==============================] - 95s 795ms/step - loss: 0.8806 - accuracy: 0.7669 - val_loss: 1.2008 - val_accuracy: 0.7284 - lr: 7.0000e-05\n",
            "Epoch 40/150\n",
            "120/120 [==============================] - 85s 713ms/step - loss: 0.8745 - accuracy: 0.7682 - val_loss: 1.1962 - val_accuracy: 0.7294 - lr: 7.0000e-06\n",
            "Epoch 41/150\n",
            "120/120 [==============================] - 85s 712ms/step - loss: 0.8721 - accuracy: 0.7686 - val_loss: 1.1972 - val_accuracy: 0.7296 - lr: 7.0000e-06\n",
            "Epoch 42/150\n",
            "120/120 [==============================] - 95s 792ms/step - loss: 0.8722 - accuracy: 0.7685 - val_loss: 1.2003 - val_accuracy: 0.7289 - lr: 7.0000e-06\n",
            "Epoch 43/150\n",
            "120/120 [==============================] - 86s 718ms/step - loss: 0.8707 - accuracy: 0.7690 - val_loss: 1.1969 - val_accuracy: 0.7296 - lr: 7.0000e-07\n",
            "Epoch 44/150\n",
            "120/120 [==============================] - 95s 791ms/step - loss: 0.8704 - accuracy: 0.7690 - val_loss: 1.1966 - val_accuracy: 0.7296 - lr: 7.0000e-07\n",
            "Epoch 45/150\n",
            "120/120 [==============================] - 85s 711ms/step - loss: 0.8702 - accuracy: 0.7691 - val_loss: 1.1979 - val_accuracy: 0.7295 - lr: 7.0000e-08\n",
            "Epoch 45: early stopping\n"
          ]
        }
      ],
      "source": [
        "# Early Stopping\n",
        "earlystopping = EarlyStopping(monitor='val_loss', patience = 5, verbose=1, mode='min')\n",
        "\n",
        "# Tensorboard callback\n",
        "logdir = os.path.join(\"logs\", datetime.datetime.now().strftime(\"%Y%m%d-%H%M%S\"))\n",
        "tensorboard_callback = tf.keras.callbacks.TensorBoard(logdir, histogram_freq=1)\n",
        "\n",
        "# Run training\n",
        "opt = tf.keras.optimizers.Adam(lr = 0.0007)\n",
        "x = tf.keras.callbacks.ReduceLROnPlateau(monitor=\"val_loss\", factor=0.1,patience=2,verbose=0,mode=\"auto\")\n",
        "model.compile(metrics=['accuracy'], optimizer=opt, loss='categorical_crossentropy')\n",
        "\n",
        "\n",
        "try:\n",
        "    model.fit(train, validation_data=valid, validation_steps=(len(validation_list)//batch_size),\n",
        "        epochs=epochs, steps_per_epoch=(len(training_list)//batch_size),\n",
        "            callbacks=[x, earlystopping, tensorboard_callback])\n",
        "except KeyboardInterrupt:\n",
        "    print(\"\\nW: interrupt received, stopping\")\n",
        "finally:\n",
        "    pass"
      ]
    },
    {
      "cell_type": "code",
      "execution_count": 25,
      "metadata": {
        "colab": {
          "base_uri": "https://localhost:8080/",
          "height": 265
        },
        "id": "Qxq5gkX90bKq",
        "outputId": "a96f69c1-4f61-4833-a631-04eee420fc44"
      },
      "outputs": [
        {
          "output_type": "display_data",
          "data": {
            "text/plain": [
              "<Figure size 432x288 with 1 Axes>"
            ],
            "image/png": "[encoded data removed]"
          },
          "metadata": {
            "needs_background": "light"
          }
        }
      ],
      "source": [
        "plt.plot(model.history.history['loss'])\n",
        "plt.plot(model.history.history['val_loss'])\n",
        "plt.legend(['train', 'test'], loc='upper right')\n",
        "plt.savefig('loss.png')\n",
        "plt.show()"
      ]
    },
    {
      "cell_type": "code",
      "execution_count": 26,
      "metadata": {
        "colab": {
          "base_uri": "https://localhost:8080/",
          "height": 265
        },
        "id": "H_Qh6h4k0eqY",
        "outputId": "7544955f-6714-4d70-e00a-332d1f096c9a"
      },
      "outputs": [
        {
          "output_type": "display_data",
          "data": {
            "text/plain": [
              "<Figure size 432x288 with 1 Axes>"
            ],
            "image/png": "[encoded data removed]"
          },
          "metadata": {
            "needs_background": "light"
          }
        }
      ],
      "source": [
        "plt.plot(model.history.history['accuracy'])\n",
        "plt.plot(model.history.history['val_accuracy'])\n",
        "plt.legend(['train', 'test'], loc='upper right')\n",
        "plt.savefig('accuracy.png')\n",
        "plt.show()"
      ]
    },
    {
      "cell_type": "code",
      "execution_count": 27,
      "metadata": {
        "id": "DXKx8HX32-TC"
      },
      "outputs": [],
      "source": [
        "# Saving the model\n",
        "save_model(model, \"model_vidcap.h5\")"
      ]
    },
    {
      "cell_type": "code",
      "execution_count": null,
      "metadata": {
        "id": "j0HdvejV3BTj"
      },
      "outputs": [],
      "source": [
        "# load model\n",
        "model = load_model('/content/model_vidcap.h5')"
      ]
    },
    {
      "cell_type": "code",
      "execution_count": 28,
      "metadata": {
        "colab": {
          "base_uri": "https://localhost:8080/",
          "height": 952
        },
        "id": "wT2PTtZM0nCe",
        "outputId": "30afedf7-153a-4b63-cbba-cd960b491834"
      },
      "outputs": [
        {
          "output_type": "stream",
          "name": "stdout",
          "text": [
            "Model: \"model_1\"\n",
            "_________________________________________________________________\n",
            " Layer (type)                Output Shape              Param #   \n",
            "=================================================================\n",
            " encoder_inputs (InputLayer)  [(None, 80, 4096)]       0         \n",
            "                                                                 \n",
            " endcoder_lstm (LSTM)        [(None, 80, 512),         9439232   \n",
            "                              (None, 512),                       \n",
            "                              (None, 512)]                       \n",
            "                                                                 \n",
            "=================================================================\n",
            "Total params: 9,439,232\n",
            "Trainable params: 9,439,232\n",
            "Non-trainable params: 0\n",
            "_________________________________________________________________\n",
            "Model: \"model_2\"\n",
            "__________________________________________________________________________________________________\n",
            " Layer (type)                   Output Shape         Param #     Connected to                     \n",
            "==================================================================================================\n",
            " decoder_inputs (InputLayer)    [(None, 10, 2226)]   0           []                               \n",
            "                                                                                                  \n",
            " input_1 (InputLayer)           [(None, 512)]        0           []                               \n",
            "                                                                                                  \n",
            " input_2 (InputLayer)           [(None, 512)]        0           []                               \n",
            "                                                                                                  \n",
            " decoder_lstm (LSTM)            [(None, 10, 512),    5609472     ['decoder_inputs[0][0]',         \n",
            "                                 (None, 512),                     'input_1[0][0]',                \n",
            "                                 (None, 512)]                     'input_2[0][0]']                \n",
            "                                                                                                  \n",
            " decoder_relu (Dense)           (None, 10, 2226)     1141938     ['decoder_lstm[1][0]']           \n",
            "                                                                                                  \n",
            "==================================================================================================\n",
            "Total params: 6,751,410\n",
            "Trainable params: 6,751,410\n",
            "Non-trainable params: 0\n",
            "__________________________________________________________________________________________________\n",
            "WARNING:tensorflow:Compiled the loaded model, but the compiled metrics have yet to be built. `model.compile_metrics` will be empty until you train or evaluate the model.\n"
          ]
        },
        {
          "output_type": "execute_result",
          "data": {
            "text/plain": [
              "<IPython.core.display.Image object>"
            ],
            "image/png": "[encoded data removed]"
          },
          "metadata": {},
          "execution_count": 28
        }
      ],
      "source": [
        "save_model_path = 'model_final'\n",
        "if not os.path.exists(save_model_path):\n",
        "    os.makedirs(save_model_path)\n",
        "\n",
        "# Saving encoder as in training\n",
        "encoder_model = Model(encoder_inputs, encoder_states)\n",
        "\n",
        "# Saving decoder states and dense layer \n",
        "decoder_state_input_h = Input(shape=(latent_dim,))\n",
        "decoder_state_input_c = Input(shape=(latent_dim,))\n",
        "decoder_states_inputs = [decoder_state_input_h, decoder_state_input_c]\n",
        "decoder_outputs, state_h, state_c = decoder_lstm(\n",
        "    decoder_inputs, initial_state=decoder_states_inputs)\n",
        "decoder_states = [state_h, state_c]\n",
        "decoder_outputs = decoder_dense(decoder_outputs)\n",
        "decoder_model = Model(\n",
        "    [decoder_inputs] + decoder_states_inputs,\n",
        "    [decoder_outputs] + decoder_states)\n",
        "encoder_model.summary()\n",
        "decoder_model.summary()\n",
        "encoder_model.save(os.path.join(save_model_path, 'encoder_model.h5'))\n",
        "decoder_model.save_weights(os.path.join(save_model_path, 'decoder_model_weights.h5'))\n",
        "with open(os.path.join(save_model_path,'tokenizer'+ str(num_decoder_tokens) ),'wb') as file:\n",
        "    joblib.dump(tokenizer, file)\n",
        "plot_model(encoder_model, to_file='model_inference_encoder.png', show_shapes=True, show_layer_names=True)\n",
        "plot_model(decoder_model, to_file='model_inference_decoder.png', show_shapes=True, show_layer_names=True)"
      ]
    },
    {
      "cell_type": "code",
      "execution_count": 29,
      "metadata": {
        "colab": {
          "base_uri": "https://localhost:8080/",
          "height": 201
        },
        "id": "YMcQPk3N0qnq",
        "outputId": "1ca75bf3-b37b-4108-b860-f5bdb59d08c1"
      },
      "outputs": [
        {
          "output_type": "execute_result",
          "data": {
            "text/plain": [
              "<IPython.core.display.Image object>"
            ],
            "image/png": "[encoded data removed]"
          },
          "metadata": {},
          "execution_count": 29
        }
      ],
      "source": [
        "plot_model(encoder_model, to_file='model_inference_encoder.png', show_shapes=True, show_layer_names=True)"
      ]
    },
    {
      "cell_type": "markdown",
      "metadata": {
        "id": "lB507oVMBzSw"
      },
      "source": [
        "Inference Models"
      ]
    },
    {
      "cell_type": "code",
      "execution_count": 57,
      "metadata": {
        "id": "wIgbedQnmLSF"
      },
      "outputs": [],
      "source": [
        "test_path = \"/content/drive/MyDrive/YouTubeClips \"\n",
        "batch_size = 320\n",
        "learning_rate = 0.0007\n",
        "epochs = 150\n",
        "latent_dim = 512\n",
        "num_encoder_tokens = 4096\n",
        "num_decoder_tokens = 2226\n",
        "time_steps_encoder = 80\n",
        "max_probability = -1\n",
        "save_model_path = 'model_final'\n",
        "validation_split = 0.15\n",
        "max_length = 10\n",
        "search_type = 'greedy'"
      ]
    },
    {
      "cell_type": "code",
      "execution_count": 31,
      "metadata": {
        "id": "3zsT21ZMl5_I"
      },
      "outputs": [],
      "source": [
        "# models\n",
        "encoder_model = None\n",
        "decoder_model = None\n",
        "inf_encoder_model = None\n",
        "inf_decoder_model = None\n",
        "tokenizer = None"
      ]
    },
    {
      "cell_type": "code",
      "execution_count": 32,
      "metadata": {
        "colab": {
          "base_uri": "https://localhost:8080/"
        },
        "id": "RlnsS5zonX8J",
        "outputId": "831bf2aa-aa97-404e-fe60-1f5619097e66"
      },
      "outputs": [
        {
          "output_type": "stream",
          "name": "stdout",
          "text": [
            "WARNING:tensorflow:No training configuration found in the save file, so the model was *not* compiled. Compile it manually.\n"
          ]
        }
      ],
      "source": [
        "# load tokenizer\n",
        "with open(os.path.join(save_model_path, 'tokenizer' + str(num_decoder_tokens)), 'rb') as file:\n",
        "  tokenizer = joblib.load(file)\n",
        "\n",
        "# inference encoder model\n",
        "inf_encoder_model = load_model(os.path.join(save_model_path, 'encoder_model.h5'))\n",
        "\n",
        "# inference decoder model\n",
        "decoder_inputs = Input(shape=(None, num_decoder_tokens))\n",
        "decoder_dense = Dense(num_decoder_tokens, activation='softmax')\n",
        "decoder_lstm = LSTM(latent_dim, return_sequences=True, return_state=True)\n",
        "decoder_state_input_h = Input(shape=(latent_dim,))\n",
        "decoder_state_input_c = Input(shape=(latent_dim,))\n",
        "decoder_states_inputs = [decoder_state_input_h, decoder_state_input_c]\n",
        "decoder_outputs, state_h, state_c = decoder_lstm(decoder_inputs, initial_state=decoder_states_inputs)\n",
        "decoder_states = [state_h, state_c]\n",
        "decoder_outputs = decoder_dense(decoder_outputs)\n",
        "inf_decoder_model = Model([decoder_inputs] + decoder_states_inputs,[decoder_outputs] + decoder_states)\n",
        "inf_decoder_model.load_weights(os.path.join(save_model_path, 'decoder_model_weights.h5'))\n"
      ]
    },
    {
      "cell_type": "markdown",
      "metadata": {
        "id": "MPJB2nZaB7TH"
      },
      "source": [
        "Caption Generation using Greedy Search Technique"
      ]
    },
    {
      "cell_type": "code",
      "execution_count": 48,
      "metadata": {
        "id": "dmN7Tz6Pnr5q"
      },
      "outputs": [],
      "source": [
        "def greedy_search(f):\n",
        "        \"\"\"\n",
        "                :param f: the loaded numpy array after creating videos to frames and extracting features\n",
        "                :return: the final sentence which has been predicted greedily\n",
        "                \"\"\"\n",
        "        inv_map = index_to_word()\n",
        "        states_value = inf_encoder_model.predict(f.reshape(-1, 80, 4096))\n",
        "        target_seq = np.zeros((1, 1, 2226))\n",
        "        sentence = ''\n",
        "        target_seq[0, 0, tokenizer.word_index['bos']] = 1\n",
        "        for i in range(15):\n",
        "            output_tokens, h, c = inf_decoder_model.predict([target_seq] + states_value)\n",
        "            states_value = [h, c]\n",
        "            output_tokens = output_tokens.reshape(num_decoder_tokens)\n",
        "            y_hat = np.argmax(output_tokens)\n",
        "            if y_hat == 0:\n",
        "                continue\n",
        "            if inv_map[y_hat] is None:\n",
        "                break\n",
        "            else:\n",
        "                sentence = sentence + inv_map[y_hat] + ' '\n",
        "                target_seq = np.zeros((1, 1, 2226))\n",
        "                target_seq[0, 0, y_hat] = 1\n",
        "        return ' '.join(sentence.split()[:-1])"
      ]
    },
    {
      "cell_type": "code",
      "source": [
        "def decode_sequence2bs( input_seq):\n",
        "        states_value = inf_encoder_model.predict(input_seq)\n",
        "        target_seq = np.zeros((1, 1, num_decoder_tokens))\n",
        "        target_seq[0, 0, tokenizer.word_index['bos']] = 1\n",
        "        beam_search(target_seq, states_value, [], [], 0)\n",
        "        return decode_seq"
      ],
      "metadata": {
        "id": "eEhcC-SgSg1v"
      },
      "execution_count": 49,
      "outputs": []
    },
    {
      "cell_type": "code",
      "source": [
        "def beam_search( target_seq, states_value, prob, path, lens):\n",
        "        \"\"\"\n",
        "                :param target_seq: the array that is fed into the model to predict the next word\n",
        "                :param states_value: previous state that is fed into the lstm cell\n",
        "                :param prob: probability of predicting a word\n",
        "                :param path: list of words from each sentence\n",
        "                :param lens: number of words\n",
        "                :return: final sentence\n",
        "                \"\"\"\n",
        "        global decode_seq\n",
        "        node = 2\n",
        "        output_tokens, h, c = inf_decoder_model.predict(\n",
        "            [target_seq] + states_value)\n",
        "        output_tokens = output_tokens.reshape(num_decoder_tokens)\n",
        "        sampled_token_index = output_tokens.argsort()[-node:][::-1]\n",
        "        states_value = [h, c]\n",
        "        for i in range(node):\n",
        "            if sampled_token_index[i] == 0:\n",
        "                sampled_char = ''\n",
        "            else:\n",
        "                sampled_char = list(tokenizer.word_index.keys())[\n",
        "                    list(tokenizer.word_index.values()).index(sampled_token_index[i])]\n",
        "            MAX_LEN = 12\n",
        "            if sampled_char != 'eos' and lens <= MAX_LEN:\n",
        "                p = output_tokens[sampled_token_index[i]]\n",
        "                if sampled_char == '':\n",
        "                    p = 1\n",
        "                prob_new = list(prob)\n",
        "                prob_new.append(p)\n",
        "                path_new = list(path)\n",
        "                path_new.append(sampled_char)\n",
        "                target_seq = np.zeros((1, 1, num_decoder_tokens))\n",
        "                target_seq[0, 0, sampled_token_index[i]] = 1.\n",
        "                beam_search(target_seq, states_value, prob_new, path_new, lens + 1)\n",
        "            else:\n",
        "                p = output_tokens[sampled_token_index[i]]\n",
        "                prob_new = list(prob)\n",
        "                prob_new.append(p)\n",
        "                p = functools.reduce(operator.mul, prob_new, 1)\n",
        "                if p > max_probability:\n",
        "                    decode_seq = path\n",
        "                    max_probability = p"
      ],
      "metadata": {
        "id": "KJVG5huGSuym"
      },
      "execution_count": 50,
      "outputs": []
    },
    {
      "cell_type": "code",
      "source": [
        "def decoded_sentence_tuning( decoded_sentence):\n",
        "        decode_str = []\n",
        "        filter_string = ['bos', 'eos']\n",
        "        uni_gram = {}\n",
        "        last_string = \"\"\n",
        "        for idx2, c in enumerate(decoded_sentence):\n",
        "            if c in uni_gram:\n",
        "                uni_gram[c] += 1\n",
        "            else:\n",
        "                uni_gram[c] = 1\n",
        "            if last_string == c and idx2 > 0:\n",
        "                continue\n",
        "            if c in filter_string:\n",
        "                continue\n",
        "            if len(c) > 0:\n",
        "                decode_str.append(c)\n",
        "            if idx2 > 0:\n",
        "                last_string = c\n",
        "        return decode_str\n"
      ],
      "metadata": {
        "id": "BBK3bJmaSyaN"
      },
      "execution_count": 51,
      "outputs": []
    },
    {
      "cell_type": "code",
      "execution_count": 52,
      "metadata": {
        "id": "ifuFOyCroWey"
      },
      "outputs": [],
      "source": [
        "def index_to_word():\n",
        "  # inverts word tokenizer\n",
        "  index_to_word = {value: key for key, value in tokenizer.word_index.items()}\n",
        "  return index_to_word"
      ]
    },
    {
      "cell_type": "markdown",
      "metadata": {
        "id": "zmknLT1nCI1J"
      },
      "source": [
        "Testing the Model "
      ]
    },
    {
      "cell_type": "code",
      "execution_count": 35,
      "metadata": {
        "id": "J9VBz3mBlCkO"
      },
      "outputs": [],
      "source": [
        "X_test=[]\n",
        "TEST_FEATURE_DIR = '/content/drive/MyDrive/YouTubeClips /test_feat'\n",
        "# Loading all the numpy arrays at once and saving them in a dictionary\n",
        "for filename in os.listdir(TEST_FEATURE_DIR):\n",
        "    g = np.load(os.path.join(TEST_FEATURE_DIR, filename))\n",
        "    X_test.append(g)\n",
        "X_test=np.array(X_test)"
      ]
    },
    {
      "cell_type": "code",
      "execution_count": 37,
      "metadata": {
        "colab": {
          "base_uri": "https://localhost:8080/"
        },
        "id": "VCuffDlnlwO8",
        "outputId": "8aa54812-0c0d-45f1-e9b6-31541fc104ff"
      },
      "outputs": [
        {
          "output_type": "stream",
          "name": "stdout",
          "text": [
            "['Qp-k0H93iJE_35_39', 'aJoDt4DMkFU_118_124', 'IEQyCcageGg_99_126', 'Wv3u2q3oGeU_35_45', 'CGllPWAwmUo_1_15', '0lh_UWF9ZP4_183_190', 'FAD8CbQuvco_35_45', '4wT7zM8XgXQ_5_11', 'pfQPRXcihkI_127_138', 'PAN5IVvMlVc_17_23', 'GWQTAe64m-0_160_166', 'shPymuahrsc_5_12', '0lh_UWF9ZP4_21_26', 'Li3umATsU0E_1_5', 'SzEbtbNSg04_28_48', 'bK-i_FAcpoY_86_92', 'Vn0Xv0fb1z4_18_30', 'Z3XarHZ3HpY_10_17', 'VU4qLrk5axA_40_58', '-Ms9tsWmhyU_80_95', '6t0BpjwYKco_59_69', 'dZBIdRGKRhM_13_32', 'tZmDWltBziM_70_80', 'r0rmrbTb7fU_98_109', 'kRNHJSc4AXE_220_228', 'ID2xXlUENG0_19_24', 'XEOH3t5AYY0_22_29', 'p9g06ktIkJg_4_11', 'm1NR0uNNs5Y_73_78', 'iLr7ZHAq1ro_7_11', '9Q0JfdP36kI_56_64', '7uF-2adCsI0_60_67', 'zkTn5Ef1Oig_70_75', '-rkErLY0rRc_63_67', 'sv5YlZspb30_10_20', 'J_evFB7RIKA_104_120', 'AKVBK-0veE8_5_12', '_O9kWD8nuRU_70_76', '6gQu8PWhFoQ_37_41', 'IhwPQL9dFYc_171_175', '0lh_UWF9ZP4_62_69', 'b24_bb57PPk_631_637', 'TPD5wO_LEPU_2_6', '8MVo7fje_oE_108_113', '6vC6AT27RUc_29_46', 'HzYtvOYOEoU_21_32', '4D1o4FC8YbA_29_39', 'IhwPQL9dFYc_130_136', 'IhwPQL9dFYc_50_59', 'WPG-BIWOrG4_635_640', 'OfgSCMxttCc_86_92', 'JMUAylpXzG0_45_62', 'BLXzfdNmydQ_151_156', 'zulPFoY64wE_26_33', 'p3J3TAdKAYQ_0_10', 'Dgf0VHMEtNs_57_66', '-wa0umYJVGg_117_123', 'u4T76jsPin0_0_11', 'xEDCfcMZlZY_91_100', '2YhDTpzxd3c_174_180', 'IhwPQL9dFYc_153_170', 'pcjuCotJYj8_50_62', 'MwOEK-KXSPc_1_10', 'N3A7944_UJw_63_70', '4-1gpwkD7Hc_7_15', '0lh_UWF9ZP4_27_31', 'e996zZ0uV_A_196_204', 'QMJY29QMewQ_42_52', 'Ffv7fhL1EDY_177_184', 'K1ZM0LSLVw8_488_494', '-_hbPLsZvvo_43_55', 'swJ0zhVJ8DU_15_21', '8HB7ywgJuTg_131_142', 'k5OKBX2e7xA_19_32', '8CzlhZtunNc_5_11', 'G-M78KIy19E_315_330', 'xkNDE1JL6Z8_50_59', 'MW21lp833Vo_8_16', 'WV9K6MbLjHA_106_116', 'fY0lZTWlBAg_470_485', 'WTf5EgVY5uU_130_135', 'MICawzo1MqI_3_13', 'DcDYRpa34W8_11_25', '9VG7Elw9TDA_85_91', '5fq9iIxxA1s_12_27', 'klFyrnrUSck_25_36', '5EXVeP6R3yc_105_108', 'qOiN__I1-Zo_2_8', 'n_Z0-giaspE_437_447', 'qvg9eM4Hmzk_4_10', '5fDBl1wT2Lk_34_39', 'bnN_o0Hkn3M_73_80', 'FvfjDQj5sOY_1_10', 'UXs3eq68ZjE_320_325', '1Dty_eGY9Ec_123_133', 'gtixLEvO2Us_0_6', 'muI1BFsdbdo_33_45', 'mtrCf667KDk_134_176', 'x8Ul09tk6zk_0_8', 'pzq5fPfsPZg_145_160', 'wkgGxsuNVSg_34_41', 'VahnQw2gTQY_322_327', 'Je3V7U5Ctj4_504_511', 'p69Q8lTkZTc_21_29', '7EOqi_6rnkg_36_44', 'R0e8ojL0vcc_8_14', 'bDoCQEwghZU_201_211', 'qew09qQgMAg_22_27', 'ulPvRmNfXK4_96_100', 'Tm1HjqK0ABg_9_15', 'TFJ6oR89Vb8_90_107', 'iUYWdCxvJCI_2_14', 'vpR0L3sIvoo_15_49', 'm1NR0uNNs5Y_224_230', 'HmVPxs4ygMc_44_53', 'lFdg5CWMTt0_24_28', '8MVo7fje_oE_153_158', 'm1NR0uNNs5Y_123_129', 'HAjwXjwN9-A_16_24', 'KPPCwmU5OHQ_467_472', '_O9kWD8nuRU_45_49', 'm1c04pCYGxA_57_64', 'nZSFn51l3hc_480_485', 'qeKX-N1nKiM_0_5', 'zTn-nNj5Bng_8_19', 'NoCgvH4xZHo_68_74', 'jmoT2we_rqo_0_5', 'eVSQiPbepXg_83_93', 'pW9DFPqoIsI_26_50', 'SzEbtbNSg04_71_93', 'Mutb8BHFvzk_15_20', 'hJFBXHtxKIc_310_315', 'PqvKNqkGI9o_47_52', 'V6Fxclwdfxc_1_11', 'nBFhvrAOFqY_23_29', '1QVn0FffExM_14_24', 'z_qf7tOnHVg_81_89', 'TZ860P4iTaM_15_28', 'zS50h-a8RTg_3_9', 'PCXHuseKwDc_68_76', 'WPG-BIWOrG4_755_761', 'q7pOFn8s4zc_263_273', 'PeUHy0A1GF0_62_66', 'L6dEUQ6WiHY_171_186', 'Cx1We6GX4IM_0_8', '04Gt01vatkk_308_321', 'IpHJffM3G1c_439_446', 'oG6LLGi_n48_51_55', 'YmXCfQm0_CA_140_156', 'rlQ2kW-FvMk_66_79', 'IBgsLmDcL78_80_84', 'Sj6GSmDpNDw_0_12', 'UhI-p6AysWY_25_30', 'C12BRGGcd5E_101_117', 'nTasT5h0LEg_40_43', 'nq4hG6qgyPs_184_195', 'sZf3VDsdDPM_107_114', '1dYpcVv6n3Y_0_18', 'kEGmZDpZ_RE_295_330', 'PeUHy0A1GF0_78_85', 'Xvy21KrDv8I_0_10', 'hksxtbcS780_7_14', 'tYh4iDFgmEE_50_54', 'nLvX-erABqY_67_72', 'cwkjJrGpoaU_30_41', 'hW8TKz2Aea4_40_50', 'IWhrWLOAin0_1_4', 'JnNe61UZsdM_78_88', 'UbmZAe5u5FI_132_141', 'lfGlDg47How_110_115', '9fkS7wqrzAY_13_25', 'tmAX2PnRCY0_284_292', '0hyZ__3YhZc_388_394', '06CbMa0kDr8_3_13', 'fd7Ky1lEPT8_40_50', 'BefkDBj5gSw_104_109', 'ZnLgsasu82g_71_81', 'bxjFqtfJlMs_18_27', 'ZYaxg5NZW_g_21_27', 'p6cg2jWI34M_34_42', 'X56XkGFe7OY_47_61', 'OxL9z2BzBnk_0_19', 'd-2C_N5anww_1_3', 'NMlKMfiHSho_1_15', 'O9cOSO9L8Zs_1_16', 'Ce7equ9zCxk_4_19', 'po2tcrG6KzM_2_8', 'eZLxohGP4IE_15_25', 'LSuVRWPoHr0_0_37', 'Yh2N6ZtRBdU_110_120', 'Vg1jyL3cr60_163_186', 'IpHJffM3G1c_464_470', 'WTf5EgVY5uU_94_98', 'RiglOfJon8I_3_18', 'gbW9f8xydks_0_10', '4PcL6-mjRNk_11_18', 'JktNQQnLblQ_4_9', 'BVjvRpmHg0w_121_130', 'E61HNXjgyqA_22_32', 'HYbEf-JKZnA_13_26', 'hxZ-5wELSJM_0_12', 'GnwKcpfr_ng_47_57', 'OCcy9TDRGKo_41_51', 'klFyrnrUSck_42_46', 'kBMsuhDvg88_45_64', 'kWLNZzuo3do_167_181', 'UXs3eq68ZjE_49_54', 'yPNFVj-pISU_105_115', 'Qjbcibrv3L0_26_32', 'cUW_bXll6YM_390_395', '6QbhfbLUtQs_13_23', 'Puv_4NtflqE_26_34', '9Q0JfdP36kI_19_27', 'm1NR0uNNs5Y_192_198', 'jTnrm338_KY_34_42', 'akXjIEoecNs_2_12', 'c2MwqFYVE7A_40_45', 'jPBxl9gFqNY_110_117', '64Xn9edeWRA_0_11', 'hoinj6vyQ2g_8_16', '-_hbPLsZvvo_269_275', 'g2IYQq7IkXc_23_32', 'e4QGnppJ-ys_6_14', 'rl1rVk_xIOs_1_16', 'EPgQ9QwbsLE_16_23', 'e996zZ0uV_A_68_72', 'UI3Cbj9fbxQ_2_23', 'hJFBXHtxKIc_163_168', 'tn1d5DmdMqY_15_28', '8MVo7fje_oE_180_185', 'AQhiE_NL6yY_91_101', 'yOnRm3TP6hM_0_12', 'DN7jwyL1Xgg_1_19', '2MCpA01Sn_c_75_82', 'sRKQfxxEP4M_117_125', 'Z3m9V8qPXhQ_13_24', 'Ow_o78zjo14_42_57', 'tcxhOGyrCtI_15_21', '5U3xz9Ovmhk_258_265', 'J8cP93yG1Ao_14_24', 'BefkDBj5gSw_233_240', 'DDtX5a-OgLQ_1_15', '77iDIp40m9E_126_131', 'AE9UaQwum8c_0_10', 'TZ860P4iTaM_10_24', 'BOv-2HzNPaA_7_12', 'Je3V7U5Ctj4_956_961', '6t0BpjwYKco_105_110', '0lh_UWF9ZP4_191_197', 'xxHx6s_DbUo_182_186', '_sJ_09Mf1HY_49_72', 'zHy7pM0U49w_103_109', 'jxdubZzQrio_33_46', 'xSmfK498DjI_1_20', 'ACOmKiJDkA4_23_30', 'nLz0QuerH1c_8_15', 'Ms3QdGIzltU_10_20', 'C9LHk0AJI7U_196_205', 'hJFBXHtxKIc_225_230', 'EwTZ2xpQwpA_14_21', 'bSIjZ75a50s_286_304', 'DBvSfds3FH4_84_88', 'IhwPQL9dFYc_24_30', '8VUbN3hkdBo_36_50', 'fcvW1vr8hAs_96_102', '0lh_UWF9ZP4_165_170', 'xy9LLUUZ6ic_50_60', '6mYnZbIwcNo_10_16', 'JhCvLmf9yr0_46_50', 'CgWYN5e9K10_30_62', 'JnNe61UZsdM_42_51', '0lh_UWF9ZP4_157_160', '229NvV0SRHw_0_5', '0wutCy2ZGOQ_4_10', 'GEXqMH8I3_w_14_18', 'UgUFP5baQ9Y_0_7', 'R8FDJgVW3Vc_0_4', 'YAud4eS3DoA_54_65', 'clKtfGBVI1I_15_28', 'NjblUomxFQo_100_108', 'vloe_60s_dk_0_9', 'EqOGzNkekMk_5_15', 'UXs3eq68ZjE_246_250', 'HJHPB_Y8GZE_259_263', '5CU2JhYM8tY_14_45', 'a0g7wtBkS98_34_42', 'N5wsl86P37Q_1_15', 'qeKX-N1nKiM_74_77', 'eZLxohGP4IE_190_201', 'f9_bP219ehQ_63_70', 's9TklvyLFyI_177_191', '9HTUcMjWB3g_143_151', 'Uc63MFVwfrs_355_372', 'lKADopH3qFY_0_10', 'O9yLRzpPp44_167_190', 'zSPBC8EO6dY_64_73', 'gyOVZz7kXyM_1_10', 'Jxw16bqzVqE_18_28', 'tHLiYTS9Iz8_1_16', '6t0BpjwYKco_142_151', '4yYapi-5QYQ_33_57', '0M-PyX2DbZc_25_31', '1Sp2__RCT0c_11_15', 'cUW_bXll6YM_462_469', 't8Nf1MK7lts_0_10', '_OBlgSz8sSM_15_32', 'UbmZAe5u5FI_101_110', 'Puh1n8DTKw8_2_9', 'NNYLo1OeZ-Q_48_54', 'NFxWwI0J3As_78_84', 'sb1dX5xAFvk_10_17', 'IAvBB2lv8iw_142_148', 'NVGGgncVq-4_12_20', '5P6UU6m3cqk_57_75', 'otLEUwHao_E_140_151', 'LwicaralvS0_90_104', 'uJPupV4oLZ0_4_12', 'XzCcRzEa83U_39_46', '0IDJG0q9j_k_1_24', 'wn9rDTZj-m4_8_18', 'Ugb_uH72d0I_8_17', 'e-j59PqJjSM_163_173', 'xOQn1z_oWDY_30_39', 'UXs3eq68ZjE_209_214', '0hyZ__3YhZc_289_295', '1qV4wfjTYIo_151_164', 'xfRIRSWy0y0_10_20', 'bSrpvMSuhPM_17_31', '0k1Ak8aTMVI_4_12', 'bQJQGoJF7_k_145_153', 'zr9OeyfLPPY_4_9', 'TXabUVUxJqI_22_31', 'KrBeBabazDU_15_20', 'HN-ccxID8IM_3_10', '0hyZ__3YhZc_352_356', 'xxHx6s_DbUo_82_86', 'm1NR0uNNs5Y_273_280', 'WTf5EgVY5uU_121_135', 'fMFvOgb4k6E_35_43', 'JXSkYkiKO0I_112_116', '0hyZ__3YhZc_302_307', 'wpUT0DNB3qs_9_19', 'Ixw6wmoC_xg_116_126', 'nq4hG6qgyPs_370_377', '6FmN22YcVVE_11_18', 'dmyz_f8Sx14_56_66', 'O_Pst-uryQI_1_14', 'xGdoi3W3Z4o_2_40', '0hyZ__3YhZc_341_348', 'kEGmZDpZ_RE_352_370', 'D1tTBncIsm8_841_848', 'uy0HNWto0UY_18_25', '3opDcpPxllE_50_66', '1hPxGmTGarM_9_19', 'WTf5EgVY5uU_76_83', 'B-Lsf7ZKf5c_10_25', 'yBK02O1Oewc_20_35', 'nHZsE7T7hwI_13_23', '1qxMJLkHDLw_0_9', 'gGDtPJzh_0s_30_45', '5l6acVf12S4_7_13', 'j2Dhf-xFUxU_20_29', 'j7xz1nos-xc_10_20', 'rw9h_574HxE_59_66', 'KFt5Zz5Mwlo_12_30', '6r5DmFa5ZR8_51_58', 'zv2RIbUsnSw_335_341', '-Cv5LsqKUXc_71_76', 'VahnQw2gTQY_298_305', 'uxEhH6MPH28_69_85', '2FLsMPsywRc_45_63', 'NUYu9c9XsgY_7_21', 'hJFBXHtxKIc_286_291', 'uVPnDJKt1M0_0_6', 'ACOmKiJDkA4_75_81', 'ZDoy9S82ETA_5_15', 'FeTaKOPVaJg_60_70', 'BVjvRpmHg0w_231_250', 'q3I3R_gqy8M_34_37', 'MWvCcwTw7Ac_78_86', 'n_Z0-giaspE_168_193', 'YS1mzzhmWWA_9_16', 'HM-ZDoRWiH4_0_5', 'qIk_Dz5XE5E_104_109', 'F3pmw2ga244_59_65', 'uO7Eysrs8_k_106_114', 'lc9bA-hvqHU_1_6', '2YhDTpzxd3c_166_170', '6t0BpjwYKco_230_240', '0lh_UWF9ZP4_103_110', 'x68Djm_Q0GA_0_10', 'X6uJyuD_Zso_3_17', 'R2DvpPTfl-E_20_25', 'm7x8uIdg2XU_67_73']\n"
          ]
        }
      ],
      "source": [
        "X_test_filename=[]\n",
        "test_path='/content/drive/MyDrive/YouTubeClips '\n",
        "TEST_LABEL_PATH = os.path.join(test_path, 'test_label.json')\n",
        "# loading the json file for training\n",
        "with open(TEST_LABEL_PATH) as data_file:    \n",
        "    test_data = json.load(data_file)\n",
        "X_test_filename= list(test_data.keys())\n",
        "print(X_test_filename)"
      ]
    },
    {
      "cell_type": "code",
      "execution_count": 58,
      "metadata": {
        "id": "uj-GnSQYo7Xs"
      },
      "outputs": [],
      "source": [
        "def test():\n",
        "        \"\"\"\n",
        "            writes the captions of all the testing videos in a text file\n",
        "        \"\"\"\n",
        "        # generate inference test outputs\n",
        "        with open(os.path.join(test_path, 'test_%s.txt' % search_type), 'w') as file:\n",
        "            for idx, x in enumerate(X_test):\n",
        "                file.write(X_test_filename[idx] + ',')\n",
        "                if search_type is 'greedy':\n",
        "                    start = time.time()\n",
        "                    decoded_sentence = greedy_search(x.reshape(-1, 80, 4096))\n",
        "                    file.write(decoded_sentence + ',{:.2f}'.format(time.time()-start))\n",
        "                else:\n",
        "                    start = time.time()\n",
        "                    decoded_sentence = decode_sequence2bs(x.reshape(-1, 80, 4096))\n",
        "                    decode_str = decoded_sentence_tuning(decoded_sentence)\n",
        "                    for d in decode_str:\n",
        "                        file.write(d + ' ')\n",
        "                    file.write(',{:.2f}'.format(time.time() - start))\n",
        "                file.write('\\n')\n",
        "\n",
        "                # re-init max prob\n",
        "                max_probability = -1"
      ]
    },
    {
      "cell_type": "code",
      "execution_count": 59,
      "metadata": {
        "id": "ndzYFaLjKAJJ"
      },
      "outputs": [],
      "source": [
        "test()"
      ]
    },
    {
      "cell_type": "code",
      "execution_count": 60,
      "metadata": {
        "id": "OSJ1uCDxlVRk"
      },
      "outputs": [],
      "source": [
        "#Getting the test data\n",
        "TEST_LABEL_PATH = '/content/drive/MyDrive/YouTubeClips /test_label.json'\n",
        "# loading the json file \n",
        "with open(TEST_LABEL_PATH) as data_file:    \n",
        "    test_data = json.load(data_file)"
      ]
    },
    {
      "cell_type": "code",
      "execution_count": 61,
      "metadata": {
        "id": "nbDEBYpYlY9l"
      },
      "outputs": [],
      "source": [
        "#Preprocessing the actual captions \n",
        "test_list = {}\n",
        "for key,captions in list(test_data.items()):\n",
        "  for i in range(len(captions)):\n",
        "    for j in range(len(list(captions[i]))):\n",
        "        caption = list(captions[i])[j]\n",
        "        caption = caption.lower()\n",
        "        # delete digits, special chars, etc., \n",
        "        caption = caption.replace('[^A-Za-z]', '')\n",
        "        # delete additional spaces\n",
        "        caption = caption.replace('\\s+', ' ')\n",
        "        # we are only using sentences whose length lie between 6 and 10\n",
        "        if len(caption.split())>10 or len(caption.split())<6:\n",
        "          continue\n",
        "        elif key not in test_list:\n",
        "            test_list[key] = []\n",
        "        # store the caption\n",
        "        test_list[key].append(caption)"
      ]
    },
    {
      "cell_type": "code",
      "execution_count": 62,
      "metadata": {
        "colab": {
          "base_uri": "https://localhost:8080/"
        },
        "id": "Qo530Y4TlqHh",
        "outputId": "8a5d145c-0aca-4259-bfd8-befc67951b12"
      },
      "outputs": [
        {
          "output_type": "stream",
          "name": "stdout",
          "text": [
            "                       0                                           1     2\n",
            "0      Qp-k0H93iJE_35_39                a man is playing with a ball  0.72\n",
            "1    aJoDt4DMkFU_118_124               a man is doing two two people  0.74\n",
            "2     IEQyCcageGg_99_126                   a man is peeling a potato  0.74\n",
            "3      Wv3u2q3oGeU_35_45                         a man playing piano  0.75\n",
            "4       CGllPWAwmUo_1_15  a woman is putting ingredients into a bowl  0.75\n",
            "..                   ...                                         ...   ...\n",
            "389  0lh_UWF9ZP4_103_110                 a woman is frying some food  0.75\n",
            "390     x68Djm_Q0GA_0_10                   a man is cutting a potato  0.74\n",
            "391     X6uJyuD_Zso_3_17                            a boy is running  0.77\n",
            "392    R2DvpPTfl-E_20_25                a woman is slicing some meat  0.75\n",
            "393    m7x8uIdg2XU_67_73                            a man is running  0.76\n",
            "\n",
            "[394 rows x 3 columns]\n"
          ]
        }
      ],
      "source": [
        "data=pd.read_csv('/content/drive/MyDrive/YouTubeClips /test_greedy.txt', header = None)# Opening the Predicted captions .txt file\n",
        "print(data)"
      ]
    },
    {
      "cell_type": "code",
      "execution_count": 90,
      "metadata": {
        "colab": {
          "base_uri": "https://localhost:8080/",
          "height": 396,
          "referenced_widgets": [
            "3fd02b9751214f8ebd9a983dc95a5315",
            "b531987b774a451cb03176f3e0d2fbfb",
            "fd2c9f626c824318b5062aae59a69b70",
            "8375c2a2e3b04f35999078667a59be95",
            "c7dee8eb90d34ebfb31fd804d0bac28c",
            "832d30763cb2444797e8c2b6b838ebd0",
            "006178c1b8594e1187028ba421fa2244",
            "d2c1bbc836794bca8b33c107b1c62dd5",
            "1ff99cb44acc4155ab0aee62a41b2754",
            "6f2b140330c7443a875bd341f63021f4",
            "9af974905cf44912a12485c8f2a220ed"
          ]
        },
        "id": "c2YLGjSPl4E_",
        "outputId": "72783632-6932-4dac-fd75-5ed21059ac02"
      },
      "outputs": [
        {
          "output_type": "display_data",
          "data": {
            "text/plain": [
              "  0%|          | 0/394 [00:00<?, ?it/s]"
            ],
            "application/vnd.jupyter.widget-view+json": {
              "version_major": 2,
              "version_minor": 0,
              "model_id": "3fd02b9751214f8ebd9a983dc95a5315"
            }
          },
          "metadata": {}
        },
        {
          "output_type": "stream",
          "name": "stderr",
          "text": [
            "/usr/local/lib/python3.7/dist-packages/nltk/translate/bleu_score.py:552: UserWarning: \n",
            "The hypothesis contains 0 counts of 4-gram overlaps.\n",
            "Therefore the BLEU score evaluates to 0, independently of\n",
            "how many N-gram overlaps of lower order it contains.\n",
            "Consider using lower n-gram order or use SmoothingFunction()\n",
            "  warnings.warn(_msg)\n",
            "/usr/local/lib/python3.7/dist-packages/nltk/translate/bleu_score.py:552: UserWarning: \n",
            "The hypothesis contains 0 counts of 2-gram overlaps.\n",
            "Therefore the BLEU score evaluates to 0, independently of\n",
            "how many N-gram overlaps of lower order it contains.\n",
            "Consider using lower n-gram order or use SmoothingFunction()\n",
            "  warnings.warn(_msg)\n",
            "/usr/local/lib/python3.7/dist-packages/nltk/translate/bleu_score.py:552: UserWarning: \n",
            "The hypothesis contains 0 counts of 3-gram overlaps.\n",
            "Therefore the BLEU score evaluates to 0, independently of\n",
            "how many N-gram overlaps of lower order it contains.\n",
            "Consider using lower n-gram order or use SmoothingFunction()\n",
            "  warnings.warn(_msg)\n"
          ]
        },
        {
          "output_type": "stream",
          "name": "stdout",
          "text": [
            "BLEU-1: 0.546524\n",
            "BLEU-2: 0.346926\n"
          ]
        }
      ],
      "source": [
        "# Calculating the BLEU score on the actual and predicted captions\n",
        "actual, predicted, bleu, gcaptions = list(), list(), list(), list()\n",
        "\n",
        "for key in tqdm(test_list):\n",
        "    # get actual caption\n",
        "    captions = test_list[key]\n",
        "    # predict the caption for image\n",
        "    y_pred = y_pred = data.loc[data[0]==key][1].values[0]\n",
        "    # split into words\n",
        "    actual_captions = [caption.split() for caption in captions]\n",
        "    y_pred = y_pred.split()\n",
        "    score=sentence_bleu(actual_captions, y_pred, weights=(1.0, 0, 0, 0))\n",
        "    bleu.append(score)\n",
        "    if score>0.8 and score<0.9:\n",
        "        gcaptions.append(key)\n",
        "    # append to the list\n",
        "    actual.append(actual_captions)\n",
        "    predicted.append(y_pred)\n",
        "    \n",
        "    \n",
        "# calcuate BLEU score\n",
        "print(\"BLEU-1: %f\" % corpus_bleu(actual, predicted, weights=(1.0, 0, 0, 0)))\n",
        "print(\"BLEU-2: %f\" % corpus_bleu(actual, predicted, weights=(0.5, 0.5, 0, 0)))"
      ]
    },
    {
      "cell_type": "code",
      "source": [
        "x=[]\n",
        "for i in range(0, len(test_list)):\n",
        "  x.append(i)\n",
        "plt.plot(x,bleu)\n",
        "plt.xlabel('Test Videos')\n",
        "plt.ylabel('Bleu Score')\n",
        "plt.title('Videos and their corresponding Bleu Score between 0 to 1')"
      ],
      "metadata": {
        "colab": {
          "base_uri": "https://localhost:8080/",
          "height": 312
        },
        "id": "ma7PVW4tlOAJ",
        "outputId": "45fc1a10-fc64-47e3-b31e-c3c06d5e68ea"
      },
      "execution_count": 160,
      "outputs": [
        {
          "output_type": "execute_result",
          "data": {
            "text/plain": [
              "Text(0.5, 1.0, 'Videos and their corresponding Bleu Score between 0 to 1')"
            ]
          },
          "metadata": {},
          "execution_count": 160
        },
        {
          "output_type": "display_data",
          "data": {
            "text/plain": [
              "<Figure size 432x288 with 1 Axes>"
            ],
            "image/png": "[encoded data removed]"
          },
          "metadata": {
            "needs_background": "light"
          }
        }
      ]
    },
    {
      "cell_type": "markdown",
      "source": [
        "Generating the Captions"
      ],
      "metadata": {
        "id": "rpjcrYc_riPI"
      }
    },
    {
      "cell_type": "code",
      "execution_count": 134,
      "metadata": {
        "id": "AcDF3wNbppqF"
      },
      "outputs": [],
      "source": [
        "def generate_caption(video_name):\n",
        "    # load the video\n",
        "    # video_name = \".avi\"\n",
        "    video_id = video_name.split('.')[0]\n",
        "    vid_path = os.path.join('/content/drive/MyDrive/YouTubeClips /test_avi', video_name)\n",
        "    captions = test_list[video_id]\n",
        "    print('---------------------Actual---------------------')\n",
        "    for caption in captions:\n",
        "        print(caption)\n",
        "    # predict the caption\n",
        "    y_pred = data.loc[data[0]==video_id][1].values[0]\n",
        "    print('--------------------Predicted--------------------')\n",
        "    print(y_pred)\n"
      ]
    },
    {
      "cell_type": "code",
      "source": [
        "generate_caption(\"0lh_UWF9ZP4_183_190.avi\")"
      ],
      "metadata": {
        "colab": {
          "base_uri": "https://localhost:8080/"
        },
        "id": "Lkw4lR_bVpaO",
        "outputId": "3a75687d-4ad6-4e99-a8f6-855ffd8e8dc1"
      },
      "execution_count": 135,
      "outputs": [
        {
          "output_type": "stream",
          "name": "stdout",
          "text": [
            "---------------------Actual---------------------\n",
            "a woman is slicing a meat into pieces.\n",
            "a woman is slicing a fish fillet with a knife.\n",
            "a woman is cutting tuna into slices.\n",
            "a woman is slicing tuna to make sushi.\n",
            "a woman is slicing some tuna.\n",
            "a woman is cutting raw fish.\n",
            "the lady sliced the raw meat.\n",
            "the woman is slicing raw fish.\n",
            "a woman is slicing a tuna steak into strips.\n",
            "a woman cuts up some meat.\n",
            "the lady cut the raw fish.\n",
            "a woman is cutting a piece of fish.\n",
            "a woman is slicing a piece of fish.\n",
            "a lady is slicing a meat\n",
            "a woman with a poodle slices salmon.\n",
            "a lady is cutting the fish.\n",
            "the lady sliced the raw fish.\n",
            "the woman is slicing raw fish.\n",
            "the women is cutting the bread pieces\n",
            "--------------------Predicted--------------------\n",
            "a woman is slicing a piece of fish\n"
          ]
        }
      ]
    },
    {
      "cell_type": "code",
      "source": [
        "generate_caption(\"-_hbPLsZvvo_43_55.avi\")"
      ],
      "metadata": {
        "colab": {
          "base_uri": "https://localhost:8080/"
        },
        "id": "exymuZ3DWeUR",
        "outputId": "31e7a733-7594-40bb-e865-6f8572838f60"
      },
      "execution_count": 136,
      "outputs": [
        {
          "output_type": "stream",
          "name": "stdout",
          "text": [
            "---------------------Actual---------------------\n",
            "an oriental lady is cutting a carrot into thin pieces.\n",
            "a woman is shown slicing a carrot into small pieces.\n",
            "a woman is chopping a carrot.\n",
            "a woman is cutting vegetables into quarter moons.\n",
            "a woman is slicing a carrot.\n",
            "a woman cuts a carrot with a knife.\n",
            "a woman is cutting a carrot.\n",
            "the woman is cutting a carrot.\n",
            "a woman is slicing a carrot.\n",
            "a woman is cutting a carrot.\n",
            "a lady is chopping up a carrot.\n",
            "a delicious food is on the table.\n",
            "a woman is chopping up a carrot.\n",
            "a woman is cutting a carrot.\n",
            "a woman is showing how to cut the carrot\n",
            "how to make bento and japanese boxed lunch\n",
            "there is a healthy prepared japanese boxed lunch\n",
            "a japanese lady preparing lunch from potato and carrot.\n",
            "\"a short clip aboout japanese boxed lunch \"\"bento\"\".\"\n",
            "a view of japanese boxed lunch.\n",
            "a woman cutting a carrot using knife.\n",
            "a woman is cutting a carrot.\n",
            "a woman is cutting carrot into small pieces.\n",
            "a woman is quartering a carrot.\n",
            "a woman is sectioning and cutting a carrot.\n",
            "a woman is slicing a carrot with a knife.\n",
            "a woman is slicing a carrot.\n",
            "a woman is slicing a carrot.\n",
            "a woman is slicing a carrot.\n",
            "a woman is slicing a carrot.\n",
            "a woman is slicing some bentos\n",
            "a women is slicing a carrot\n",
            "how to make an easy japanese food\n",
            "the person is showing how to make bento\n",
            "the woman is cutting the potato\n",
            "they are showing how to do bento.\n",
            "a girl is cutting some vegetable.\n",
            "a women is showing how to make bento\n",
            "a lady is cutting  a carrot.\n",
            "a woman is slicing some carrot.\n",
            "--------------------Predicted--------------------\n",
            "a woman is slicing a carrot\n"
          ]
        }
      ]
    },
    {
      "cell_type": "code",
      "source": [
        "generate_caption(\"tn1d5DmdMqY_15_28.avi\")"
      ],
      "metadata": {
        "colab": {
          "base_uri": "https://localhost:8080/"
        },
        "id": "g18lHy4zbREC",
        "outputId": "559453f5-085e-40bb-a533-998ecc856b2d"
      },
      "execution_count": 137,
      "outputs": [
        {
          "output_type": "stream",
          "name": "stdout",
          "text": [
            "---------------------Actual---------------------\n",
            "a man is playing a guitar.\n",
            "a man is playing a guitar.\n",
            "a man is playing a guitar.\n",
            "a man is playing a guitar.\n",
            "a man is playing a guitar.\n",
            "a man is playing a guitar.\n",
            "a man is playing a guitar.\n",
            "a man is playing the guitar.\n",
            "a man is playing the guitar.\n",
            "a man is playing the guitar.\n",
            "a man is playing the guitar.\n",
            "a man plays an acoustic guitar.\n",
            "a man seated is playing a guitar.\n",
            "the man is playing the guitar.\n",
            "a man is playing a guitar.\n",
            "a man is playing a guitar.\n",
            "a man is playing the guitar.\n",
            "a man is playing the guitar.\n",
            "a man is playing the guitar.\n",
            "a man is playing a guitar\n",
            "a man is playing a guitar.\n",
            "a man is playing the guitar.\n",
            "the man is playing the guitar.\n",
            "a man is playing a guitar.\n",
            "a man is playing acoustic guitar.\n",
            "--------------------Predicted--------------------\n",
            "a man is playing a guitar\n"
          ]
        }
      ]
    },
    {
      "cell_type": "code",
      "source": [
        "generate_caption(\"Wv3u2q3oGeU_35_45.avi\")"
      ],
      "metadata": {
        "colab": {
          "base_uri": "https://localhost:8080/"
        },
        "id": "0gD0GI2bbdLe",
        "outputId": "6aa34dd5-de2f-4a1d-c5aa-fc8afe006605"
      },
      "execution_count": 155,
      "outputs": [
        {
          "output_type": "stream",
          "name": "stdout",
          "text": [
            "---------------------Actual---------------------\n",
            "a man is playing an electric keyboard.\n",
            "a man is playing a piano.\n",
            "a man is playing a piano.\n",
            "someone is playing a piano keyboard.\n",
            "a man is playing a keyboard.\n",
            "a man is playing music on a keyboard.\n",
            "a man is playing a piano keyboard.\n",
            "a man is playing the keyboard.\n",
            "a man is playing the keyboard.\n",
            "the man is playing the keyboards.\n",
            "a man is playing an electric keyboard.\n",
            "a man is playing the keyboards.\n",
            "the person is playing the key broad\n",
            "a person is playing a keyboard.\n",
            "a man is playing a song on the piano.\n",
            "a man is playing the piano.\n",
            "a man is playing a keyboard.\n",
            "a close-up of playing the keyboard.\n",
            "a man is playing the keyboard.\n",
            "the man played the electonic keyboard.\n",
            "the man is playing the keyboards.\n",
            "--------------------Predicted--------------------\n",
            "a man playing piano\n"
          ]
        }
      ]
    },
    {
      "cell_type": "code",
      "source": [
        "generate_caption(\"0hyZ__3YhZc_289_295.avi\")"
      ],
      "metadata": {
        "colab": {
          "base_uri": "https://localhost:8080/"
        },
        "id": "NBUH67ecb-yj",
        "outputId": "b1a718df-2850-4cf1-e5af-b8ca4cd2ea17"
      },
      "execution_count": 139,
      "outputs": [
        {
          "output_type": "stream",
          "name": "stdout",
          "text": [
            "---------------------Actual---------------------\n",
            "someone pours chopped vegetables into a kettle.\n",
            "a person puts mixed vegetables into a pot.\n",
            "a man puts vegetables into a pot.\n",
            "someone is putting vegetables into a pot.\n",
            "a man is adding something to a cooking bowl.\n",
            "someone is adding vegetables to a pot.\n",
            "someone is putting vegetables into a pot.\n",
            "someone is pouring ingrediants into a pot.\n",
            "a person is adding chopped vegetables to a pot.\n",
            "the man is dropping vegetables into the pot.\n",
            "a man dumps some stir fry into a pot.\n",
            "the man added cut vegetables to the pot and oil.\n",
            "a person is cooking the chill vegetarian\n",
            "someone is pouring vegetable in a pot.\n",
            "a man making vagetarian chilli in the kitchen\n",
            "a person is mixing vegetables in the water\n",
            "vegetables being added to a vessel for cooking\n",
            "the man added the vegetables to the pot.\n",
            "the man dropped vegetables in the pot.\n",
            "someone empties a bowl of chopped vegetables into a pot.\n",
            "a person is pouring some vegetable.\n",
            "the person is cooking the curry\n",
            "the person is cooking the curry\n",
            "--------------------Predicted--------------------\n",
            "a man is cooking the kitchen\n"
          ]
        }
      ]
    },
    {
      "cell_type": "code",
      "source": [
        "generate_caption(\"Qp-k0H93iJE_35_39.avi\")"
      ],
      "metadata": {
        "colab": {
          "base_uri": "https://localhost:8080/"
        },
        "id": "pRsoVba8cNXQ",
        "outputId": "7ae05a41-aca9-407e-c4cb-cbf5b93a2179"
      },
      "execution_count": 140,
      "outputs": [
        {
          "output_type": "stream",
          "name": "stdout",
          "text": [
            "---------------------Actual---------------------\n",
            "a man strikes a ball with a bat.\n",
            "a cricket player hits the ball.\n",
            "the cricket player hit the ball.\n",
            "a man bats a cricket ball.\n",
            "the cricket player hit the ball.\n",
            "a baseball game is being played.\n",
            "a cricketer made a funny moment in a match.\n",
            "a man is hitting a ball with a bat.\n",
            "a cricket player misses the ball.\n",
            "a man is throwing a cricket ball.\n",
            "--------------------Predicted--------------------\n",
            "a man is playing with a ball\n"
          ]
        }
      ]
    },
    {
      "cell_type": "code",
      "source": [
        "generate_caption(\"Ffv7fhL1EDY_177_184.avi\")"
      ],
      "metadata": {
        "colab": {
          "base_uri": "https://localhost:8080/"
        },
        "id": "Dof_KvYhc8kL",
        "outputId": "2d025634-a6f9-48b8-f986-5a3c737a0c37"
      },
      "execution_count": 141,
      "outputs": [
        {
          "output_type": "stream",
          "name": "stdout",
          "text": [
            "---------------------Actual---------------------\n",
            "a soccer player dribbles past his opponents.\n",
            "a man is kicking a soccer ball.\n",
            "men are playing soccer on a field.\n",
            "a man moves a soccer ball down the field.\n",
            "a man is kicking a soccer ball down the field.\n",
            "a fat football player eludes leaner players.\n",
            "a man dribbles a soccer ball down the field.\n",
            "the man dribbled the soccer ball down the field.\n",
            "a foot ball match is playing\n",
            "two teams are playing football match.\n",
            "a soccer player passing the ball\n",
            "a set of old people playing football\n",
            "the man tricked the other soccer player.\n",
            "a group of men are playing soccer.\n",
            "a man is running and kicking a ball.\n",
            "--------------------Predicted--------------------\n",
            "a man is playing with a ball\n"
          ]
        }
      ]
    },
    {
      "cell_type": "code",
      "source": [
        "generate_caption(\"bDoCQEwghZU_201_211.avi\")"
      ],
      "metadata": {
        "colab": {
          "base_uri": "https://localhost:8080/"
        },
        "id": "plepo80AdUwh",
        "outputId": "4fb64076-38f7-41bb-fa90-0fd4e0dbfa14"
      },
      "execution_count": 142,
      "outputs": [
        {
          "output_type": "stream",
          "name": "stdout",
          "text": [
            "---------------------Actual---------------------\n",
            "a man is spinning in a chair.\n",
            "two boys are talking on the phone.\n",
            "a boy is talking on the phone.\n",
            "two men are speaking on the phone.\n",
            "two guys are talking on the phone.\n",
            "a man is talking on a phone.\n",
            "a man is making a telephone call.\n",
            "a man is having a conversation on the phone.\n",
            "a man talks on the telephone.\n",
            "a guy is speaking on the telephone.\n",
            "a guy is talking on the phone.\n",
            "the man is talking on the phone.\n",
            "a man talks on his cell phone.\n",
            "a man is talking in a phone\n",
            "two men are talking on the phone.\n",
            "a man talking with someone on phone\n",
            "a boy giving a presentation in front of many people.\n",
            "a man is talking through phone\n",
            "a man is rolling in his chair.\n",
            "a boy is talking with his friend.\n",
            "two men are taking to each other on the phone.\n",
            "a man spins in a chair while on the phone.\n",
            "a man is talking in phone.\n",
            "a man replies to a phone call.\n",
            "two men are talking to each other on the phone.\n",
            "the man is talking on the phone.\n",
            "two men are talking on the phone to each other.\n",
            "a man is speaking on the phone.\n",
            "the person is speaking in the mobile\n",
            "--------------------Predicted--------------------\n",
            "a man is making a food\n"
          ]
        }
      ]
    },
    {
      "cell_type": "code",
      "source": [
        "generate_caption(\"hJFBXHtxKIc_310_315.avi\")"
      ],
      "metadata": {
        "colab": {
          "base_uri": "https://localhost:8080/"
        },
        "id": "4TDa3oMVfCqL",
        "outputId": "1ff49af3-9f42-4505-8fa8-5629a05c4d50"
      },
      "execution_count": 143,
      "outputs": [
        {
          "output_type": "stream",
          "name": "stdout",
          "text": [
            "---------------------Actual---------------------\n",
            "a man dips a fork into spaghetti in a bowl.\n",
            "a man is eating a food.\n",
            "a man demonstrates a food dish.\n",
            "a man is twirling spaghetti onto a fork.\n",
            "a man is twirling spaghetti onto a fork.\n",
            "the man tried some sauce and pasta.\n",
            "a man is spinning spaghetti onto a fork.\n",
            "the man tasted the noodle and sauce.\n",
            "a man eats a bowl of spaghetti.\n",
            "a man is tasting the food\n",
            "a man is taking the food by the fork.\n",
            "a person is cooking spaghetti sauce\n",
            "the person is eating the noodles\n",
            "--------------------Predicted--------------------\n",
            "a man is eating spaghetti\n"
          ]
        }
      ]
    },
    {
      "cell_type": "code",
      "source": [
        "generate_caption(\"GWQTAe64m-0_160_166.avi\")"
      ],
      "metadata": {
        "colab": {
          "base_uri": "https://localhost:8080/"
        },
        "id": "3EBPRZ8gfrtv",
        "outputId": "dfc338c4-18e7-4c3c-f5a8-d96d974abdbe"
      },
      "execution_count": 157,
      "outputs": [
        {
          "output_type": "stream",
          "name": "stdout",
          "text": [
            "---------------------Actual---------------------\n",
            "a young woman is dancing in a cage.\n",
            "a woman is dancing in a cage.\n",
            "a woman is dancing in a cage.\n",
            "a young woman is dancing in a cage.\n",
            "a woman is dancing in a cage.\n",
            "a girl is dancing in a cage.\n",
            "a girl is dancing in a cage.\n",
            "the go-go dancer danced in the cage.\n",
            "the woman is dancing in a cage.\n",
            "a woman in a cage dances.\n",
            "the lady danced in a cage.\n",
            "a woman is dancing in a cage.\n",
            "a woman is dancing in a cage.\n",
            "a woman is dancing in a cage.\n",
            "a woman from the  70's dancing in a cage.\n",
            "a woman is applying make up on face.\n",
            "a woman is dancing in a cage.\n",
            "the go-go dancer danced in the cage.\n",
            "the woman is dancing in a cage.\n",
            "the girl is doing the dancing\n",
            "--------------------Predicted--------------------\n",
            "a girl is singing\n"
          ]
        }
      ]
    },
    {
      "cell_type": "markdown",
      "source": [
        "Generating GIFs"
      ],
      "metadata": {
        "id": "f__oqDhirSso"
      }
    },
    {
      "cell_type": "code",
      "source": [
        "# Function for generating the GIFs\n",
        "def convertVideoToGifFile(inputFile, outputFile=None):\n",
        "    in_path=os.path.join('/content/drive/MyDrive/Youtube/test_avi',inputFile)\n",
        "    if not outputFile:\n",
        "        outputFile = os.path.splitext(inputFile)[0] + \".gif\"\n",
        "\t\t\n",
        "    print(\"Converting {0} to {1}\".format(in_path, outputFile))\n",
        "\n",
        "    reader = imageio.get_reader(in_path)\n",
        "    fps = reader.get_meta_data()['fps']\n",
        "\n",
        "    writer = imageio.get_writer(outputFile, fps=fps)\n",
        "\t\n",
        "    for i,im in enumerate(reader):\n",
        "        writer.append_data(im)\n",
        "\n",
        "    writer.close()\n",
        "\t\n",
        "    print(\"\\r\\nConversion done.\")"
      ],
      "metadata": {
        "id": "Vxyo1T-Fjv23"
      },
      "execution_count": null,
      "outputs": []
    },
    {
      "cell_type": "code",
      "source": [
        "convertVideoToGifFile(\"-_hbPLsZvvo_43_55.avi\")"
      ],
      "metadata": {
        "colab": {
          "base_uri": "https://localhost:8080/"
        },
        "id": "hWl1Ofitjxb8",
        "outputId": "e7ed470e-e107-482a-c578-f851d2507472"
      },
      "execution_count": 145,
      "outputs": [
        {
          "output_type": "stream",
          "name": "stdout",
          "text": [
            "Converting /content/drive/MyDrive/Youtube/test_avi/-_hbPLsZvvo_43_55.avi to -_hbPLsZvvo_43_55.gif\n",
            "\n",
            "Conversion done.\n"
          ]
        }
      ]
    },
    {
      "cell_type": "code",
      "source": [
        "convertVideoToGifFile(\"tn1d5DmdMqY_15_28.avi\")"
      ],
      "metadata": {
        "colab": {
          "base_uri": "https://localhost:8080/"
        },
        "id": "AeJEOOSAj3KO",
        "outputId": "da4fb0e7-12aa-40a4-faa7-c20d82cabe3e"
      },
      "execution_count": 146,
      "outputs": [
        {
          "output_type": "stream",
          "name": "stdout",
          "text": [
            "Converting /content/drive/MyDrive/Youtube/test_avi/tn1d5DmdMqY_15_28.avi to tn1d5DmdMqY_15_28.gif\n",
            "\n",
            "Conversion done.\n"
          ]
        }
      ]
    },
    {
      "cell_type": "code",
      "source": [
        "convertVideoToGifFile(\"Wv3u2q3oGeU_35_45.avi\")"
      ],
      "metadata": {
        "colab": {
          "base_uri": "https://localhost:8080/"
        },
        "id": "OUM3SRSsj_CT",
        "outputId": "e59b9b3a-a9d7-4960-ba7c-19c6233453ec"
      },
      "execution_count": 156,
      "outputs": [
        {
          "output_type": "stream",
          "name": "stdout",
          "text": [
            "Converting /content/drive/MyDrive/Youtube/test_avi/Wv3u2q3oGeU_35_45.avi to Wv3u2q3oGeU_35_45.gif\n",
            "\n",
            "Conversion done.\n"
          ]
        }
      ]
    },
    {
      "cell_type": "code",
      "source": [
        "convertVideoToGifFile(\"0hyZ__3YhZc_289_295.avi\")"
      ],
      "metadata": {
        "colab": {
          "base_uri": "https://localhost:8080/"
        },
        "id": "-cHsQx7qj-bv",
        "outputId": "dfcdeb86-04a2-4dff-c6ed-f409a2a99148"
      },
      "execution_count": 149,
      "outputs": [
        {
          "output_type": "stream",
          "name": "stdout",
          "text": [
            "Converting /content/drive/MyDrive/Youtube/test_avi/0hyZ__3YhZc_289_295.avi to 0hyZ__3YhZc_289_295.gif\n",
            "\n",
            "Conversion done.\n"
          ]
        }
      ]
    },
    {
      "cell_type": "code",
      "source": [
        "convertVideoToGifFile(\"Qp-k0H93iJE_35_39.avi\")"
      ],
      "metadata": {
        "colab": {
          "base_uri": "https://localhost:8080/"
        },
        "id": "TbMvnh-Uj-V5",
        "outputId": "a044c003-5a01-4d66-a259-8cbb493d7727"
      },
      "execution_count": 150,
      "outputs": [
        {
          "output_type": "stream",
          "name": "stdout",
          "text": [
            "Converting /content/drive/MyDrive/Youtube/test_avi/Qp-k0H93iJE_35_39.avi to Qp-k0H93iJE_35_39.gif\n",
            "\n",
            "Conversion done.\n"
          ]
        }
      ]
    },
    {
      "cell_type": "code",
      "source": [
        "convertVideoToGifFile(\"Ffv7fhL1EDY_177_184.avi\")"
      ],
      "metadata": {
        "colab": {
          "base_uri": "https://localhost:8080/"
        },
        "id": "eyNKKLaLj-Or",
        "outputId": "352135ef-094f-456f-dd89-12ce23a29eec"
      },
      "execution_count": 151,
      "outputs": [
        {
          "output_type": "stream",
          "name": "stdout",
          "text": [
            "Converting /content/drive/MyDrive/Youtube/test_avi/Ffv7fhL1EDY_177_184.avi to Ffv7fhL1EDY_177_184.gif\n",
            "\n",
            "Conversion done.\n"
          ]
        }
      ]
    },
    {
      "cell_type": "code",
      "source": [
        "convertVideoToGifFile(\"bDoCQEwghZU_201_211.avi\")"
      ],
      "metadata": {
        "colab": {
          "base_uri": "https://localhost:8080/"
        },
        "id": "Rqdz71zfkvFO",
        "outputId": "c89a9e23-c8d8-4832-d2ab-d4b6aef8af10"
      },
      "execution_count": 152,
      "outputs": [
        {
          "output_type": "stream",
          "name": "stdout",
          "text": [
            "Converting /content/drive/MyDrive/Youtube/test_avi/bDoCQEwghZU_201_211.avi to bDoCQEwghZU_201_211.gif\n",
            "\n",
            "Conversion done.\n"
          ]
        }
      ]
    },
    {
      "cell_type": "code",
      "source": [
        "convertVideoToGifFile(\"hJFBXHtxKIc_310_315.avi\")"
      ],
      "metadata": {
        "colab": {
          "base_uri": "https://localhost:8080/"
        },
        "id": "9MMVwP3Skv9k",
        "outputId": "2940b607-f5c3-4175-e673-1ed27998617e"
      },
      "execution_count": 153,
      "outputs": [
        {
          "output_type": "stream",
          "name": "stdout",
          "text": [
            "Converting /content/drive/MyDrive/Youtube/test_avi/hJFBXHtxKIc_310_315.avi to hJFBXHtxKIc_310_315.gif\n",
            "\n",
            "Conversion done.\n"
          ]
        }
      ]
    },
    {
      "cell_type": "code",
      "source": [
        "convertVideoToGifFile(\"GWQTAe64m-0_160_166.avi\")"
      ],
      "metadata": {
        "colab": {
          "base_uri": "https://localhost:8080/"
        },
        "id": "TE21ljSmk52v",
        "outputId": "1a0dbb1f-5b4f-452e-c196-3113833e1b5e"
      },
      "execution_count": 158,
      "outputs": [
        {
          "output_type": "stream",
          "name": "stdout",
          "text": [
            "Converting /content/drive/MyDrive/Youtube/test_avi/GWQTAe64m-0_160_166.avi to GWQTAe64m-0_160_166.gif\n",
            "\n",
            "Conversion done.\n"
          ]
        }
      ]
    }
  ],
  "metadata": {
    "accelerator": "GPU",
    "colab": {
      "collapsed_sections": [],
      "name": "VideoCaptioningFinal.ipynb",
      "provenance": []
    },
    "gpuClass": "standard",
    "kernelspec": {
      "display_name": "Python 3",
      "name": "python3"
    },
    "language_info": {
      "name": "python"
    },
    "widgets": {
      "application/vnd.jupyter.widget-state+json": {
        "057e161261944e7ba79d649f7f137970": {
          "model_module": "@jupyter-widgets/controls",
          "model_module_version": "1.5.0",
          "model_name": "FloatProgressModel",
          "state": {
            "_dom_classes": [],
            "_model_module": "@jupyter-widgets/controls",
            "_model_module_version": "1.5.0",
            "_model_name": "FloatProgressModel",
            "_view_count": null,
            "_view_module": "@jupyter-widgets/controls",
            "_view_module_version": "1.5.0",
            "_view_name": "ProgressView",
            "bar_style": "success",
            "description": "",
            "description_tooltip": null,
            "layout": "IPY_MODEL_3af00f28a4174a699d9c87bb8e282bc6",
            "max": 85497,
            "min": 0,
            "orientation": "horizontal",
            "style": "IPY_MODEL_c65ed9bb9c034628bf1c1e4b3914eba8",
            "value": 85497
          }
        },
        "1476984a405a4e1a8180af4002230584": {
          "model_module": "@jupyter-widgets/base",
          "model_module_version": "1.2.0",
          "model_name": "LayoutModel",
          "state": {
            "_model_module": "@jupyter-widgets/base",
            "_model_module_version": "1.2.0",
            "_model_name": "LayoutModel",
            "_view_count": null,
            "_view_module": "@jupyter-widgets/base",
            "_view_module_version": "1.2.0",
            "_view_name": "LayoutView",
            "align_content": null,
            "align_items": null,
            "align_self": null,
            "border": null,
            "bottom": null,
            "display": null,
            "flex": null,
            "flex_flow": null,
            "grid_area": null,
            "grid_auto_columns": null,
            "grid_auto_flow": null,
            "grid_auto_rows": null,
            "grid_column": null,
            "grid_gap": null,
            "grid_row": null,
            "grid_template_areas": null,
            "grid_template_columns": null,
            "grid_template_rows": null,
            "height": null,
            "justify_content": null,
            "justify_items": null,
            "left": null,
            "margin": null,
            "max_height": null,
            "max_width": null,
            "min_height": null,
            "min_width": null,
            "object_fit": null,
            "object_position": null,
            "order": null,
            "overflow": null,
            "overflow_x": null,
            "overflow_y": null,
            "padding": null,
            "right": null,
            "top": null,
            "visibility": null,
            "width": null
          }
        },
        "29e03b58f9cd4adcbe8eedff430998d6": {
          "model_module": "@jupyter-widgets/controls",
          "model_module_version": "1.5.0",
          "model_name": "HTMLModel",
          "state": {
            "_dom_classes": [],
            "_model_module": "@jupyter-widgets/controls",
            "_model_module_version": "1.5.0",
            "_model_name": "HTMLModel",
            "_view_count": null,
            "_view_module": "@jupyter-widgets/controls",
            "_view_module_version": "1.5.0",
            "_view_name": "HTMLView",
            "description": "",
            "description_tooltip": null,
            "layout": "IPY_MODEL_1476984a405a4e1a8180af4002230584",
            "placeholder": "​",
            "style": "IPY_MODEL_cfd3f6bfda1741cd85a99901dc0c31ff",
            "value": " 85497/85497 [00:00&lt;00:00, 307548.43it/s]"
          }
        },
        "34eeec3d91874dbeb80dd0f2898e106f": {
          "model_module": "@jupyter-widgets/controls",
          "model_module_version": "1.5.0",
          "model_name": "DescriptionStyleModel",
          "state": {
            "_model_module": "@jupyter-widgets/controls",
            "_model_module_version": "1.5.0",
            "_model_name": "DescriptionStyleModel",
            "_view_count": null,
            "_view_module": "@jupyter-widgets/base",
            "_view_module_version": "1.2.0",
            "_view_name": "StyleView",
            "description_width": ""
          }
        },
        "3af00f28a4174a699d9c87bb8e282bc6": {
          "model_module": "@jupyter-widgets/base",
          "model_module_version": "1.2.0",
          "model_name": "LayoutModel",
          "state": {
            "_model_module": "@jupyter-widgets/base",
            "_model_module_version": "1.2.0",
            "_model_name": "LayoutModel",
            "_view_count": null,
            "_view_module": "@jupyter-widgets/base",
            "_view_module_version": "1.2.0",
            "_view_name": "LayoutView",
            "align_content": null,
            "align_items": null,
            "align_self": null,
            "border": null,
            "bottom": null,
            "display": null,
            "flex": null,
            "flex_flow": null,
            "grid_area": null,
            "grid_auto_columns": null,
            "grid_auto_flow": null,
            "grid_auto_rows": null,
            "grid_column": null,
            "grid_gap": null,
            "grid_row": null,
            "grid_template_areas": null,
            "grid_template_columns": null,
            "grid_template_rows": null,
            "height": null,
            "justify_content": null,
            "justify_items": null,
            "left": null,
            "margin": null,
            "max_height": null,
            "max_width": null,
            "min_height": null,
            "min_width": null,
            "object_fit": null,
            "object_position": null,
            "order": null,
            "overflow": null,
            "overflow_x": null,
            "overflow_y": null,
            "padding": null,
            "right": null,
            "top": null,
            "visibility": null,
            "width": null
          }
        },
        "6cf993ecce3e42b9b3948af5eead3544": {
          "model_module": "@jupyter-widgets/controls",
          "model_module_version": "1.5.0",
          "model_name": "HTMLModel",
          "state": {
            "_dom_classes": [],
            "_model_module": "@jupyter-widgets/controls",
            "_model_module_version": "1.5.0",
            "_model_name": "HTMLModel",
            "_view_count": null,
            "_view_module": "@jupyter-widgets/controls",
            "_view_module_version": "1.5.0",
            "_view_name": "HTMLView",
            "description": "",
            "description_tooltip": null,
            "layout": "IPY_MODEL_da9419ede6a54abb9f961af758951e6c",
            "placeholder": "​",
            "style": "IPY_MODEL_34eeec3d91874dbeb80dd0f2898e106f",
            "value": "100%"
          }
        },
        "c65ed9bb9c034628bf1c1e4b3914eba8": {
          "model_module": "@jupyter-widgets/controls",
          "model_module_version": "1.5.0",
          "model_name": "ProgressStyleModel",
          "state": {
            "_model_module": "@jupyter-widgets/controls",
            "_model_module_version": "1.5.0",
            "_model_name": "ProgressStyleModel",
            "_view_count": null,
            "_view_module": "@jupyter-widgets/base",
            "_view_module_version": "1.2.0",
            "_view_name": "StyleView",
            "bar_color": null,
            "description_width": ""
          }
        },
        "cf2b41d8b519491b9d40e33af1d36606": {
          "model_module": "@jupyter-widgets/base",
          "model_module_version": "1.2.0",
          "model_name": "LayoutModel",
          "state": {
            "_model_module": "@jupyter-widgets/base",
            "_model_module_version": "1.2.0",
            "_model_name": "LayoutModel",
            "_view_count": null,
            "_view_module": "@jupyter-widgets/base",
            "_view_module_version": "1.2.0",
            "_view_name": "LayoutView",
            "align_content": null,
            "align_items": null,
            "align_self": null,
            "border": null,
            "bottom": null,
            "display": null,
            "flex": null,
            "flex_flow": null,
            "grid_area": null,
            "grid_auto_columns": null,
            "grid_auto_flow": null,
            "grid_auto_rows": null,
            "grid_column": null,
            "grid_gap": null,
            "grid_row": null,
            "grid_template_areas": null,
            "grid_template_columns": null,
            "grid_template_rows": null,
            "height": null,
            "justify_content": null,
            "justify_items": null,
            "left": null,
            "margin": null,
            "max_height": null,
            "max_width": null,
            "min_height": null,
            "min_width": null,
            "object_fit": null,
            "object_position": null,
            "order": null,
            "overflow": null,
            "overflow_x": null,
            "overflow_y": null,
            "padding": null,
            "right": null,
            "top": null,
            "visibility": null,
            "width": null
          }
        },
        "cfd3f6bfda1741cd85a99901dc0c31ff": {
          "model_module": "@jupyter-widgets/controls",
          "model_module_version": "1.5.0",
          "model_name": "DescriptionStyleModel",
          "state": {
            "_model_module": "@jupyter-widgets/controls",
            "_model_module_version": "1.5.0",
            "_model_name": "DescriptionStyleModel",
            "_view_count": null,
            "_view_module": "@jupyter-widgets/base",
            "_view_module_version": "1.2.0",
            "_view_name": "StyleView",
            "description_width": ""
          }
        },
        "da9419ede6a54abb9f961af758951e6c": {
          "model_module": "@jupyter-widgets/base",
          "model_module_version": "1.2.0",
          "model_name": "LayoutModel",
          "state": {
            "_model_module": "@jupyter-widgets/base",
            "_model_module_version": "1.2.0",
            "_model_name": "LayoutModel",
            "_view_count": null,
            "_view_module": "@jupyter-widgets/base",
            "_view_module_version": "1.2.0",
            "_view_name": "LayoutView",
            "align_content": null,
            "align_items": null,
            "align_self": null,
            "border": null,
            "bottom": null,
            "display": null,
            "flex": null,
            "flex_flow": null,
            "grid_area": null,
            "grid_auto_columns": null,
            "grid_auto_flow": null,
            "grid_auto_rows": null,
            "grid_column": null,
            "grid_gap": null,
            "grid_row": null,
            "grid_template_areas": null,
            "grid_template_columns": null,
            "grid_template_rows": null,
            "height": null,
            "justify_content": null,
            "justify_items": null,
            "left": null,
            "margin": null,
            "max_height": null,
            "max_width": null,
            "min_height": null,
            "min_width": null,
            "object_fit": null,
            "object_position": null,
            "order": null,
            "overflow": null,
            "overflow_x": null,
            "overflow_y": null,
            "padding": null,
            "right": null,
            "top": null,
            "visibility": null,
            "width": null
          }
        },
        "ff7b08616c4048f29f990389b9fadd16": {
          "model_module": "@jupyter-widgets/controls",
          "model_module_version": "1.5.0",
          "model_name": "HBoxModel",
          "state": {
            "_dom_classes": [],
            "_model_module": "@jupyter-widgets/controls",
            "_model_module_version": "1.5.0",
            "_model_name": "HBoxModel",
            "_view_count": null,
            "_view_module": "@jupyter-widgets/controls",
            "_view_module_version": "1.5.0",
            "_view_name": "HBoxView",
            "box_style": "",
            "children": [
              "IPY_MODEL_6cf993ecce3e42b9b3948af5eead3544",
              "IPY_MODEL_057e161261944e7ba79d649f7f137970",
              "IPY_MODEL_29e03b58f9cd4adcbe8eedff430998d6"
            ],
            "layout": "IPY_MODEL_cf2b41d8b519491b9d40e33af1d36606"
          }
        },
        "3fd02b9751214f8ebd9a983dc95a5315": {
          "model_module": "@jupyter-widgets/controls",
          "model_name": "HBoxModel",
          "model_module_version": "1.5.0",
          "state": {
            "_dom_classes": [],
            "_model_module": "@jupyter-widgets/controls",
            "_model_module_version": "1.5.0",
            "_model_name": "HBoxModel",
            "_view_count": null,
            "_view_module": "@jupyter-widgets/controls",
            "_view_module_version": "1.5.0",
            "_view_name": "HBoxView",
            "box_style": "",
            "children": [
              "IPY_MODEL_b531987b774a451cb03176f3e0d2fbfb",
              "IPY_MODEL_fd2c9f626c824318b5062aae59a69b70",
              "IPY_MODEL_8375c2a2e3b04f35999078667a59be95"
            ],
            "layout": "IPY_MODEL_c7dee8eb90d34ebfb31fd804d0bac28c"
          }
        },
        "b531987b774a451cb03176f3e0d2fbfb": {
          "model_module": "@jupyter-widgets/controls",
          "model_name": "HTMLModel",
          "model_module_version": "1.5.0",
          "state": {
            "_dom_classes": [],
            "_model_module": "@jupyter-widgets/controls",
            "_model_module_version": "1.5.0",
            "_model_name": "HTMLModel",
            "_view_count": null,
            "_view_module": "@jupyter-widgets/controls",
            "_view_module_version": "1.5.0",
            "_view_name": "HTMLView",
            "description": "",
            "description_tooltip": null,
            "layout": "IPY_MODEL_832d30763cb2444797e8c2b6b838ebd0",
            "placeholder": "​",
            "style": "IPY_MODEL_006178c1b8594e1187028ba421fa2244",
            "value": "100%"
          }
        },
        "fd2c9f626c824318b5062aae59a69b70": {
          "model_module": "@jupyter-widgets/controls",
          "model_name": "FloatProgressModel",
          "model_module_version": "1.5.0",
          "state": {
            "_dom_classes": [],
            "_model_module": "@jupyter-widgets/controls",
            "_model_module_version": "1.5.0",
            "_model_name": "FloatProgressModel",
            "_view_count": null,
            "_view_module": "@jupyter-widgets/controls",
            "_view_module_version": "1.5.0",
            "_view_name": "ProgressView",
            "bar_style": "success",
            "description": "",
            "description_tooltip": null,
            "layout": "IPY_MODEL_d2c1bbc836794bca8b33c107b1c62dd5",
            "max": 394,
            "min": 0,
            "orientation": "horizontal",
            "style": "IPY_MODEL_1ff99cb44acc4155ab0aee62a41b2754",
            "value": 394
          }
        },
        "8375c2a2e3b04f35999078667a59be95": {
          "model_module": "@jupyter-widgets/controls",
          "model_name": "HTMLModel",
          "model_module_version": "1.5.0",
          "state": {
            "_dom_classes": [],
            "_model_module": "@jupyter-widgets/controls",
            "_model_module_version": "1.5.0",
            "_model_name": "HTMLModel",
            "_view_count": null,
            "_view_module": "@jupyter-widgets/controls",
            "_view_module_version": "1.5.0",
            "_view_name": "HTMLView",
            "description": "",
            "description_tooltip": null,
            "layout": "IPY_MODEL_6f2b140330c7443a875bd341f63021f4",
            "placeholder": "​",
            "style": "IPY_MODEL_9af974905cf44912a12485c8f2a220ed",
            "value": " 394/394 [00:00&lt;00:00, 671.06it/s]"
          }
        },
        "c7dee8eb90d34ebfb31fd804d0bac28c": {
          "model_module": "@jupyter-widgets/base",
          "model_name": "LayoutModel",
          "model_module_version": "1.2.0",
          "state": {
            "_model_module": "@jupyter-widgets/base",
            "_model_module_version": "1.2.0",
            "_model_name": "LayoutModel",
            "_view_count": null,
            "_view_module": "@jupyter-widgets/base",
            "_view_module_version": "1.2.0",
            "_view_name": "LayoutView",
            "align_content": null,
            "align_items": null,
            "align_self": null,
            "border": null,
            "bottom": null,
            "display": null,
            "flex": null,
            "flex_flow": null,
            "grid_area": null,
            "grid_auto_columns": null,
            "grid_auto_flow": null,
            "grid_auto_rows": null,
            "grid_column": null,
            "grid_gap": null,
            "grid_row": null,
            "grid_template_areas": null,
            "grid_template_columns": null,
            "grid_template_rows": null,
            "height": null,
            "justify_content": null,
            "justify_items": null,
            "left": null,
            "margin": null,
            "max_height": null,
            "max_width": null,
            "min_height": null,
            "min_width": null,
            "object_fit": null,
            "object_position": null,
            "order": null,
            "overflow": null,
            "overflow_x": null,
            "overflow_y": null,
            "padding": null,
            "right": null,
            "top": null,
            "visibility": null,
            "width": null
          }
        },
        "832d30763cb2444797e8c2b6b838ebd0": {
          "model_module": "@jupyter-widgets/base",
          "model_name": "LayoutModel",
          "model_module_version": "1.2.0",
          "state": {
            "_model_module": "@jupyter-widgets/base",
            "_model_module_version": "1.2.0",
            "_model_name": "LayoutModel",
            "_view_count": null,
            "_view_module": "@jupyter-widgets/base",
            "_view_module_version": "1.2.0",
            "_view_name": "LayoutView",
            "align_content": null,
            "align_items": null,
            "align_self": null,
            "border": null,
            "bottom": null,
            "display": null,
            "flex": null,
            "flex_flow": null,
            "grid_area": null,
            "grid_auto_columns": null,
            "grid_auto_flow": null,
            "grid_auto_rows": null,
            "grid_column": null,
            "grid_gap": null,
            "grid_row": null,
            "grid_template_areas": null,
            "grid_template_columns": null,
            "grid_template_rows": null,
            "height": null,
            "justify_content": null,
            "justify_items": null,
            "left": null,
            "margin": null,
            "max_height": null,
            "max_width": null,
            "min_height": null,
            "min_width": null,
            "object_fit": null,
            "object_position": null,
            "order": null,
            "overflow": null,
            "overflow_x": null,
            "overflow_y": null,
            "padding": null,
            "right": null,
            "top": null,
            "visibility": null,
            "width": null
          }
        },
        "006178c1b8594e1187028ba421fa2244": {
          "model_module": "@jupyter-widgets/controls",
          "model_name": "DescriptionStyleModel",
          "model_module_version": "1.5.0",
          "state": {
            "_model_module": "@jupyter-widgets/controls",
            "_model_module_version": "1.5.0",
            "_model_name": "DescriptionStyleModel",
            "_view_count": null,
            "_view_module": "@jupyter-widgets/base",
            "_view_module_version": "1.2.0",
            "_view_name": "StyleView",
            "description_width": ""
          }
        },
        "d2c1bbc836794bca8b33c107b1c62dd5": {
          "model_module": "@jupyter-widgets/base",
          "model_name": "LayoutModel",
          "model_module_version": "1.2.0",
          "state": {
            "_model_module": "@jupyter-widgets/base",
            "_model_module_version": "1.2.0",
            "_model_name": "LayoutModel",
            "_view_count": null,
            "_view_module": "@jupyter-widgets/base",
            "_view_module_version": "1.2.0",
            "_view_name": "LayoutView",
            "align_content": null,
            "align_items": null,
            "align_self": null,
            "border": null,
            "bottom": null,
            "display": null,
            "flex": null,
            "flex_flow": null,
            "grid_area": null,
            "grid_auto_columns": null,
            "grid_auto_flow": null,
            "grid_auto_rows": null,
            "grid_column": null,
            "grid_gap": null,
            "grid_row": null,
            "grid_template_areas": null,
            "grid_template_columns": null,
            "grid_template_rows": null,
            "height": null,
            "justify_content": null,
            "justify_items": null,
            "left": null,
            "margin": null,
            "max_height": null,
            "max_width": null,
            "min_height": null,
            "min_width": null,
            "object_fit": null,
            "object_position": null,
            "order": null,
            "overflow": null,
            "overflow_x": null,
            "overflow_y": null,
            "padding": null,
            "right": null,
            "top": null,
            "visibility": null,
            "width": null
          }
        },
        "1ff99cb44acc4155ab0aee62a41b2754": {
          "model_module": "@jupyter-widgets/controls",
          "model_name": "ProgressStyleModel",
          "model_module_version": "1.5.0",
          "state": {
            "_model_module": "@jupyter-widgets/controls",
            "_model_module_version": "1.5.0",
            "_model_name": "ProgressStyleModel",
            "_view_count": null,
            "_view_module": "@jupyter-widgets/base",
            "_view_module_version": "1.2.0",
            "_view_name": "StyleView",
            "bar_color": null,
            "description_width": ""
          }
        },
        "6f2b140330c7443a875bd341f63021f4": {
          "model_module": "@jupyter-widgets/base",
          "model_name": "LayoutModel",
          "model_module_version": "1.2.0",
          "state": {
            "_model_module": "@jupyter-widgets/base",
            "_model_module_version": "1.2.0",
            "_model_name": "LayoutModel",
            "_view_count": null,
            "_view_module": "@jupyter-widgets/base",
            "_view_module_version": "1.2.0",
            "_view_name": "LayoutView",
            "align_content": null,
            "align_items": null,
            "align_self": null,
            "border": null,
            "bottom": null,
            "display": null,
            "flex": null,
            "flex_flow": null,
            "grid_area": null,
            "grid_auto_columns": null,
            "grid_auto_flow": null,
            "grid_auto_rows": null,
            "grid_column": null,
            "grid_gap": null,
            "grid_row": null,
            "grid_template_areas": null,
            "grid_template_columns": null,
            "grid_template_rows": null,
            "height": null,
            "justify_content": null,
            "justify_items": null,
            "left": null,
            "margin": null,
            "max_height": null,
            "max_width": null,
            "min_height": null,
            "min_width": null,
            "object_fit": null,
            "object_position": null,
            "order": null,
            "overflow": null,
            "overflow_x": null,
            "overflow_y": null,
            "padding": null,
            "right": null,
            "top": null,
            "visibility": null,
            "width": null
          }
        },
        "9af974905cf44912a12485c8f2a220ed": {
          "model_module": "@jupyter-widgets/controls",
          "model_name": "DescriptionStyleModel",
          "model_module_version": "1.5.0",
          "state": {
            "_model_module": "@jupyter-widgets/controls",
            "_model_module_version": "1.5.0",
            "_model_name": "DescriptionStyleModel",
            "_view_count": null,
            "_view_module": "@jupyter-widgets/base",
            "_view_module_version": "1.2.0",
            "_view_name": "StyleView",
            "description_width": ""
          }
        }
      }
    }
  },
  "nbformat": 4,
  "nbformat_minor": 0
}